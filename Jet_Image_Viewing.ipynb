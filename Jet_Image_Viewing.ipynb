{
 "cells": [
  {
   "cell_type": "code",
   "execution_count": 1,
   "metadata": {},
   "outputs": [],
   "source": [
    "%load_ext autoreload\n",
    "%autoreload 2"
   ]
  },
  {
   "cell_type": "code",
   "execution_count": 2,
   "metadata": {},
   "outputs": [],
   "source": [
    "import torch\n",
    "import torchvision\n",
    "from torchvision import datasets, transforms\n",
    "import h5py\n",
    "import numpy as np\n",
    "import matplotlib.pyplot as plt"
   ]
  },
  {
   "cell_type": "code",
   "execution_count": 3,
   "metadata": {},
   "outputs": [],
   "source": [
    "hf_bb1 = h5py.File('data/jetimages_BlackBox1.h5', \"r\")\n",
    "hf_rnd = h5py.File('data/jetimages_rnd.h5','r')"
   ]
  },
  {
   "cell_type": "markdown",
   "metadata": {},
   "source": [
    "# Make some example plots of signal and background events"
   ]
  },
  {
   "cell_type": "code",
   "execution_count": 4,
   "metadata": {},
   "outputs": [
    {
     "data": {
      "text/plain": [
       "['j1_images', 'j2_images', 'jet_infos']"
      ]
     },
     "execution_count": 4,
     "metadata": {},
     "output_type": "execute_result"
    }
   ],
   "source": [
    "list(hf_rnd.keys())"
   ]
  },
  {
   "cell_type": "code",
   "execution_count": 5,
   "metadata": {},
   "outputs": [
    {
     "data": {
      "image/png": "[encoded data removed]",
      "text/plain": [
       "<Figure size 432x288 with 2 Axes>"
      ]
     },
     "metadata": {
      "needs_background": "light"
     },
     "output_type": "display_data"
    }
   ],
   "source": [
    "fig, (ax1, ax2) = plt.subplots(1,2)\n",
    "ax1.imshow(hf_rnd['j1_images'][19],cmap='gray')\n",
    "ax1.set_title('leading jet image')\n",
    "ax2.imshow(hf_rnd['j2_images'][19],cmap='gray')\n",
    "ax2.set_title('sub-leading jet image')\n",
    "fig.suptitle('signal event example - 3')\n",
    "plt.savefig('signal_event_example_3.png')"
   ]
  },
  {
   "cell_type": "code",
   "execution_count": 6,
   "metadata": {},
   "outputs": [
    {
     "data": {
      "image/png": "[encoded data removed]",
      "text/plain": [
       "<Figure size 432x288 with 2 Axes>"
      ]
     },
     "metadata": {
      "needs_background": "light"
     },
     "output_type": "display_data"
    }
   ],
   "source": [
    "fig, (ax1, ax2) = plt.subplots(1,2)\n",
    "ax1.imshow(hf_rnd['j1_images'][2],cmap='gray')\n",
    "ax1.set_title('leading jet image')\n",
    "ax2.imshow(hf_rnd['j2_images'][2],cmap='gray')\n",
    "ax2.set_title('sub-leading jet image')\n",
    "fig.suptitle('background event example - 3')\n",
    "plt.savefig('background_event_example_3.png')"
   ]
  },
  {
   "cell_type": "code",
   "execution_count": null,
   "metadata": {},
   "outputs": [],
   "source": []
  },
  {
   "cell_type": "code",
   "execution_count": 7,
   "metadata": {},
   "outputs": [
    {
     "data": {
      "text/plain": [
       "['j1_images', 'j2_images', 'jet_infos']"
      ]
     },
     "execution_count": 7,
     "metadata": {},
     "output_type": "execute_result"
    }
   ],
   "source": [
    "list(hf_rnd.keys())"
   ]
  },
  {
   "cell_type": "markdown",
   "metadata": {},
   "source": [
    "# Now make plots for images averaged over"
   ]
  },
  {
   "cell_type": "code",
   "execution_count": 8,
   "metadata": {},
   "outputs": [
    {
     "data": {
      "text/plain": [
       "['j1_images', 'j2_images', 'jet_infos']"
      ]
     },
     "execution_count": 8,
     "metadata": {},
     "output_type": "execute_result"
    }
   ],
   "source": [
    "list(hf_rnd.keys())"
   ]
  },
  {
   "cell_type": "code",
   "execution_count": 9,
   "metadata": {},
   "outputs": [],
   "source": [
    "signal_bit = hf_rnd['jet_infos'][:,0]"
   ]
  },
  {
   "cell_type": "code",
   "execution_count": 10,
   "metadata": {},
   "outputs": [],
   "source": [
    "signal_mask = (signal_bit > 0.9)\n",
    "background_mask = (signal_bit < 0.1)"
   ]
  },
  {
   "cell_type": "code",
   "execution_count": 11,
   "metadata": {},
   "outputs": [
    {
     "name": "stdout",
     "output_type": "stream",
     "text": [
      "[False False False ... False False False]\n",
      "[ True  True  True ...  True  True  True]\n"
     ]
    }
   ],
   "source": [
    "print(signal_mask)\n",
    "print(background_mask)"
   ]
  },
  {
   "cell_type": "code",
   "execution_count": 12,
   "metadata": {},
   "outputs": [],
   "source": [
    "jet_infos_rnd = hf_rnd['jet_infos']"
   ]
  },
  {
   "cell_type": "code",
   "execution_count": 13,
   "metadata": {},
   "outputs": [],
   "source": [
    "jet1_images = hf_rnd['j1_images']\n",
    "jet2_images = hf_rnd['j2_images']"
   ]
  },
  {
   "cell_type": "code",
   "execution_count": 14,
   "metadata": {},
   "outputs": [
    {
     "data": {
      "text/plain": [
       "(1100000, 40, 40)"
      ]
     },
     "execution_count": 14,
     "metadata": {},
     "output_type": "execute_result"
    }
   ],
   "source": [
    "jet1_images.shape"
   ]
  },
  {
   "cell_type": "code",
   "execution_count": 15,
   "metadata": {},
   "outputs": [],
   "source": [
    "jet1_images = np.array(jet1_images)"
   ]
  },
  {
   "cell_type": "code",
   "execution_count": null,
   "metadata": {},
   "outputs": [],
   "source": [
    "jet2_images = np.array(jet2_images)"
   ]
  },
  {
   "cell_type": "code",
   "execution_count": null,
   "metadata": {},
   "outputs": [],
   "source": [
    "jet1_images_signal = jet1_images[signal_mask]"
   ]
  },
  {
   "cell_type": "code",
   "execution_count": null,
   "metadata": {},
   "outputs": [],
   "source": [
    "jet1_images_background = jet1_images[background_mask]"
   ]
  },
  {
   "cell_type": "code",
   "execution_count": null,
   "metadata": {},
   "outputs": [],
   "source": [
    "jet2_images_signal = jet2_images[signal_mask]"
   ]
  },
  {
   "cell_type": "code",
   "execution_count": null,
   "metadata": {},
   "outputs": [],
   "source": [
    "jet2_images_background = jet2_images[background_mask]"
   ]
  },
  {
   "cell_type": "code",
   "execution_count": null,
   "metadata": {},
   "outputs": [],
   "source": [
    "jet1_signal_mean = np.mean(jet1_images_signal,axis=0)"
   ]
  },
  {
   "cell_type": "code",
   "execution_count": null,
   "metadata": {},
   "outputs": [],
   "source": [
    "jet1_background_mean = np.mean(jet1_images_background,axis=0)"
   ]
  },
  {
   "cell_type": "code",
   "execution_count": null,
   "metadata": {},
   "outputs": [],
   "source": [
    "jet2_signal_mean = np.mean(jet2_images_signal,axis=0)"
   ]
  },
  {
   "cell_type": "code",
   "execution_count": null,
   "metadata": {},
   "outputs": [],
   "source": [
    "jet2_background_mean = np.mean(jet2_images_background,axis=0)"
   ]
  },
  {
   "cell_type": "code",
   "execution_count": null,
   "metadata": {},
   "outputs": [],
   "source": [
    "fig, (ax1, ax2) = plt.subplots(1,2)\n",
    "ax1.imshow(jet1_signal_mean,cmap='gray')\n",
    "ax1.set_title('leading jet image')\n",
    "ax2.imshow(jet2_signal_mean,cmap='gray')\n",
    "ax2.set_title('sub-leading jet image')\n",
    "fig.suptitle('mean over all the signal events')\n",
    "plt.savefig('mean_over_all_the_signal_events.png')"
   ]
  },
  {
   "cell_type": "code",
   "execution_count": null,
   "metadata": {},
   "outputs": [],
   "source": [
    "fig, (ax1, ax2) = plt.subplots(1,2)\n",
    "ax1.imshow(jet1_background_mean,cmap='gray')\n",
    "ax1.set_title('leading jet image')\n",
    "ax2.imshow(jet2_background_mean,cmap='gray')\n",
    "ax2.set_title('sub-leading jet image')\n",
    "fig.suptitle('mean over all the background events')\n",
    "plt.savefig('mean_over_all_the_background_events.png')"
   ]
  },
  {
   "cell_type": "code",
   "execution_count": null,
   "metadata": {},
   "outputs": [],
   "source": [
    "import matplotlib\n",
    "import matplotlib.pyplot as plt\n",
    "import matplotlib.cm as cm\n",
    "from matplotlib.colors import LogNorm, Normalize\n",
    "%matplotlib inline"
   ]
  },
  {
   "cell_type": "code",
   "execution_count": null,
   "metadata": {},
   "outputs": [],
   "source": [
    "def plot_jet_image(content, vmin=1e-7, vmax=300, title=''):\n",
    "    '''\n",
    "    Function to help you visualize a jet image on a log scale\n",
    "    Args:\n",
    "    -----\n",
    "       content : numpy array of dimensions 25x25, first arg to imshow, content of the image\n",
    "                 e.g.: generated_images.mean(axis=0) --> the average generated image\n",
    "                       real_images.mean(axis=0) --> the average Pythia image\n",
    "                       generated_images[aux_out == 1].mean(axis=0) --> the average generated image labeled as real by the discriminator \n",
    "                       etc...\n",
    "       vmin : (default = 1e-6) float, lower bound of the pixel intensity scale before saturation\n",
    "       vmax : (default = 300) float, upper bound of the pixel intensity scale before saturation\n",
    "       title : (default = '') string, title of the plot, to be displayed on top of the image\n",
    "    '''\n",
    "    fig, ax = plt.subplots(figsize=(7, 6))\n",
    "    #extent=[-1.25, 1.25, -1.25, 1.25]\n",
    "    im = ax.imshow(content, interpolation='nearest', norm=LogNorm(vmin=vmin, vmax=vmax))\n",
    "    cbar = plt.colorbar(im, fraction=0.05, pad=0.05)\n",
    "    cbar.set_label(r'Pixel $p_T$ (GeV)', y=0.85)\n",
    "    #plt.xlabel(r'[Transformed] Pseudorapidity $(\\eta)$')\n",
    "    #plt.ylabel(r'[Transformed] Azimuthal Angle $(\\phi)$')\n",
    "    plt.title(title)"
   ]
  },
  {
   "cell_type": "code",
   "execution_count": null,
   "metadata": {},
   "outputs": [],
   "source": [
    "plot_jet_image(hf_rnd['j2_images'][0])\n",
    "#plt.savefig('plots/signal_example_subleading.png')"
   ]
  },
  {
   "cell_type": "code",
   "execution_count": null,
   "metadata": {},
   "outputs": [],
   "source": [
    "fig, (ax1, ax2) = plt.subplots(1,2)\n",
    "ax1.imshow(hf_rnd['j1_images'][11],cmap='gray')\n",
    "ax1.set_title('leading jet image')\n",
    "ax2.imshow(hf_rnd['j2_images'][11],cmap='gray')\n",
    "ax2.set_title('sub-leading jet image')\n",
    "#fig.suptitle('background event example - 3')\n",
    "#plt.savefig('background_event_example_3.png')"
   ]
  },
  {
   "cell_type": "code",
   "execution_count": null,
   "metadata": {},
   "outputs": [],
   "source": []
  }
 ],
 "metadata": {
  "kernelspec": {
   "display_name": "Python 3",
   "language": "python",
   "name": "python3"
  },
  "language_info": {
   "codemirror_mode": {
    "name": "ipython",
    "version": 3
   },
   "file_extension": ".py",
   "mimetype": "text/x-python",
   "name": "python",
   "nbconvert_exporter": "python",
   "pygments_lexer": "ipython3",
   "version": "3.6.10"
  }
 },
 "nbformat": 4,
 "nbformat_minor": 2
}

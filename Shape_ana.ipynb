{
 "cells": [
  {
   "cell_type": "code",
   "execution_count": 18,
   "metadata": {},
   "outputs": [
    {
     "name": "stderr",
     "output_type": "stream",
     "text": [
      "Channel signal_region has bin 56 fill in data but empty in all backgrounds\n",
      "Channel signal_region has bin 62 fill in data but empty in all backgrounds\n",
      "Channel signal_region has bin 67 fill in data but empty in all backgrounds\n"
     ]
    }
   ],
   "source": [
    "%%bash\n",
    "text2workspace.py datacard_shape_blackbox2.txt -m 3823 -o workspace_blackbox2.root"
   ]
  },
  {
   "cell_type": "code",
   "execution_count": 67,
   "metadata": {},
   "outputs": [
    {
     "name": "stdout",
     "output_type": "stream",
     "text": [
      " <<< Combine >>> \n",
      ">>> method used is AsymptoticLimits\n",
      ">>> random number generator seed is 123456\n",
      "SimNLL created with 1 channels, 0 generic constraints, 3 fast gaussian constraints, 0 fast poisson constraints, 0 fast group constraints, \n",
      "SimNLL created with 1 channels, 0 generic constraints, 3 fast gaussian constraints, 0 fast poisson constraints, 0 fast group constraints, \n",
      "SimNLL created with 1 channels, 0 generic constraints, 3 fast gaussian constraints, 0 fast poisson constraints, 0 fast group constraints, \n",
      "\n",
      " -- AsymptoticLimits ( CLs ) --\n",
      "Observed Limit: r < 0.3755\n",
      "Expected  2.5%: r < 0.0292\n",
      "Expected 16.0%: r < 0.0451\n",
      "Expected 50.0%: r < 0.0718\n",
      "Expected 84.0%: r < 0.1093\n",
      "Expected 97.5%: r < 0.1548\n",
      "\n",
      "Done in 0.00 min (cpu), 0.00 min (real)\n"
     ]
    },
    {
     "name": "stderr",
     "output_type": "stream",
     "text": [
      "Warning! -- You haven't picked default values for the Parameters of Interest (either with --expectSignal or --setParameters) for generating toys. Combine will use the 'B-only' ModelConfig to generate, which may lead to undesired behaviour if not using the default Physics Model\n"
     ]
    }
   ],
   "source": [
    "%%bash\n",
    "combine -M AsymptoticLimits workspace_blackbox2.root -m 3823"
   ]
  },
  {
   "cell_type": "code",
   "execution_count": 9,
   "metadata": {},
   "outputs": [
    {
     "name": "stdout",
     "output_type": "stream",
     "text": [
      " <<< Combine >>> \n",
      ">>> method used is Significance\n",
      ">>> random number generator seed is 123456\n",
      "\n",
      " -- Significance -- \n",
      "Significance: 2.17147\n",
      "Done in 0.00 min (cpu), 0.00 min (real)\n"
     ]
    },
    {
     "name": "stderr",
     "output_type": "stream",
     "text": [
      "Warning! -- You haven't picked default values for the Parameters of Interest (either with --expectSignal or --setParameters) for generating toys. Combine will use the 'B-only' ModelConfig to generate, which may lead to undesired behaviour if not using the default Physics Model\n"
     ]
    }
   ],
   "source": [
    "%%bash\n",
    "combine -M Significance workspace_blackbox3.root -m 4700"
   ]
  },
  {
   "cell_type": "code",
   "execution_count": 19,
   "metadata": {},
   "outputs": [
    {
     "name": "stdout",
     "output_type": "stream",
     "text": [
      " <<< Combine >>> \n",
      ">>> method used is FitDiagnostics\n",
      ">>> random number generator seed is 123456\n",
      "SimNLL created with 0 channels, 0 generic constraints, 3 fast gaussian constraints, 0 fast poisson constraints, 0 fast group constraints, \n",
      "SimNLL created with 1 channels, 0 generic constraints, 3 fast gaussian constraints, 0 fast poisson constraints, 0 fast group constraints, \n",
      "\n",
      " --- FitDiagnostics ---\n",
      "Best fit r: 0.22805  -0.0987186/+0.0625115  (68% CL)\n",
      "Done in 0.01 min (cpu), 0.01 min (real)\n"
     ]
    },
    {
     "name": "stderr",
     "output_type": "stream",
     "text": [
      "Warning! -- You haven't picked default values for the Parameters of Interest (either with --expectSignal or --setParameters) for generating toys. Combine will use the 'B-only' ModelConfig to generate, which may lead to undesired behaviour if not using the default Physics Model\n"
     ]
    }
   ],
   "source": [
    "%%bash\n",
    "combine -M FitDiagnostics workspace_blackbox2.root -m 4100 --saveShapes --saveWithUncertainties"
   ]
  },
  {
   "cell_type": "code",
   "execution_count": 70,
   "metadata": {},
   "outputs": [
    {
     "name": "stdout",
     "output_type": "stream",
     "text": [
      "TFile**\t\tfitDiagnostics.root\t\n",
      " TFile*\t\tfitDiagnostics.root\t\n",
      "  KEY: TDirectoryFile\tshapes_prefit;1\tshapes_prefit\n",
      "  KEY: RooArgSet\tnorm_prefit;1\tSet of RooAbsArg objects\n",
      "  KEY: TProcessID\tProcessID0;1\t7020d462-8bd9-11ea-bdfa-51700412beef\n",
      "  KEY: RooFitResult\tnuisances_prefit_res;1\t\n",
      "  KEY: RooArgSet\tnuisances_prefit;1\tSet of RooAbsArg objects\n",
      "  KEY: RooFitResult\tfit_b;1\t\n",
      "  KEY: TDirectoryFile\tshapes_fit_b;1\tshapes_fit_b\n",
      "  KEY: RooArgSet\tnorm_fit_b;1\tSet of RooAbsArg objects\n",
      "  KEY: RooFitResult\tfit_s;1\t\n",
      "  KEY: TDirectoryFile\tshapes_fit_s;1\tshapes_fit_s\n",
      "  KEY: RooArgSet\tnorm_fit_s;1\tSet of RooAbsArg objects\n",
      "  KEY: TTree\ttree_fit_sb;1\ttree_fit_sb\n",
      "  KEY: TTree\ttree_fit_b;1\ttree_fit_b\n",
      "  KEY: TTree\ttree_prefit;1\ttree_prefit\n"
     ]
    }
   ],
   "source": [
    "fin = ROOT.TFile('fitDiagnostics.root','read')\n",
    "fin.ls()\n",
    "fin.Close()"
   ]
  },
  {
   "cell_type": "code",
   "execution_count": 21,
   "metadata": {},
   "outputs": [
    {
     "name": "stdout",
     "output_type": "stream",
     "text": [
      "<ROOT.TH1F object (\"total_background\") at 0x834f8f0>\n"
     ]
    },
    {
     "name": "stderr",
     "output_type": "stream",
     "text": [
      "Info in <TCanvas::Print>: pdf file plot-bb2.pdf has been created\n",
      "Info in <TCanvas::Print>: png file plot-bb2.png has been created\n"
     ]
    }
   ],
   "source": [
    "import plotting as plot\n",
    "import ROOT\n",
    "\n",
    "ROOT.PyConfig.IgnoreCommandLineOptions = True\n",
    "ROOT.gROOT.SetBatch(ROOT.kTRUE)\n",
    "\n",
    "plot.ModTDRStyle()\n",
    "canvas = ROOT.TCanvas()\n",
    "\n",
    "fin = ROOT.TFile('fitDiagnostics.root')\n",
    "\n",
    "first_dir = 'shapes_fit_b'\n",
    "second_dir = 'signal_region'\n",
    "\n",
    "h_bkg = fin.Get(first_dir + '/' + second_dir + '/total_background')\n",
    "h_sig = fin.Get('shapes_fit_s' + '/' + second_dir + '/total_signal')\n",
    "h_dat = fin.Get(first_dir + '/' + second_dir + '/data')  # This is a TGraphAsymmErrors, not a TH1F\n",
    "\n",
    "print(h_bkg)\n",
    "\n",
    "h_bkg.SetFillColor(ROOT.TColor.GetColor(100, 192, 232))\n",
    "h_bkg.GetXaxis().SetTitle(\"m_{JJ} [GeV]\")\n",
    "h_bkg.Draw('HIST')\n",
    "\n",
    "h_err = h_bkg.Clone()\n",
    "h_err.SetFillColorAlpha(12, 0.3)  # Set grey colour (12) and alpha (0.3)\n",
    "h_err.SetMarkerSize(0)\n",
    "h_err.Draw('E2SAME')\n",
    "\n",
    "h_sig.SetLineColor(ROOT.kRed)\n",
    "h_sig.Draw('HISTSAME')\n",
    "\n",
    "h_dat.Draw('PSAME')\n",
    "\n",
    "h_bkg.SetMaximum(h_bkg.GetMaximum() * 1.4)\n",
    "\n",
    "legend = ROOT.TLegend(0.60, 0.70, 0.90, 0.91, '', 'NBNDC')\n",
    "legend.AddEntry(h_bkg, 'Background', 'F')\n",
    "legend.AddEntry(h_sig, 'Signal', 'L')\n",
    "legend.AddEntry(h_err, 'Background uncertainty', 'F')\n",
    "legend.Draw()\n",
    "\n",
    "canvas.SaveAs('plot-bb2.pdf')\n",
    "canvas.SaveAs('plot-bb2.png')"
   ]
  },
  {
   "cell_type": "code",
   "execution_count": 14,
   "metadata": {
    "scrolled": true
   },
   "outputs": [
    {
     "name": "stdout",
     "output_type": "stream",
     "text": [
      "Welcome to JupyROOT 6.12/07\n"
     ]
    }
   ],
   "source": [
    "import ROOT as rt"
   ]
  },
  {
   "cell_type": "code",
   "execution_count": 74,
   "metadata": {},
   "outputs": [],
   "source": [
    "fd = ROOT.TFile.Open(\"fitDiagnostics.root\",'read')"
   ]
  },
  {
   "cell_type": "code",
   "execution_count": 75,
   "metadata": {},
   "outputs": [
    {
     "name": "stdout",
     "output_type": "stream",
     "text": [
      "TFile**\t\tfitDiagnostics.root\t\n",
      " TFile*\t\tfitDiagnostics.root\t\n",
      "  KEY: TDirectoryFile\tshapes_prefit;1\tshapes_prefit\n",
      "  KEY: RooArgSet\tnorm_prefit;1\tSet of RooAbsArg objects\n",
      "  KEY: TProcessID\tProcessID0;1\t7020d462-8bd9-11ea-bdfa-51700412beef\n",
      "  KEY: RooFitResult\tnuisances_prefit_res;1\t\n",
      "  KEY: RooArgSet\tnuisances_prefit;1\tSet of RooAbsArg objects\n",
      "  KEY: RooFitResult\tfit_b;1\t\n",
      "  KEY: TDirectoryFile\tshapes_fit_b;1\tshapes_fit_b\n",
      "  KEY: RooArgSet\tnorm_fit_b;1\tSet of RooAbsArg objects\n",
      "  KEY: RooFitResult\tfit_s;1\t\n",
      "  KEY: TDirectoryFile\tshapes_fit_s;1\tshapes_fit_s\n",
      "  KEY: RooArgSet\tnorm_fit_s;1\tSet of RooAbsArg objects\n",
      "  KEY: TTree\ttree_fit_sb;1\ttree_fit_sb\n",
      "  KEY: TTree\ttree_fit_b;1\ttree_fit_b\n",
      "  KEY: TTree\ttree_prefit;1\ttree_prefit\n"
     ]
    }
   ],
   "source": [
    "fd.ls()"
   ]
  },
  {
   "cell_type": "code",
   "execution_count": 76,
   "metadata": {},
   "outputs": [],
   "source": [
    "obj = fd.Get('fit_s')"
   ]
  },
  {
   "cell_type": "code",
   "execution_count": 77,
   "metadata": {},
   "outputs": [
    {
     "name": "stdout",
     "output_type": "stream",
     "text": [
      "\n",
      "  RooFitResult: minimized FCN value: -369.194, estimated distance to minimum: 1.86119e-06\n",
      "                covariance matrix quality: Full, accurate covariance matrix\n",
      "                Status : MINIMIZE=0 HESSE=0 \n",
      "\n",
      "    Floating Parameter    FinalValue +/-  Error   \n",
      "  --------------------  --------------------------\n",
      "                  lumi   -3.3571e-01 +/-  1.21e-01\n",
      "                     r    2.8834e-01 +/-  5.01e-02\n",
      "                 scale    2.0079e-01 +/-  1.07e-01\n",
      "                 smear   -1.0940e+00 +/-  1.93e-01\n",
      "\n"
     ]
    }
   ],
   "source": [
    "obj.Print()"
   ]
  },
  {
   "cell_type": "code",
   "execution_count": null,
   "metadata": {},
   "outputs": [],
   "source": []
  }
 ],
 "metadata": {
  "kernelspec": {
   "display_name": "statistics-das",
   "language": "python",
   "name": "statistics-das"
  },
  "language_info": {
   "codemirror_mode": {
    "name": "ipython",
    "version": 2
   },
   "file_extension": ".py",
   "mimetype": "text/x-python",
   "name": "python",
   "nbconvert_exporter": "python",
   "pygments_lexer": "ipython2",
   "version": "2.7.14+"
  }
 },
 "nbformat": 4,
 "nbformat_minor": 4
}

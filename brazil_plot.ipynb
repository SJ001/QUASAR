{
 "cells": [
  {
   "cell_type": "code",
   "execution_count": 2,
   "metadata": {},
   "outputs": [],
   "source": [
    "import numpy as np\n",
    "import ROOT as rt"
   ]
  },
  {
   "cell_type": "code",
   "execution_count": 14,
   "metadata": {},
   "outputs": [
    {
     "name": "stdout",
     "output_type": "stream",
     "text": [
      "[2000, 2200, 2400, 2600, 2800, 3000, 3200, 3400, 3600, 3800, 4000, 4200, 4400, 4600, 4800, 5000, 5200, 5400, 5600, 5800, 6000, 6200]\n",
      "2000\n",
      "2200\n",
      "2400\n",
      "2600\n",
      "2800\n",
      "3000\n",
      "3200\n",
      "3400\n",
      "3600\n",
      "3800\n",
      "4000\n",
      "4200\n",
      "4400\n",
      "4600\n",
      "4800\n",
      "5000\n",
      "5200\n",
      "5400\n",
      "5600\n",
      "5800\n",
      "6000\n"
     ]
    }
   ],
   "source": [
    "binning = list(range(2000,6400,200))\n",
    "print(binning)\n",
    "obs = []\n",
    "expNeg2 = []\n",
    "expNeg1 = []\n",
    "expPos1 = []\n",
    "expPos2 = []\n",
    "mass = []\n",
    "xsec = []\n",
    "\n",
    "for i in range(len(binning)-1):\n",
    "    print(binning[i])\n",
    "    mass.append(0.5*(binning[i]+binning[i+1]))\n",
    "    from_file = f'./datacards/bb3_grepped_res_{binning[i]}_{binning[i+1]}.txt'\n",
    "    in_file = open(from_file)\n",
    "    in_file.readline()\n",
    "    ###obs\n",
    "    line = in_file.readline()\n",
    "    obs.append(float(line.split('< ')[-1]))\n",
    "    \n",
    "    ##xsecNeg2\n",
    "    line = in_file.readline()\n",
    "    xsecNeg2 = float(line.split('< ')[-1])\n",
    "    \n",
    "    ##xsecNeg1\n",
    "    line = in_file.readline()\n",
    "    xsecNeg1 = float(line.split('< ')[-1])\n",
    "    \n",
    "    #xsec\n",
    "    line = in_file.readline()\n",
    "    d_xsec = float(line.split('< ')[-1])\n",
    "    xsec.append(d_xsec)\n",
    "    \n",
    "    #xsecPos1\n",
    "    line = in_file.readline()\n",
    "    xsecPos1 = float(line.split('< ')[-1])\n",
    "    \n",
    "    #xsecPos2\n",
    "    line = in_file.readline()\n",
    "    xsecPos2 = float(line.split('< ')[-1])\n",
    "    \n",
    "    expNeg2.append(d_xsec-xsecNeg2)\n",
    "    expNeg1.append(d_xsec-xsecNeg1)\n",
    "    expPos1.append(xsecPos1-d_xsec)\n",
    "    expPos2.append(xsecPos2-d_xsec)\n",
    "    \n",
    "    \n",
    "    \n",
    "    #res = [int(i) for i in line.split() if i.isdigit()] \n",
    "    "
   ]
  },
  {
   "cell_type": "code",
   "execution_count": 16,
   "metadata": {},
   "outputs": [
    {
     "name": "stdout",
     "output_type": "stream",
     "text": [
      "21\n"
     ]
    }
   ],
   "source": [
    "print(len(mass))\n",
    "mass = np.array(mass, dtype = np.float)\n",
    "obs = np.array(obs,dtype = np.float)\n",
    "expNeg2 = np.array(expNeg2,dtype = np.float)\n",
    "expNeg1 = np.array(expNeg1,dtype = np.float)\n",
    "expPos1 = np.array(expPos1,dtype = np.float)\n",
    "expPos2 = np.array(expPos2,dtype = np.float)\n",
    "xsec = np.array(xsec,dtype = np.float)"
   ]
  },
  {
   "cell_type": "code",
   "execution_count": 20,
   "metadata": {},
   "outputs": [
    {
     "name": "stdout",
     "output_type": "stream",
     "text": [
      "21\n"
     ]
    }
   ],
   "source": [
    "print(len(xsec))"
   ]
  },
  {
   "cell_type": "code",
   "execution_count": 19,
   "metadata": {},
   "outputs": [
    {
     "data": {
      "text/plain": [
       "array([2100., 2300., 2500., 2700., 2900., 3100., 3300., 3500., 3700.,\n",
       "       3900., 4100., 4300., 4500., 4700., 4900., 5100., 5300., 5500.,\n",
       "       5700., 5900., 6100.])"
      ]
     },
     "execution_count": 19,
     "metadata": {},
     "output_type": "execute_result"
    }
   ],
   "source": [
    "len(mass)\n",
    "mass"
   ]
  },
  {
   "cell_type": "code",
   "execution_count": 21,
   "metadata": {},
   "outputs": [
    {
     "name": "stderr",
     "output_type": "stream",
     "text": [
      "Warning in <TCanvas::Constructor>: Deleting canvas with same name: c_xsec\n",
      "Info in <TCanvas::Print>: png file BB3_c_xsec_StopOptimization.png has been created\n",
      "Info in <TCanvas::Print>: pdf file BB3_c_xsec_StopOptimization.pdf has been created\n"
     ]
    }
   ],
   "source": [
    "#TStyle *tdrStyle=setTDRStyle();\n",
    "#tdrStyle->cd();\n",
    "#tdrStyle->SetPadLeftMargin(0.14);\n",
    "#tdrStyle->SetTitleYOffset(1.6);\n",
    "\n",
    "c_xsec=rt.TCanvas(\"c_xsec\", \"c_xsec\", 700, 700)\n",
    "c_xsec.SetLogy()\n",
    "g_xsec = rt.TGraph(len(mass), mass, xsec)\n",
    "g_xsec.SetTitle(\"; M_{JJ} [GeV]; 95 % CL limit Count\")\n",
    "g_xsec.SetLineWidth(2)\n",
    "g_xsec.SetLineStyle(2)\n",
    "g_xsec_1sigma = rt.TGraphAsymmErrors(len(mass), mass, xsec, rt.nullptr, rt.nullptr, expNeg1, expPos1)\n",
    "g_xsec_1sigma.SetLineColor(rt.kGreen)\n",
    "g_xsec_1sigma.SetFillColor(rt.kGreen)\n",
    "g_xsec_2sigma = rt.TGraphAsymmErrors(len(mass), mass, xsec, rt.nullptr, rt.nullptr, expNeg2, expPos2)\n",
    "g_xsec_2sigma.SetLineColor(rt.kYellow)\n",
    "g_xsec_2sigma.SetFillColor(rt.kYellow)\n",
    "g_xsec.SetMaximum(1e3)\n",
    "g_xsec.SetMinimum(1)\n",
    "g_xsec.Draw(\"AL\")\n",
    "g_xsec_2sigma.Draw(\"3\")\n",
    "g_xsec_1sigma.Draw(\"3\")\n",
    "g_xsec.Draw(\"L\")\n",
    "#g_xsec_theory= rt.TGraph(mass.size(), &mass[0], &xsec_theory[0])\n",
    "#g_xsec_theory.SetLineColor(kRed)\n",
    "#g_xsec_theory.SetLineWidth(2)\n",
    "#g_xsec_theory.Draw(\"L\")\n",
    "g_obs = rt.TGraph(len(mass), mass, obs)\n",
    "g_obs.SetLineWidth(2)\n",
    "g_obs.SetLineStyle(1)\n",
    "g_obs.SetMarkerStyle(20)\n",
    "g_obs.Draw(\"LP SAME\")\n",
    "c_xsec.SetTicks(1, 1)\n",
    "text1 = rt.TLatex(1.10061,18.08044,\"LHC Olympics, Black Box 3\")\n",
    "text1.SetNDC()\n",
    "text1.SetTextAlign(10)\n",
    "text1.SetX(0.15)\n",
    "text1.SetY(0.90)\n",
    "text1.SetTextFont(42)\n",
    "text1.SetTextSize(0.03)\n",
    "text1.SetTextSizePixels(15)\n",
    "text1.Draw()\n",
    "leg = rt.TLegend(0.30, 0.65, 0.88, 0.85)\n",
    "leg.SetFillStyle(1)\n",
    "leg.SetFillColor(rt.kWhite) \n",
    "leg.SetLineColor(rt.kWhite) \n",
    "leg.SetTextSize(0.04)\n",
    "leg.AddEntry(g_xsec, \"Expected upper limit\", \"L\")\n",
    "leg.AddEntry(g_xsec_1sigma, \"Expected #pm 1 #sigma\", \"F\")\n",
    "leg.AddEntry(g_xsec_2sigma, \"Expected #pm 2 #sigma\", \"F\")\n",
    "#leg.AddEntry(g_xsec_theory, \"Theoretical cross section\", \"L\")\n",
    "leg.AddEntry(g_obs, \"Observed upper limit\", \"LP\")\n",
    "leg.Draw()\n",
    "c_xsec.SaveAs(\"BB3_c_xsec_StopOptimization.png\")\n",
    "c_xsec.SaveAs(\"BB3_c_xsec_StopOptimization.pdf\")"
   ]
  },
  {
   "cell_type": "code",
   "execution_count": null,
   "metadata": {},
   "outputs": [],
   "source": []
  }
 ],
 "metadata": {
  "kernelspec": {
   "display_name": "Python 3",
   "language": "python",
   "name": "python3"
  },
  "language_info": {
   "codemirror_mode": {
    "name": "ipython",
    "version": 3
   },
   "file_extension": ".py",
   "mimetype": "text/x-python",
   "name": "python",
   "nbconvert_exporter": "python",
   "pygments_lexer": "ipython3",
   "version": "3.6.7"
  }
 },
 "nbformat": 4,
 "nbformat_minor": 4
}

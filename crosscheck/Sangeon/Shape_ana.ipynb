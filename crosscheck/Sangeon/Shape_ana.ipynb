{
 "cells": [
  {
   "cell_type": "code",
   "execution_count": 1,
   "metadata": {},
   "outputs": [
    {
     "name": "stderr",
     "output_type": "stream",
     "text": [
      "Channel signal_region has bin 59 fill in data but empty in all backgrounds\n",
      "Channel signal_region has bin 60 fill in data but empty in all backgrounds\n",
      "Channel signal_region has bin 68 fill in data but empty in all backgrounds\n"
     ]
    }
   ],
   "source": [
    "%%bash\n",
    "text2workspace.py datacard_shape_blackbox_1000.txt -m 3500 -o workspace_blackbox_1000.root"
   ]
  },
  {
   "cell_type": "code",
   "execution_count": 2,
   "metadata": {},
   "outputs": [
    {
     "name": "stdout",
     "output_type": "stream",
     "text": [
      " <<< Combine >>> \n",
      ">>> method used is AsymptoticLimits\n",
      ">>> random number generator seed is 123456\n",
      "SimNLL created with 1 channels, 0 generic constraints, 3 fast gaussian constraints, 0 fast poisson constraints, 0 fast group constraints, \n",
      "SimNLL created with 1 channels, 0 generic constraints, 3 fast gaussian constraints, 0 fast poisson constraints, 0 fast group constraints, \n",
      "SimNLL created with 1 channels, 0 generic constraints, 3 fast gaussian constraints, 0 fast poisson constraints, 0 fast group constraints, \n",
      "\n",
      " -- AsymptoticLimits ( CLs ) --\n",
      "Observed Limit: r < 0.4507\n",
      "Expected  2.5%: r < 0.0063\n",
      "Expected 16.0%: r < 0.0095\n",
      "Expected 50.0%: r < 0.0156\n",
      "Expected 84.0%: r < 0.0241\n",
      "Expected 97.5%: r < 0.0340\n",
      "\n",
      "Done in 0.00 min (cpu), 0.00 min (real)\n"
     ]
    },
    {
     "name": "stderr",
     "output_type": "stream",
     "text": [
      "Warning! -- You haven't picked default values for the Parameters of Interest (either with --expectSignal or --setParameters) for generating toys. Combine will use the 'B-only' ModelConfig to generate, which may lead to undesired behaviour if not using the default Physics Model\n"
     ]
    }
   ],
   "source": [
    "%%bash\n",
    "combine -M AsymptoticLimits workspace_blackbox_1000.root -m 3500"
   ]
  },
  {
   "cell_type": "code",
   "execution_count": 3,
   "metadata": {},
   "outputs": [
    {
     "name": "stdout",
     "output_type": "stream",
     "text": [
      " <<< Combine >>> \n",
      ">>> method used is Significance\n",
      ">>> random number generator seed is 123456\n",
      "\n",
      " -- Significance -- \n",
      "Significance: 28.8277\n",
      "Done in 0.00 min (cpu), 0.00 min (real)\n"
     ]
    },
    {
     "name": "stderr",
     "output_type": "stream",
     "text": [
      "Warning! -- You haven't picked default values for the Parameters of Interest (either with --expectSignal or --setParameters) for generating toys. Combine will use the 'B-only' ModelConfig to generate, which may lead to undesired behaviour if not using the default Physics Model\n"
     ]
    }
   ],
   "source": [
    "%%bash\n",
    "combine -M Significance workspace_blackbox_1000.root -m 3500"
   ]
  },
  {
   "cell_type": "code",
   "execution_count": 4,
   "metadata": {},
   "outputs": [
    {
     "name": "stdout",
     "output_type": "stream",
     "text": [
      " <<< Combine >>> \n",
      ">>> method used is FitDiagnostics\n",
      ">>> random number generator seed is 123456\n",
      "SimNLL created with 0 channels, 0 generic constraints, 3 fast gaussian constraints, 0 fast poisson constraints, 0 fast group constraints, \n",
      "SimNLL created with 1 channels, 0 generic constraints, 3 fast gaussian constraints, 0 fast poisson constraints, 0 fast group constraints, \n",
      "\n",
      " --- FitDiagnostics ---\n",
      "Best fit r: 0.449501  -0.0351455/+0.0378058  (68% CL)\n",
      "Done in 0.01 min (cpu), 0.01 min (real)\n"
     ]
    },
    {
     "name": "stderr",
     "output_type": "stream",
     "text": [
      "Warning! -- You haven't picked default values for the Parameters of Interest (either with --expectSignal or --setParameters) for generating toys. Combine will use the 'B-only' ModelConfig to generate, which may lead to undesired behaviour if not using the default Physics Model\n"
     ]
    }
   ],
   "source": [
    "%%bash\n",
    "combine -M FitDiagnostics workspace_blackbox_1000.root -m 3500 --saveShapes --saveWithUncertainties"
   ]
  },
  {
   "cell_type": "code",
   "execution_count": 5,
   "metadata": {},
   "outputs": [
    {
     "name": "stdout",
     "output_type": "stream",
     "text": [
      "Welcome to JupyROOT 6.12/07\n"
     ]
    }
   ],
   "source": [
    "import ROOT\n",
    "fin = ROOT.TFile('fitDiagnostics.root','read')\n",
    "#fin.ls()\n",
    "fin.cd('shapes_fit_b/signal_region')\n",
    "#fin.cd('signal_region')\n",
    "fin.ls()\n",
    "fin.Close()"
   ]
  },
  {
   "cell_type": "code",
   "execution_count": 5,
   "metadata": {},
   "outputs": [],
   "source": [
    "def fix(iH0,iH1):\n",
    "    lTHist = ROOT.TH1F(iH1.GetName(),iH1.GetName(),iH0.GetNbinsX(),iH0.GetXaxis().GetXmin(),iH0.GetXaxis().GetXmax())\n",
    "    for i0 in range(0,iH0.GetNbinsX()+1):\n",
    "        print(i0,iH1.GetBinContent(i0))\n",
    "        lTHist.SetBinContent(i0,iH1.GetBinContent(i0))\n",
    "        lTHist.SetBinError(i0,iH1.GetBinError(i0))\n",
    "    lTHist.SetFillStyle(iH1.GetFillStyle())\n",
    "    lTHist.SetFillColor(iH1.GetFillColor())\n",
    "    lTHist.SetLineColor(iH1.GetLineColor())\n",
    "    lTHist.SetLineStyle(iH1.GetLineStyle())\n",
    "    return lTHist"
   ]
  },
  {
   "cell_type": "code",
   "execution_count": 6,
   "metadata": {},
   "outputs": [],
   "source": [
    "def fix_graph(iH0,iH1):\n",
    "    lTGraph = ROOT.TGraphAsymmErrors(iH1.GetN())\n",
    "    a = iH1.GetY()\n",
    "    print(a[0])\n",
    "    for i0 in range(0,iH0.GetNbinsX()):\n",
    "        print(i0,iH0.GetXaxis().GetBinCenter(i0+1),a[i0])\n",
    "        lTGraph.SetPoint(i0,iH0.GetXaxis().GetBinCenter(i0+1),a[i0])\n",
    "        lTGraph.SetPointError(i0,ROOT.NULL,ROOT.NULL, iH1.GetErrorYlow(i0), iH1.GetErrorYhigh(i0))\n",
    "    lTGraph.SetFillStyle(iH1.GetFillStyle())\n",
    "    lTGraph.SetFillColor(iH1.GetFillColor())\n",
    "    lTGraph.SetLineColor(iH1.GetLineColor())\n",
    "    lTGraph.SetLineStyle(iH1.GetLineStyle())\n",
    "    return lTGraph"
   ]
  },
  {
   "cell_type": "code",
   "execution_count": 8,
   "metadata": {},
   "outputs": [
    {
     "name": "stdout",
     "output_type": "stream",
     "text": [
      "(0, 0.0)\n",
      "(1, 4.777049980475567e-06)\n",
      "(2, 4.777049980475567e-06)\n",
      "(3, 1.2267719507217407)\n",
      "(4, 1.2267719507217407)\n",
      "(5, 4.907087802886963)\n",
      "(6, 11.040947914123535)\n",
      "(7, 25.7622127532959)\n",
      "(8, 65.0189208984375)\n",
      "(9, 103.0488510131836)\n",
      "(10, 150.89295959472656)\n",
      "(11, 181.56224060058594)\n",
      "(12, 193.82997131347656)\n",
      "(13, 202.41738891601562)\n",
      "(14, 186.46934509277344)\n",
      "(15, 230.6331329345703)\n",
      "(16, 262.5292053222656)\n",
      "(17, 263.7559814453125)\n",
      "(18, 213.4583282470703)\n",
      "(19, 257.6221008300781)\n",
      "(20, 255.1685791015625)\n",
      "(21, 226.95281982421875)\n",
      "(22, 198.737060546875)\n",
      "(23, 176.65516662597656)\n",
      "(24, 201.19061279296875)\n",
      "(25, 139.8520050048828)\n",
      "(26, 142.30555725097656)\n",
      "(27, 139.8520050048828)\n",
      "(28, 118.99688720703125)\n",
      "(29, 100.59530639648438)\n",
      "(30, 77.28663635253906)\n",
      "(31, 94.46144104003906)\n",
      "(32, 69.9260025024414)\n",
      "(33, 56.43151092529297)\n",
      "(34, 51.5244255065918)\n",
      "(35, 61.338600158691406)\n",
      "(36, 60.1118278503418)\n",
      "(37, 30.669300079345703)\n",
      "(38, 23.30866813659668)\n",
      "(39, 29.44252586364746)\n",
      "(40, 24.535438537597656)\n",
      "(41, 18.401578903198242)\n",
      "(42, 15.948036193847656)\n",
      "(43, 13.494491577148438)\n",
      "(44, 14.72126293182373)\n",
      "(45, 17.174806594848633)\n",
      "(46, 14.72126293182373)\n",
      "(47, 7.360631465911865)\n",
      "(48, 4.907087802886963)\n",
      "(49, 8.587403297424316)\n",
      "(50, 3.6803157329559326)\n",
      "(51, 3.6803157329559326)\n",
      "(52, 3.6803157329559326)\n",
      "(0, 0.0)\n",
      "(1, 2.5655824629211565e-06)\n",
      "(2, 2.5655824629211565e-06)\n",
      "(3, 0.29143503308296204)\n",
      "(4, 0.29143503308296204)\n",
      "(5, 0.29143503308296204)\n",
      "(6, 2.5655824629211565e-06)\n",
      "(7, 2.0400450229644775)\n",
      "(8, 2.3314802646636963)\n",
      "(9, 4.954395294189453)\n",
      "(10, 5.849865436553955)\n",
      "(11, 11.116860389709473)\n",
      "(12, 14.442581176757812)\n",
      "(13, 23.4027042388916)\n",
      "(14, 33.736427307128906)\n",
      "(15, 37.744850158691406)\n",
      "(16, 59.856956481933594)\n",
      "(17, 72.06609344482422)\n",
      "(18, 86.40455627441406)\n",
      "(19, 112.94964599609375)\n",
      "(20, 117.9376449584961)\n",
      "(21, 149.1386260986328)\n",
      "(22, 151.10528564453125)\n",
      "(23, 153.52757263183594)\n",
      "(24, 144.98013305664062)\n",
      "(25, 142.39410400390625)\n",
      "(26, 146.1297607421875)\n",
      "(27, 141.27955627441406)\n",
      "(28, 143.14590454101562)\n",
      "(29, 141.95077514648438)\n",
      "(30, 117.1893081665039)\n",
      "(31, 112.74536895751953)\n",
      "(32, 97.75007629394531)\n",
      "(33, 76.40910339355469)\n",
      "(34, 72.31969451904297)\n",
      "(35, 47.46852493286133)\n",
      "(36, 38.764530181884766)\n",
      "(37, 30.970928192138672)\n",
      "(38, 26.704151153564453)\n",
      "(39, 17.08951759338379)\n",
      "(40, 12.502498626708984)\n",
      "(41, 4.948553562164307)\n",
      "(42, 4.080090045928955)\n",
      "(43, 2.6170735359191895)\n",
      "(44, 2.3314802646636963)\n",
      "(45, 0.29143503308296204)\n",
      "(46, 1.4571751356124878)\n",
      "(47, 0.29143503308296204)\n",
      "(48, 2.5655824629211565e-06)\n",
      "(49, 0.29143503308296204)\n",
      "(50, 2.5655824629211565e-06)\n",
      "(51, 2.5655824629211565e-06)\n",
      "(52, 2.5655824629211565e-06)\n",
      "0.0\n",
      "(0, 2850.0, 0.0)\n",
      "(1, 2950.0, 0.0)\n",
      "(2, 3050.0, 0.0)\n",
      "(3, 3150.0, 1.0)\n",
      "(4, 3250.0, 0.0)\n",
      "(5, 3350.0, 2.0)\n",
      "(6, 3450.0, 8.0)\n",
      "(7, 3550.0, 15.0)\n",
      "(8, 3650.0, 26.0)\n",
      "(9, 3750.0, 50.0)\n",
      "(10, 3850.0, 58.0)\n",
      "(11, 3950.0, 84.0)\n",
      "(12, 4050.0, 110.0)\n",
      "(13, 4150.0, 130.0)\n",
      "(14, 4250.0, 171.0)\n",
      "(15, 4350.0, 188.0)\n",
      "(16, 4450.0, 163.0)\n",
      "(17, 4550.0, 203.0)\n",
      "(18, 4650.0, 205.0)\n",
      "(19, 4750.0, 228.0)\n",
      "(20, 4850.0, 203.0)\n",
      "(21, 4950.0, 260.0)\n",
      "(22, 5050.0, 249.0)\n",
      "(23, 5150.0, 240.0)\n",
      "(24, 5250.0, 219.0)\n",
      "(25, 5350.0, 248.0)\n",
      "(26, 5450.0, 199.0)\n",
      "(27, 5550.0, 169.0)\n",
      "(28, 5650.0, 191.0)\n",
      "(29, 5750.0, 113.0)\n",
      "(30, 5850.0, 139.0)\n",
      "(31, 5950.0, 123.0)\n",
      "(32, 6050.0, 110.0)\n",
      "(33, 6150.0, 97.0)\n",
      "(34, 6250.0, 93.0)\n",
      "(35, 6350.0, 74.0)\n",
      "(36, 6450.0, 57.0)\n",
      "(37, 6550.0, 57.0)\n",
      "(38, 6650.0, 48.0)\n",
      "(39, 6750.0, 28.0)\n",
      "(40, 6850.0, 35.0)\n",
      "(41, 6950.0, 24.0)\n",
      "(42, 7050.0, 23.0)\n",
      "(43, 7150.0, 17.0)\n",
      "(44, 7250.0, 17.0)\n",
      "(45, 7350.0, 5.0)\n",
      "(46, 7450.0, 15.0)\n",
      "(47, 7550.0, 11.0)\n",
      "(48, 7650.0, 12.0)\n",
      "(49, 7750.0, 11.0)\n",
      "(50, 7850.0, 8.0)\n",
      "(51, 7950.0, 9.0)\n",
      "0.0\n",
      "(0, 2850.0, 0.0)\n",
      "(1, 2950.0, 0.0)\n",
      "(2, 3050.0, 0.0)\n",
      "(3, 3150.0, 1.0)\n",
      "(4, 3250.0, 0.0)\n",
      "(5, 3350.0, 2.0)\n",
      "(6, 3450.0, 8.0)\n",
      "(7, 3550.0, 15.0)\n",
      "(8, 3650.0, 26.0)\n",
      "(9, 3750.0, 50.0)\n",
      "(10, 3850.0, 58.0)\n",
      "(11, 3950.0, 84.0)\n",
      "(12, 4050.0, 110.0)\n",
      "(13, 4150.0, 130.0)\n",
      "(14, 4250.0, 171.0)\n",
      "(15, 4350.0, 188.0)\n",
      "(16, 4450.0, 163.0)\n",
      "(17, 4550.0, 203.0)\n",
      "(18, 4650.0, 205.0)\n",
      "(19, 4750.0, 228.0)\n",
      "(20, 4850.0, 203.0)\n",
      "(21, 4950.0, 260.0)\n",
      "(22, 5050.0, 249.0)\n",
      "(23, 5150.0, 240.0)\n",
      "(24, 5250.0, 219.0)\n",
      "(25, 5350.0, 248.0)\n",
      "(26, 5450.0, 199.0)\n",
      "(27, 5550.0, 169.0)\n",
      "(28, 5650.0, 191.0)\n",
      "(29, 5750.0, 113.0)\n",
      "(30, 5850.0, 139.0)\n",
      "(31, 5950.0, 123.0)\n",
      "(32, 6050.0, 110.0)\n",
      "(33, 6150.0, 97.0)\n",
      "(34, 6250.0, 93.0)\n",
      "(35, 6350.0, 74.0)\n",
      "(36, 6450.0, 57.0)\n",
      "(37, 6550.0, 57.0)\n",
      "(38, 6650.0, 48.0)\n",
      "(39, 6750.0, 28.0)\n",
      "(40, 6850.0, 35.0)\n",
      "(41, 6950.0, 24.0)\n",
      "(42, 7050.0, 23.0)\n",
      "(43, 7150.0, 17.0)\n",
      "(44, 7250.0, 17.0)\n",
      "(45, 7350.0, 5.0)\n",
      "(46, 7450.0, 15.0)\n",
      "(47, 7550.0, 11.0)\n",
      "(48, 7650.0, 12.0)\n",
      "(49, 7750.0, 11.0)\n",
      "(50, 7850.0, 8.0)\n",
      "(51, 7950.0, 9.0)\n"
     ]
    },
    {
     "name": "stderr",
     "output_type": "stream",
     "text": [
      "Info in <TCanvas::Print>: pdf file plot-bb-1000_fullrange.pdf has been created\n",
      "Info in <TCanvas::Print>: png file plot-bb-1000_fullrange.png has been created\n"
     ]
    }
   ],
   "source": [
    "import sys,os\n",
    "sys.path.append('/data/t3home000/spark/QUASAR')\n",
    "\n",
    "import plotting as plot\n",
    "import ROOT\n",
    "\n",
    "ROOT.PyConfig.IgnoreCommandLineOptions = True\n",
    "ROOT.gROOT.SetBatch(ROOT.kTRUE)\n",
    "\n",
    "plot.ModTDRStyle()\n",
    "canvas = ROOT.TCanvas()\n",
    "\n",
    "fin = ROOT.TFile('fitDiagnostics.root')\n",
    "\n",
    "first_dir = 'shapes_fit_b'\n",
    "second_dir = 'signal_region'\n",
    "\n",
    "h_bkg = fin.Get(first_dir + '/' + second_dir + '/total_background')\n",
    "h_sig = fin.Get('shapes_fit_s' + '/' + second_dir + '/total_signal')\n",
    "#h_tot = fin.Get('shapes_fit_s' + '/' + second_dir + '/total')\n",
    "\n",
    "h_dat = fin.Get(first_dir + '/' + second_dir + '/data')  # This is a TGraphAsymmErrors, not a TH1F\n",
    "\n",
    "start, end = (2800,8000)\n",
    "\n",
    "postfit_obs = ROOT.TH1F('postfit_obs','postfit_obs',(end-start)/100,start,end)\n",
    "postfit_bkg = ROOT.TH1F('postfit_bkg','postfit_bkg',(end-start)/100,start,end)\n",
    "postfit_sig = ROOT.TH1F('postfit_sig','postfit_sig',(end-start)/100,start,end)\n",
    "\n",
    "\n",
    "h_bkg = fix(postfit_bkg,h_bkg)\n",
    "h_sig = fix(postfit_sig,h_sig)\n",
    "h_dat = fix_graph(postfit_obs,h_dat)\n",
    "h_tot = fix_graph(postfit_bkg,h_dat)\n",
    "\n",
    "\n",
    "\n",
    "h_bkg.SetFillColor(ROOT.TColor.GetColor(100, 192, 232))\n",
    "h_bkg.GetXaxis().SetTitle(\"m_{JJ} [GeV]\")\n",
    "h_bkg.Draw('HIST')\n",
    "\n",
    "h_err = h_bkg.Clone()\n",
    "h_err.SetFillColorAlpha(12, 0.3)  # Set grey colour (12) and alpha (0.3)\n",
    "h_err.SetMarkerSize(0)\n",
    "h_err.Draw('E2SAME')\n",
    "\n",
    "h_sig.SetLineColor(ROOT.kRed)\n",
    "h_sig.Draw('HISTSAME')\n",
    "\n",
    "h_dat.Draw('PSAME')\n",
    "\n",
    "h_tot.SetMarkerColor(ROOT.kRed)\n",
    "#h_tot.Draw('PSAME')\n",
    "\n",
    "h_bkg.SetMaximum(h_bkg.GetMaximum() * 1.4)\n",
    "\n",
    "legend = ROOT.TLegend(0.60, 0.70, 0.90, 0.91, '', 'NBNDC')\n",
    "legend.AddEntry(h_bkg, 'Background', 'F')\n",
    "legend.AddEntry(h_sig, 'Signal', 'L')\n",
    "legend.AddEntry(h_err, 'Background uncertainty', 'F')\n",
    "legend.Draw()\n",
    "\n",
    "canvas.SaveAs('plot-bb-1000_fullrange.pdf')\n",
    "canvas.SaveAs('plot-bb-1000_fullrange.png')"
   ]
  },
  {
   "cell_type": "code",
   "execution_count": 260,
   "metadata": {
    "scrolled": true
   },
   "outputs": [],
   "source": [
    "import ROOT as rt"
   ]
  },
  {
   "cell_type": "code",
   "execution_count": 261,
   "metadata": {},
   "outputs": [],
   "source": [
    "fd = ROOT.TFile.Open(\"fitDiagnostics.root\",'read')"
   ]
  },
  {
   "cell_type": "code",
   "execution_count": 262,
   "metadata": {},
   "outputs": [
    {
     "name": "stdout",
     "output_type": "stream",
     "text": [
      "TFile**\t\tfitDiagnostics.root\t\n",
      " TFile*\t\tfitDiagnostics.root\t\n",
      "  KEY: TDirectoryFile\tshapes_prefit;1\tshapes_prefit\n",
      "  KEY: RooArgSet\tnorm_prefit;1\tSet of RooAbsArg objects\n",
      "  KEY: TProcessID\tProcessID0;1\t61ca9cc8-9b2d-11ea-9088-51700412beef\n",
      "  KEY: RooFitResult\tnuisances_prefit_res;1\t\n",
      "  KEY: RooArgSet\tnuisances_prefit;1\tSet of RooAbsArg objects\n",
      "  KEY: RooFitResult\tfit_b;1\t\n",
      "  KEY: TDirectoryFile\tshapes_fit_b;1\tshapes_fit_b\n",
      "  KEY: RooArgSet\tnorm_fit_b;1\tSet of RooAbsArg objects\n",
      "  KEY: RooFitResult\tfit_s;1\t\n",
      "  KEY: TDirectoryFile\tshapes_fit_s;1\tshapes_fit_s\n",
      "  KEY: RooArgSet\tnorm_fit_s;1\tSet of RooAbsArg objects\n",
      "  KEY: TTree\ttree_fit_sb;1\ttree_fit_sb\n",
      "  KEY: TTree\ttree_fit_b;1\ttree_fit_b\n",
      "  KEY: TTree\ttree_prefit;1\ttree_prefit\n"
     ]
    }
   ],
   "source": [
    "fd.ls()"
   ]
  },
  {
   "cell_type": "code",
   "execution_count": 263,
   "metadata": {},
   "outputs": [],
   "source": [
    "obj = fd.Get('fit_s')"
   ]
  },
  {
   "cell_type": "code",
   "execution_count": 264,
   "metadata": {},
   "outputs": [
    {
     "name": "stdout",
     "output_type": "stream",
     "text": [
      "\n",
      "  RooFitResult: minimized FCN value: -5570.66, estimated distance to minimum: 7.94396e-06\n",
      "                covariance matrix quality: Full, accurate covariance matrix\n",
      "                Status : MINIMIZE=0 HESSE=0 \n",
      "\n",
      "    Floating Parameter    FinalValue +/-  Error   \n",
      "  --------------------  --------------------------\n",
      "                  lumi    4.5836e-01 +/-  2.27e-01\n",
      "                     r    7.0428e-02 +/-  1.65e-02\n",
      "                 scale    1.8976e-01 +/-  1.00e-01\n",
      "                 smear   -1.1126e+00 +/-  1.72e-01\n",
      "\n"
     ]
    }
   ],
   "source": [
    "obj.Print()"
   ]
  },
  {
   "cell_type": "code",
   "execution_count": 265,
   "metadata": {},
   "outputs": [],
   "source": [
    "fd.Close()"
   ]
  },
  {
   "cell_type": "code",
   "execution_count": null,
   "metadata": {},
   "outputs": [],
   "source": []
  }
 ],
 "metadata": {
  "kernelspec": {
   "display_name": "statistics-das",
   "language": "python",
   "name": "statistics-das"
  },
  "language_info": {
   "codemirror_mode": {
    "name": "ipython",
    "version": 2
   },
   "file_extension": ".py",
   "mimetype": "text/x-python",
   "name": "python",
   "nbconvert_exporter": "python",
   "pygments_lexer": "ipython2",
   "version": "2.7.14+"
  }
 },
 "nbformat": 4,
 "nbformat_minor": 4
}

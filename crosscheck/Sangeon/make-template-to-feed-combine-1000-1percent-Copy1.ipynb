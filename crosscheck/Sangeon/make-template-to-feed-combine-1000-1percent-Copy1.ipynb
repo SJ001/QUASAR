{
 "cells": [
  {
   "cell_type": "code",
   "execution_count": 11,
   "metadata": {},
   "outputs": [],
   "source": [
    "%matplotlib inline\n",
    "%reload_ext autoreload\n",
    "%autoreload 2"
   ]
  },
  {
   "cell_type": "code",
   "execution_count": 12,
   "metadata": {},
   "outputs": [
    {
     "data": {
      "text/plain": [
       "0L"
      ]
     },
     "execution_count": 12,
     "metadata": {},
     "output_type": "execute_result"
    },
    {
     "name": "stderr",
     "output_type": "stream",
     "text": [
      "\u001b[1m/home/spark/.rootlogon_nystyle.C:14:11: \u001b[0m\u001b[0;1;31merror: \u001b[0m\u001b[1mredefinition of 'GloStyle'\u001b[0m\n",
      "  TStyle *GloStyle;\n",
      "\u001b[0;1;32m          ^\n",
      "\u001b[0m\u001b[1m/home/spark/.rootlogon_nystyle.C:14:11: \u001b[0m\u001b[0;1;30mnote: \u001b[0mprevious definition is here\u001b[0m\n",
      "  TStyle *GloStyle;\n",
      "\u001b[0;1;32m          ^\n",
      "\u001b[0m"
     ]
    }
   ],
   "source": [
    "import numpy as np\n",
    "import ROOT as r\n",
    "import sys,math,array,os\n",
    "import matplotlib.pyplot as plt\n",
    "r.gROOT.Macro(os.path.expanduser('~/.rootlogon_nystyle.C'))"
   ]
  },
  {
   "cell_type": "markdown",
   "metadata": {},
   "source": [
    "# load bunch of numpy arrays"
   ]
  },
  {
   "cell_type": "code",
   "execution_count": 13,
   "metadata": {},
   "outputs": [],
   "source": [
    "sigaeloss_bb  = np.load('sigaeloss_numsig_1000_bb.npy')\n",
    "sigaeloss_bkg = np.load('sigaeloss_numsig_1000_bkg.npy')\n",
    "mass_bb       = np.load('mass_numsig_1000.npy')\n",
    "mass_bkg      = np.load('mass_bkg.npy')\n",
    "bkgaeloss_bb  = np.load('bkgaeloss_numsig_1000.npy')\n",
    "bkgaeloss_bkg = np.load('bkgaeloss_bkg.npy')"
   ]
  },
  {
   "cell_type": "code",
   "execution_count": 14,
   "metadata": {},
   "outputs": [],
   "source": [
    "############### DEFAULT CUT BB1 ##############\n",
    "sigae_wp = .65\n",
    "bkgae_wp = 2"
   ]
  },
  {
   "cell_type": "code",
   "execution_count": 15,
   "metadata": {},
   "outputs": [],
   "source": [
    "############### DEFAULT CUT BB2 ##############\n",
    "sigae_wp = .8\n",
    "bkgae_wp = 1.8"
   ]
  },
  {
   "cell_type": "code",
   "execution_count": 16,
   "metadata": {},
   "outputs": [],
   "source": [
    "############### DEFAULT CUT BB3 ##############\n",
    "sigae_wp = .66\n",
    "bkgae_wp = 1.7"
   ]
  },
  {
   "cell_type": "code",
   "execution_count": null,
   "metadata": {},
   "outputs": [],
   "source": []
  },
  {
   "cell_type": "code",
   "execution_count": 18,
   "metadata": {},
   "outputs": [],
   "source": [
    "###CUT 1% Diluted, 1000 signal events\n",
    "sigae_wp = 0.5\n",
    "bkgae_wp = 1.5"
   ]
  },
  {
   "cell_type": "code",
   "execution_count": null,
   "metadata": {},
   "outputs": [],
   "source": []
  },
  {
   "cell_type": "code",
   "execution_count": 19,
   "metadata": {},
   "outputs": [
    {
     "name": "stdout",
     "output_type": "stream",
     "text": [
      "4943\n",
      "4022\n"
     ]
    }
   ],
   "source": [
    "index_bb = np.where((bkgaeloss_bb>bkgae_wp)&(sigaeloss_bb<sigae_wp))[0]\n",
    "index_bkg = np.where((bkgaeloss_bkg>bkgae_wp)&(sigaeloss_bkg<sigae_wp))[0]\n",
    "\n",
    "print(index_bb.shape[0])\n",
    "print(index_bkg.shape[0])"
   ]
  },
  {
   "cell_type": "code",
   "execution_count": 61,
   "metadata": {},
   "outputs": [],
   "source": [
    "start = 2800\n",
    "end = 8000"
   ]
  },
  {
   "cell_type": "code",
   "execution_count": 62,
   "metadata": {},
   "outputs": [
    {
     "name": "stdout",
     "output_type": "stream",
     "text": [
      "[2800 2900 3000 3100 3200 3300 3400 3500 3600 3700 3800 3900 4000 4100\n",
      " 4200 4300 4400 4500 4600 4700 4800 4900 5000 5100 5200 5300 5400 5500\n",
      " 5600 5700 5800 5900 6000 6100 6200 6300 6400 6500 6600 6700 6800 6900\n",
      " 7000 7100 7200 7300 7400 7500 7600 7700 7800 7900 8000]\n"
     ]
    }
   ],
   "source": [
    "bins = np.linspace(start,end,(end-start)/100+1,dtype=np.int16)\n",
    "print(bins)"
   ]
  },
  {
   "cell_type": "code",
   "execution_count": 63,
   "metadata": {},
   "outputs": [
    {
     "data": {
      "image/png": "[encoded data removed]",
      "text/plain": [
       "<matplotlib.figure.Figure at 0x7fef2a911e50>"
      ]
     },
     "metadata": {},
     "output_type": "display_data"
    }
   ],
   "source": [
    "#### Without Scalefactor\n",
    "#PLOT FOR BLACK BOX 1 with REALNVP\n",
    "plt.style.use('ggplot')\n",
    "#bins = np.linspace(1000,8000,71)\n",
    "bkg_hist = plt.hist(mass_bkg[index_bkg],bins=bins,alpha=0.3,color='r',label='background');\n",
    "obs_hist = plt.hist(mass_bb[index_bb],bins=bins,alpha=0.3,color='b',label='Blackbox2');\n",
    "plt.xlabel(r'$m_{JJ}$ [GeV]')\n",
    "plt.ylabel('Number of events')\n",
    "plt.legend(loc='upper right')\n",
    "plt.title('$m_{JJ}$ without SF')\n",
    "plt.show()\n",
    "#plt.axvline(x=38238\n",
    "#plt.savefig(\"/data/t3home000/spark/LHCOlympics/plots/NEW_BB3_mjj_massratios_noscalefactor_1dot8_0dot5.png\")\n",
    "# plt.savefig(\"AnalysisBB2/bkgAEcut_mjj_noscalefactor.png\")"
   ]
  },
  {
   "cell_type": "markdown",
   "metadata": {},
   "source": [
    "# Start Generating Shapes for the Fit"
   ]
  },
  {
   "cell_type": "code",
   "execution_count": 64,
   "metadata": {},
   "outputs": [],
   "source": [
    "def smear(iVar,iDataHist,iScale=0.1):\n",
    "    lDM     = r.RooRealVar(\"Xshift\",\"Xshift\", 1.,0.,200.)\n",
    "    lVar    = iDataHist.createHistogram(\"x\").GetMean()\n",
    "    lInt    = iDataHist.createHistogram(\"x\").Integral()\n",
    "    lShift  = r.RooFormulaVar(\"Xsmear\",\"(\"+iVar.GetName()+\"-\"+str(lVar)+\")/Xshift+\"+str(lVar),r.RooArgList(iVar,lDM))  \n",
    "    lHPdf   = r.RooHistPdf(iDataHist.GetName()+\"S\",iDataHist.GetName()+\"S\", r.RooArgList(lShift),r.RooArgList(iVar),iDataHist,0)\n",
    "    lDM.setVal(1.+iScale)\n",
    "    lHUp = lHPdf.createHistogram(\"x\")\n",
    "    lHUp.Scale(lInt)\n",
    "    lUp = r.RooDataHist(iDataHist.GetName()+\"_smearUp\",iDataHist.GetName()+\"_smearUp\", r.RooArgList(iVar),lHUp)    \n",
    "    lDM.setVal(1.-iScale)\n",
    "    lHDown = lHPdf.createHistogram(\"x\")\n",
    "    lHDown.Scale(lInt)\n",
    "    lDown  = r.RooDataHist(iDataHist.GetName()+\"_smearDown\",iDataHist.GetName()+\"_smearDown\", r.RooArgList(iVar),lHDown)\n",
    "    return [lUp,lDown] "
   ]
  },
  {
   "cell_type": "code",
   "execution_count": 65,
   "metadata": {},
   "outputs": [],
   "source": [
    "# Observable\n",
    "x = r.RooRealVar(\"x\",\"m_{JJ} [GeV]\", 1000,8000)"
   ]
  },
  {
   "cell_type": "code",
   "execution_count": 66,
   "metadata": {},
   "outputs": [
    {
     "name": "stderr",
     "output_type": "stream",
     "text": [
      "Warning in <TROOT::Append>: Replacing existing TH1: signal (Potential memory leak).\n",
      "Warning in <TROOT::Append>: Replacing existing TH1: signal_scaleUp (Potential memory leak).\n",
      "Warning in <TROOT::Append>: Replacing existing TH1: signal_scaleDown (Potential memory leak).\n",
      "Warning in <TROOT::Append>: Replacing existing TH1: signal_smearUp (Potential memory leak).\n",
      "Warning in <TROOT::Append>: Replacing existing TH1: signal_smearDown (Potential memory leak).\n"
     ]
    }
   ],
   "source": [
    "mygaus = r.TF1(\"mygaus\",\"TMath::Gaus(x,3500,300)\",start,end)\n",
    "smear_up = r.TF1(\"smear_up\",\"TMath::Gaus(x,3500,80)\",start,end)\n",
    "smear_down = r.TF1(\"smear_down\",\"TMath::Gaus(x,3500,600)\",start,end)\n",
    "scale_up = r.TF1(\"scale_up\",\"TMath::Gaus(x,4000,300)\",start,end)\n",
    "scale_down = r.TF1(\"scale_down\",\"TMath::Gaus(x,3000,300)\",start,end)\n",
    "\n",
    "\n",
    "roothist_sig = r.TH1F('signal','signal',(end-start)/100,start,end)\n",
    "roothist_scup = r.TH1F('signal_scaleUp','signal',(end-start)/100,start,end)\n",
    "roothist_scdown = r.TH1F('signal_scaleDown','signal',(end-start)/100,start,end)\n",
    "roothist_smup = r.TH1F('signal_smearUp','signal',(end-start)/100,start,end)\n",
    "roothist_smdown = r.TH1F('signal_smearDown','signal',(end-start)/100,start,end)\n",
    "\n",
    "roothist_sig.FillRandom(\"mygaus\",1000)\n",
    "roothist_scup.FillRandom('scale_up',1000)\n",
    "roothist_scdown.FillRandom('scale_down',1000)\n",
    "roothist_smup.FillRandom('smear_up',1000)\n",
    "roothist_smdown.FillRandom('smear_down',1000)\n"
   ]
  },
  {
   "cell_type": "code",
   "execution_count": 67,
   "metadata": {},
   "outputs": [
    {
     "name": "stderr",
     "output_type": "stream",
     "text": [
      "Warning in <TROOT::Append>: Replacing existing TH1: data_obs (Potential memory leak).\n",
      "Warning in <TROOT::Append>: Replacing existing TH1: purebkg (Potential memory leak).\n"
     ]
    }
   ],
   "source": [
    "roothist_obs = r.TH1F('data_obs','data_obs',(end-start)/100,start,end)\n",
    "roothist_bkg = r.TH1F('purebkg','purebkg',(end-start)/100,start,end)"
   ]
  },
  {
   "cell_type": "code",
   "execution_count": 68,
   "metadata": {},
   "outputs": [],
   "source": [
    "for i in range(0,(end-start)/100):\n",
    "    roothist_obs.SetBinContent(i+1,obs_hist[0][i])\n",
    "    roothist_bkg.SetBinContent(i+1,bkg_hist[0][i])"
   ]
  },
  {
   "cell_type": "code",
   "execution_count": 69,
   "metadata": {},
   "outputs": [],
   "source": [
    "f = r.TFile.Open(\"shapes-blackbox-1000-TH1.root\",'recreate')\n",
    "roothist_sig.Write()\n",
    "roothist_obs.Write()\n",
    "roothist_bkg.Write()\n",
    "roothist_scup.Write()\n",
    "roothist_scdown.Write()\n",
    "roothist_smup.Write()\n",
    "roothist_smdown.Write()\n",
    "\n",
    "f.Close()"
   ]
  },
  {
   "cell_type": "code",
   "execution_count": null,
   "metadata": {},
   "outputs": [],
   "source": []
  },
  {
   "cell_type": "code",
   "execution_count": null,
   "metadata": {},
   "outputs": [],
   "source": []
  },
  {
   "cell_type": "code",
   "execution_count": null,
   "metadata": {},
   "outputs": [],
   "source": []
  },
  {
   "cell_type": "code",
   "execution_count": null,
   "metadata": {},
   "outputs": [],
   "source": []
  },
  {
   "cell_type": "code",
   "execution_count": null,
   "metadata": {},
   "outputs": [],
   "source": [
    "iDataHist = r.RooDataHist(\"signal\",\"signal\",r.RooArgList(x),roothist_sig)"
   ]
  },
  {
   "cell_type": "code",
   "execution_count": null,
   "metadata": {},
   "outputs": [],
   "source": [
    "c11 = r.TCanvas(\"myCanvasName\",\"The Canvas Title\",800,600)\n",
    "roothist_sig.Draw()\n",
    "roothist_scup.SetLineColor(r.kRed)\n",
    "roothist_scup.Draw('same')\n",
    "\n",
    "roothist_scdown.SetLineColor(r.kBlue)\n",
    "roothist_scdown.Draw('same')\n",
    "c11.Draw()"
   ]
  },
  {
   "cell_type": "code",
   "execution_count": null,
   "metadata": {},
   "outputs": [],
   "source": [
    "c11 = r.TCanvas(\"myCanvasName\",\"The Canvas Title\",800,600)\n",
    "roothist_sig.Draw()\n",
    "roothist_scup.Draw('same')\n",
    "roothist_scdown.Draw('same')\n",
    "c11.Draw()"
   ]
  },
  {
   "cell_type": "code",
   "execution_count": null,
   "metadata": {},
   "outputs": [],
   "source": [
    "f = r.TFile.Open(\"shapes-blackbox1-TH1.root\",'read')\n",
    "f.ls()\n",
    "f.Close()"
   ]
  },
  {
   "cell_type": "code",
   "execution_count": null,
   "metadata": {},
   "outputs": [],
   "source": [
    "ObsHist = r.RooDataHist(\"data_obs\",\"data_obs\",r.RooArgList(x),roothist_obs)\n",
    "BkgHist = r.RooDataHist(\"purebkg\",\"purebkg\",r.RooArgList(x),roothist_bkg)"
   ]
  },
  {
   "cell_type": "code",
   "execution_count": null,
   "metadata": {},
   "outputs": [],
   "source": [
    "f = r.TFile.Open(\"shapes-blackbox1-TH1.root\",'recreate')\n",
    "ObsHist.Write()\n",
    "BkgHist.Write()\n",
    "iDataHist.Write()\n",
    "\n",
    "f.Close()"
   ]
  },
  {
   "cell_type": "code",
   "execution_count": null,
   "metadata": {},
   "outputs": [],
   "source": []
  },
  {
   "cell_type": "code",
   "execution_count": null,
   "metadata": {},
   "outputs": [],
   "source": [
    "iDataHist = r.RooDataHist(\"signal\",\"signal\",r.RooArgList(x),roothist_sig)"
   ]
  },
  {
   "cell_type": "code",
   "execution_count": null,
   "metadata": {},
   "outputs": [],
   "source": [
    "smear_up, smear_down = smear(x,iDataHist,0.1)"
   ]
  },
  {
   "cell_type": "code",
   "execution_count": null,
   "metadata": {},
   "outputs": [],
   "source": [
    "def shift(iVar,iDataHist,iShift=5.):\n",
    "    lInt    = iDataHist.createHistogram(\"x\").Integral()\n",
    "    lDM     = r.RooRealVar   (\"Xdm\",\"Xdm\", 0.,-300,300)\n",
    "    lShift  = r.RooFormulaVar(\"Xshift\",iVar.GetName()+\"-Xdm\",r.RooArgList(iVar,lDM))\n",
    "    print(lShift)\n",
    "    lSPdf   = r.RooHistPdf(iDataHist.GetName()+\"P\",iDataHist.GetName()+\"P\", r.RooArgList(lShift),r.RooArgList(iVar),iDataHist,0)\n",
    "    lDM.setVal(iShift)\n",
    "    lHUp   = lSPdf.createHistogram(\"x\")\n",
    "    lHUp.Scale(lInt)\n",
    "    lUp    = r.RooDataHist(iDataHist.GetName()+\"_scaleUp\",iDataHist.GetName()+\"_scaleUp\", r.RooArgList(iVar),lHUp)\n",
    "    lDM.setVal(-iShift)\n",
    "    lHDown = lSPdf.createHistogram(\"x\")\n",
    "    lHDown.Scale(lInt)\n",
    "    lDown  = r.RooDataHist(iDataHist.GetName()+\"_scaleDown\",iDataHist.GetName()+\"_scaleDown\", r.RooArgList(iVar),lHDown)\n",
    "    return (lUp,lDown)"
   ]
  },
  {
   "cell_type": "code",
   "execution_count": null,
   "metadata": {},
   "outputs": [],
   "source": [
    "shift_up, shift_down = shift(x,iDataHist,20.0)"
   ]
  },
  {
   "cell_type": "code",
   "execution_count": null,
   "metadata": {},
   "outputs": [],
   "source": [
    "xframe = x.frame()"
   ]
  },
  {
   "cell_type": "code",
   "execution_count": null,
   "metadata": {},
   "outputs": [],
   "source": [
    "a = smear_up.generateBinned(\"x\",100)"
   ]
  },
  {
   "cell_type": "code",
   "execution_count": null,
   "metadata": {},
   "outputs": [],
   "source": [
    "print(h_)"
   ]
  },
  {
   "cell_type": "code",
   "execution_count": null,
   "metadata": {},
   "outputs": [],
   "source": [
    "c11 = r.TCanvas(\"myCanvasName\",\"The Canvas Title\",800,600)\n",
    "roothist_sig.Draw()\n",
    "c11.Draw()"
   ]
  },
  {
   "cell_type": "code",
   "execution_count": null,
   "metadata": {},
   "outputs": [],
   "source": [
    "#c.plotOn(xframe,r.RooFit.DrawOption(\"*\"),r.RooFit.DataError(0))\n",
    "smear_up.plotOn(xframe,r.RooFit.MarkerColor(9),r.RooFit.DataError(0))\n",
    "iDataHist.plotOn(xframe,r.RooFit.MarkerColor(r.kBlack),r.RooFit.DataError(0))\n",
    "smear_down.plotOn(xframe,r.RooFit.MarkerColor(8),r.RooFit.DataError(0))\n",
    "c11 = r.TCanvas(\"myCanvasName\",\"The Canvas Title\",800,600)\n",
    "#model.plotOn(mjjframe, r.RooFit.Components(\"background\"), r.RooFit.LineStyle(r.kDashed))\n",
    "xframe.Draw()\n",
    "\n",
    "c11.Draw()"
   ]
  },
  {
   "cell_type": "code",
   "execution_count": null,
   "metadata": {},
   "outputs": [],
   "source": [
    "#c.plotOn(xframe,r.RooFit.DrawOption(\"*\"),r.RooFit.DataError(0))\n",
    "smear_up.plotOn(xframe,r.RooFit.MarkerColor(9),r.RooFit.DataError(0))\n",
    "iDataHist.plotOn(xframe,r.RooFit.MarkerColor(r.kBlack),r.RooFit.DataError(0))\n",
    "smear_down.plotOn(xframe,r.RooFit.MarkerColor(8),r.RooFit.DataError(0))\n",
    "c11 = r.TCanvas(\"myCanvasName\",\"The Canvas Title\",800,600)\n",
    "#model.plotOn(mjjframe, r.RooFit.Components(\"background\"), r.RooFit.LineStyle(r.kDashed))\n",
    "xframe.Draw()\n",
    "\n",
    "c11.Draw()"
   ]
  },
  {
   "cell_type": "code",
   "execution_count": null,
   "metadata": {},
   "outputs": [],
   "source": [
    "roothist_obs = r.TH1F('data_obs','data_obs',70,1000,8000)\n",
    "roothist_bkg = r.TH1F('purebkg','purebkg',70,1000,8000)"
   ]
  },
  {
   "cell_type": "code",
   "execution_count": null,
   "metadata": {},
   "outputs": [],
   "source": [
    "for i in range(0,70):\n",
    "    roothist_obs.SetBinContent(i+1,obs_hist[0][i])\n",
    "    roothist_bkg.SetBinContent(i+1,bkg_hist[0][i])"
   ]
  },
  {
   "cell_type": "code",
   "execution_count": null,
   "metadata": {},
   "outputs": [],
   "source": [
    "ObsHist = r.RooDataHist(\"data_obs\",\"data_obs\",r.RooArgList(x),roothist_obs)\n",
    "BkgHist = r.RooDataHist(\"purebkg\",\"purebkg\",r.RooArgList(x),roothist_bkg)"
   ]
  },
  {
   "cell_type": "code",
   "execution_count": null,
   "metadata": {},
   "outputs": [],
   "source": [
    "f = r.TFile.Open(\"shapes-blackbox1-TH1.root\",'recreate')\n",
    "roothist_sig.Write()\n",
    "roothist_bkg.Write()\n",
    "roothist_obs.Write()\n",
    "smear_up.Write()\n",
    "smear_down.Write()\n",
    "shift_up.Write()\n",
    "shift_down.Write()\n",
    "f.Close()"
   ]
  },
  {
   "cell_type": "code",
   "execution_count": null,
   "metadata": {},
   "outputs": [],
   "source": [
    "f.Close()"
   ]
  },
  {
   "cell_type": "code",
   "execution_count": null,
   "metadata": {},
   "outputs": [],
   "source": [
    "f = r.TFile.Open(\"shapes-blackbox1-TH1.root\",'read')"
   ]
  },
  {
   "cell_type": "code",
   "execution_count": null,
   "metadata": {},
   "outputs": [],
   "source": [
    "f.ls()"
   ]
  },
  {
   "cell_type": "code",
   "execution_count": null,
   "metadata": {},
   "outputs": [],
   "source": [
    "f.Close()"
   ]
  },
  {
   "cell_type": "code",
   "execution_count": null,
   "metadata": {},
   "outputs": [],
   "source": [
    "c = r.TCanvas(\"myCanvasName\",\"The Canvas Title\",800,600)\n",
    "roothist_bkg.Draw()\n",
    "c.Draw()"
   ]
  },
  {
   "cell_type": "code",
   "execution_count": null,
   "metadata": {},
   "outputs": [],
   "source": []
  },
  {
   "cell_type": "code",
   "execution_count": null,
   "metadata": {},
   "outputs": [],
   "source": []
  },
  {
   "cell_type": "code",
   "execution_count": null,
   "metadata": {},
   "outputs": [],
   "source": [
    "function_gaus = r.TF1(\"mygaus\",\"TMath::Gaus(x,3823,400)\",1000,8000)\n",
    "roothist_sig = r.TH1F('signal','signal',70,1000,8000)\n",
    "roothist_sig.FillRandom(\"mygaus\",10000)"
   ]
  },
  {
   "cell_type": "code",
   "execution_count": null,
   "metadata": {},
   "outputs": [],
   "source": [
    "lDM   = rt.RooRealVar(\"Xshift\",\"Xshift\", 1.,0.,2.)\n",
    "x     = rt.RooRealVar(\"x\" ,\"x\", 0.0   ,1000  ,8000)\n",
    "mean  = rt.RooRealVar(\"mean\",'mean',3823,1000,8000)\n",
    "sigma = rt.RooRealVar(\"sigma\",'sigma',200,0,500)"
   ]
  },
  {
   "cell_type": "code",
   "execution_count": null,
   "metadata": {},
   "outputs": [],
   "source": []
  },
  {
   "cell_type": "code",
   "execution_count": null,
   "metadata": {},
   "outputs": [],
   "source": [
    "lDM     = rt.RooRealVar(\"Xshift\",\"Xshift\", 1.,0.,2.)\n",
    "lVar    = iDataHist.createHistogram(\"x\").GetMean()\n",
    "lInt    = iDataHist.createHistogram(\"x\").Integral()"
   ]
  },
  {
   "cell_type": "code",
   "execution_count": null,
   "metadata": {},
   "outputs": [],
   "source": [
    "iVar = rt.RooRealVar(\"x\",\"x\",3600,1000,8000)\n",
    "lShift  = rt.RooFormulaVar(\"Xsmear\",\"(\"+iVar.GetName()+\"-\"+str(lVar)+\")/Xshift+\"+str(lVar),rt.RooArgList(iVar,lDM))  "
   ]
  },
  {
   "cell_type": "code",
   "execution_count": null,
   "metadata": {},
   "outputs": [],
   "source": [
    "def smear(iVar,iDataHist,iScale=0.1):\n",
    "    lDM     = rt.RooRealVar(\"Xshift\",\"Xshift\", 1.,0.,2.)\n",
    "    lVar    = iDataHist.createHistogram(\"x\").GetMean()\n",
    "    lInt    = iDataHist.createHistogram(\"x\").Integral()\n",
    "    lShift  = r.RooFormulaVar(\"Xsmear\",\"(\"+iVar.GetName()+\"-\"+str(lVar)+\")/Xshift+\"+str(lVar),r.RooArgList(iVar,lDM))  \n",
    "    if f2D:\n",
    "        lHPdf   = r.RooHistPdf(iDataHist.GetName()+\"S\",iDataHist.GetName()+\"S\", r.RooArgList(lShift,fVars[1]),r.RooArgList(iVar,fVars[1]),iDataHist,0)\n",
    "    else:\n",
    "        lHPdf   = r.RooHistPdf(iDataHist.GetName()+\"S\",iDataHist.GetName()+\"S\", r.RooArgList(lShift),r.RooArgList(iVar),iDataHist,0)\n",
    "    lDM.setVal(1.+iScale)\n",
    "    lHUp = lHPdf.createHistogram(\"x\")\n",
    "    lHUp.Scale(lInt)\n",
    "    lUp = r.RooDataHist(iDataHist.GetName()+\"_smearUp\",iDataHist.GetName()+\"_smearUp\", r.RooArgList(iVar),lHUp)    \n",
    "    lDM.setVal(1.-iScale)\n",
    "    lHDown = lHPdf.createHistogram(\"x\")\n",
    "    lHDown.Scale(lInt)\n",
    "    lDown  = r.RooDataHist(iDataHist.GetName()+\"_smearDown\",iDataHist.GetName()+\"_smearDown\", r.RooArgList(iVar),lHDown)\n",
    "    return [lUp,lDown] "
   ]
  }
 ],
 "metadata": {
  "kernelspec": {
   "display_name": "statistics-das",
   "language": "python",
   "name": "statistics-das"
  },
  "language_info": {
   "codemirror_mode": {
    "name": "ipython",
    "version": 2
   },
   "file_extension": ".py",
   "mimetype": "text/x-python",
   "name": "python",
   "nbconvert_exporter": "python",
   "pygments_lexer": "ipython2",
   "version": "2.7.14+"
  }
 },
 "nbformat": 4,
 "nbformat_minor": 4
}

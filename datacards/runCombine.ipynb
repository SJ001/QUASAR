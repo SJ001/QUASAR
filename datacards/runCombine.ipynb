{
 "cells": [
  {
   "cell_type": "code",
   "execution_count": 1,
   "metadata": {},
   "outputs": [
    {
     "name": "stdout",
     "output_type": "stream",
     "text": [
      "2200\n",
      "2400\n",
      "2600\n",
      "2800\n",
      "3000\n",
      "3200\n",
      "3400\n",
      "3600\n",
      "3800\n",
      "4000\n",
      "4200\n",
      "4400\n",
      "4600\n",
      "4800\n",
      "5000\n",
      "5200\n",
      "5400\n",
      "5600\n",
      "5800\n",
      "6000\n",
      "6200\n",
      "6400\n"
     ]
    },
    {
     "name": "stderr",
     "output_type": "stream",
     "text": [
      "Error when running the combination:\n",
      "\tFile /data/t3home000/spark/QUASAR/datacards/blackbox2_m2000_2200.txt does not exist\n",
      "Error when running the combination:\n",
      "\tFile /data/t3home000/spark/QUASAR/datacards/blackbox2_m2200_2400.txt does not exist\n",
      "Error when running the combination:\n",
      "\tFile /data/t3home000/spark/QUASAR/datacards/blackbox2_m2400_2600.txt does not exist\n",
      "Error when running the combination:\n",
      "\tFile /data/t3home000/spark/QUASAR/datacards/blackbox2_m2600_2800.txt does not exist\n",
      "Error when running the combination:\n",
      "\tFile /data/t3home000/spark/QUASAR/datacards/blackbox2_m2800_3000.txt does not exist\n",
      "Error when running the combination:\n",
      "\tFile /data/t3home000/spark/QUASAR/datacards/blackbox2_m3000_3200.txt does not exist\n",
      "Error when running the combination:\n",
      "\tFile /data/t3home000/spark/QUASAR/datacards/blackbox2_m3200_3400.txt does not exist\n",
      "Error when running the combination:\n",
      "\tFile /data/t3home000/spark/QUASAR/datacards/blackbox2_m3400_3600.txt does not exist\n",
      "Error when running the combination:\n",
      "\tFile /data/t3home000/spark/QUASAR/datacards/blackbox2_m3600_3800.txt does not exist\n",
      "Error when running the combination:\n",
      "\tFile /data/t3home000/spark/QUASAR/datacards/blackbox2_m3800_4000.txt does not exist\n",
      "Error when running the combination:\n",
      "\tFile /data/t3home000/spark/QUASAR/datacards/blackbox2_m4000_4200.txt does not exist\n",
      "Error when running the combination:\n",
      "\tFile /data/t3home000/spark/QUASAR/datacards/blackbox2_m4200_4400.txt does not exist\n",
      "Error when running the combination:\n",
      "\tFile /data/t3home000/spark/QUASAR/datacards/blackbox2_m4400_4600.txt does not exist\n",
      "Error when running the combination:\n",
      "\tFile /data/t3home000/spark/QUASAR/datacards/blackbox2_m4600_4800.txt does not exist\n",
      "Error when running the combination:\n",
      "\tFile /data/t3home000/spark/QUASAR/datacards/blackbox2_m4800_5000.txt does not exist\n",
      "Error when running the combination:\n",
      "\tFile /data/t3home000/spark/QUASAR/datacards/blackbox2_m5000_5200.txt does not exist\n",
      "Error when running the combination:\n",
      "\tFile /data/t3home000/spark/QUASAR/datacards/blackbox2_m5200_5400.txt does not exist\n",
      "Error when running the combination:\n",
      "\tFile /data/t3home000/spark/QUASAR/datacards/blackbox2_m5400_5600.txt does not exist\n",
      "Error when running the combination:\n",
      "\tFile /data/t3home000/spark/QUASAR/datacards/blackbox2_m5600_5800.txt does not exist\n",
      "Error when running the combination:\n",
      "\tFile /data/t3home000/spark/QUASAR/datacards/blackbox2_m5800_6000.txt does not exist\n",
      "Error when running the combination:\n",
      "\tFile /data/t3home000/spark/QUASAR/datacards/blackbox2_m6000_6200.txt does not exist\n",
      "Error when running the combination:\n",
      "\tFile /data/t3home000/spark/QUASAR/datacards/blackbox2_m6200_6400.txt does not exist\n"
     ]
    }
   ],
   "source": [
    "%%bash\n",
    "for i in {2000..6200..200}\n",
    "do\n",
    "       echo $(($i+200))\n",
    "       combine -M AsymptoticLimits blackbox2_m${i}_$(($i+200)).txt > bb2_res_${i}_$(($i+200)).txt\n",
    "done\n"
   ]
  },
  {
   "cell_type": "code",
   "execution_count": 5,
   "metadata": {},
   "outputs": [
    {
     "name": "stdout",
     "output_type": "stream",
     "text": [
      "2200\n",
      "2400\n",
      "2600\n",
      "2800\n",
      "3000\n",
      "3200\n",
      "3400\n",
      "3600\n",
      "3800\n",
      "4000\n",
      "4200\n",
      "4400\n",
      "4600\n",
      "4800\n",
      "5000\n",
      "5200\n",
      "5400\n",
      "5600\n",
      "5800\n",
      "6000\n",
      "6200\n",
      "6400\n"
     ]
    },
    {
     "name": "stderr",
     "output_type": "stream",
     "text": [
      "Warning! -- You haven't picked default values for the Parameters of Interest (either with --expectSignal or --setParameters) for generating toys. Combine will use the 'B-only' ModelConfig to generate, which may lead to undesired behaviour if not using the default Physics Model\n",
      "Warning! -- You haven't picked default values for the Parameters of Interest (either with --expectSignal or --setParameters) for generating toys. Combine will use the 'B-only' ModelConfig to generate, which may lead to undesired behaviour if not using the default Physics Model\n",
      "Warning! -- You haven't picked default values for the Parameters of Interest (either with --expectSignal or --setParameters) for generating toys. Combine will use the 'B-only' ModelConfig to generate, which may lead to undesired behaviour if not using the default Physics Model\n",
      "Warning! -- You haven't picked default values for the Parameters of Interest (either with --expectSignal or --setParameters) for generating toys. Combine will use the 'B-only' ModelConfig to generate, which may lead to undesired behaviour if not using the default Physics Model\n",
      "Warning! -- You haven't picked default values for the Parameters of Interest (either with --expectSignal or --setParameters) for generating toys. Combine will use the 'B-only' ModelConfig to generate, which may lead to undesired behaviour if not using the default Physics Model\n",
      "Warning! -- You haven't picked default values for the Parameters of Interest (either with --expectSignal or --setParameters) for generating toys. Combine will use the 'B-only' ModelConfig to generate, which may lead to undesired behaviour if not using the default Physics Model\n",
      "Warning! -- You haven't picked default values for the Parameters of Interest (either with --expectSignal or --setParameters) for generating toys. Combine will use the 'B-only' ModelConfig to generate, which may lead to undesired behaviour if not using the default Physics Model\n",
      "Warning! -- You haven't picked default values for the Parameters of Interest (either with --expectSignal or --setParameters) for generating toys. Combine will use the 'B-only' ModelConfig to generate, which may lead to undesired behaviour if not using the default Physics Model\n",
      "Warning! -- You haven't picked default values for the Parameters of Interest (either with --expectSignal or --setParameters) for generating toys. Combine will use the 'B-only' ModelConfig to generate, which may lead to undesired behaviour if not using the default Physics Model\n",
      "Warning! -- You haven't picked default values for the Parameters of Interest (either with --expectSignal or --setParameters) for generating toys. Combine will use the 'B-only' ModelConfig to generate, which may lead to undesired behaviour if not using the default Physics Model\n",
      "Warning! -- You haven't picked default values for the Parameters of Interest (either with --expectSignal or --setParameters) for generating toys. Combine will use the 'B-only' ModelConfig to generate, which may lead to undesired behaviour if not using the default Physics Model\n",
      "Warning! -- You haven't picked default values for the Parameters of Interest (either with --expectSignal or --setParameters) for generating toys. Combine will use the 'B-only' ModelConfig to generate, which may lead to undesired behaviour if not using the default Physics Model\n",
      "Warning! -- You haven't picked default values for the Parameters of Interest (either with --expectSignal or --setParameters) for generating toys. Combine will use the 'B-only' ModelConfig to generate, which may lead to undesired behaviour if not using the default Physics Model\n",
      "Warning! -- You haven't picked default values for the Parameters of Interest (either with --expectSignal or --setParameters) for generating toys. Combine will use the 'B-only' ModelConfig to generate, which may lead to undesired behaviour if not using the default Physics Model\n",
      "Warning! -- You haven't picked default values for the Parameters of Interest (either with --expectSignal or --setParameters) for generating toys. Combine will use the 'B-only' ModelConfig to generate, which may lead to undesired behaviour if not using the default Physics Model\n",
      "Warning! -- You haven't picked default values for the Parameters of Interest (either with --expectSignal or --setParameters) for generating toys. Combine will use the 'B-only' ModelConfig to generate, which may lead to undesired behaviour if not using the default Physics Model\n",
      "Warning! -- You haven't picked default values for the Parameters of Interest (either with --expectSignal or --setParameters) for generating toys. Combine will use the 'B-only' ModelConfig to generate, which may lead to undesired behaviour if not using the default Physics Model\n",
      "Warning! -- You haven't picked default values for the Parameters of Interest (either with --expectSignal or --setParameters) for generating toys. Combine will use the 'B-only' ModelConfig to generate, which may lead to undesired behaviour if not using the default Physics Model\n",
      "Warning! -- You haven't picked default values for the Parameters of Interest (either with --expectSignal or --setParameters) for generating toys. Combine will use the 'B-only' ModelConfig to generate, which may lead to undesired behaviour if not using the default Physics Model\n",
      "Warning! -- You haven't picked default values for the Parameters of Interest (either with --expectSignal or --setParameters) for generating toys. Combine will use the 'B-only' ModelConfig to generate, which may lead to undesired behaviour if not using the default Physics Model\n",
      "Warning! -- You haven't picked default values for the Parameters of Interest (either with --expectSignal or --setParameters) for generating toys. Combine will use the 'B-only' ModelConfig to generate, which may lead to undesired behaviour if not using the default Physics Model\n",
      "Warning! -- You haven't picked default values for the Parameters of Interest (either with --expectSignal or --setParameters) for generating toys. Combine will use the 'B-only' ModelConfig to generate, which may lead to undesired behaviour if not using the default Physics Model\n"
     ]
    }
   ],
   "source": [
    "%%bash\n",
    "for i in {2000..6200..200}\n",
    "do\n",
    "       echo $(($i+200))\n",
    "       combine -M AsymptoticLimits blackbox3_m${i}_$(($i+200)).txt > bb3_res_${i}_$(($i+200)).txt\n",
    "       grep \"<\" bb3_res_${i}_$(($i+200)).txt > bb3_grepped_res_${i}_$(($i+200)).txt\n",
    "done\n"
   ]
  },
  {
   "cell_type": "code",
   "execution_count": null,
   "metadata": {},
   "outputs": [],
   "source": []
  }
 ],
 "metadata": {
  "kernelspec": {
   "display_name": "statistics-das",
   "language": "python",
   "name": "statistics-das"
  },
  "language_info": {
   "codemirror_mode": {
    "name": "ipython",
    "version": 2
   },
   "file_extension": ".py",
   "mimetype": "text/x-python",
   "name": "python",
   "nbconvert_exporter": "python",
   "pygments_lexer": "ipython2",
   "version": "2.7.14+"
  }
 },
 "nbformat": 4,
 "nbformat_minor": 4
}

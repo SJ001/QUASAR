{
 "cells": [
  {
   "cell_type": "code",
   "execution_count": 1,
   "metadata": {},
   "outputs": [],
   "source": [
    "import numpy as np\n",
    "import pandas as pd\n",
    "import h5py"
   ]
  },
  {
   "cell_type": "markdown",
   "metadata": {},
   "source": [
    "## Load the data"
   ]
  },
  {
   "cell_type": "code",
   "execution_count": 2,
   "metadata": {},
   "outputs": [],
   "source": [
    "all_data = pd.read_hdf(\"../../../2_lhc/LHC_Olympics2020/processing/test_dataset/MassRatio_RandD.h5\")"
   ]
  },
  {
   "cell_type": "code",
   "execution_count": 3,
   "metadata": {},
   "outputs": [],
   "source": [
    "data_signal = all_data.loc[all_data['isSignal'] == 1]\n",
    "data_bkg = all_data.loc[all_data['isSignal'] == 0]"
   ]
  },
  {
   "cell_type": "markdown",
   "metadata": {},
   "source": [
    "## Save R&D background data"
   ]
  },
  {
   "cell_type": "code",
   "execution_count": 4,
   "metadata": {},
   "outputs": [],
   "source": [
    "data_bkg.to_hdf('../../../2_lhc/LHC_Olympics2020/processing/test_dataset/MassRatio_RandD_bkg.h5',key=\"bkg\")"
   ]
  },
  {
   "cell_type": "markdown",
   "metadata": {},
   "source": [
    "## Save different signal level data"
   ]
  },
  {
   "cell_type": "code",
   "execution_count": 5,
   "metadata": {},
   "outputs": [],
   "source": [
    "# Save all signal data\n",
    "data_signal.to_hdf('../../../2_lhc/LHC_Olympics2020/processing/test_dataset/MassRatio_RandD_signal.h5',key=\"signal\")"
   ]
  },
  {
   "cell_type": "code",
   "execution_count": 6,
   "metadata": {},
   "outputs": [],
   "source": [
    "data_signal_900 = all_data.loc[all_data['isSignal'] == 1][0:90000]\n",
    "data_signal_990 = all_data.loc[all_data['isSignal'] == 1][0:99000]\n",
    "data_signal_999 = all_data.loc[all_data['isSignal'] == 1][0:99900]"
   ]
  },
  {
   "cell_type": "code",
   "execution_count": 7,
   "metadata": {},
   "outputs": [],
   "source": [
    "# Save part of the signal data\n",
    "data_signal_900.to_hdf('../../../2_lhc/LHC_Olympics2020/processing/test_dataset/MassRatio_RandD_signal_900.h5',key=\"signal\")\n",
    "data_signal_990.to_hdf('../../../2_lhc/LHC_Olympics2020/processing/test_dataset/MassRatio_RandD_signal_990.h5',key=\"signal\")\n",
    "data_signal_999.to_hdf('../../../2_lhc/LHC_Olympics2020/processing/test_dataset/MassRatio_RandD_signal_999.h5',key=\"signal\")"
   ]
  },
  {
   "cell_type": "markdown",
   "metadata": {},
   "source": [
    "## Save different diluted level signal in noise data"
   ]
  },
  {
   "cell_type": "code",
   "execution_count": 8,
   "metadata": {},
   "outputs": [],
   "source": [
    "data_signal_10k = all_data.loc[all_data['isSignal'] == 1][90000:]\n",
    "data_signal_1k = all_data.loc[all_data['isSignal'] == 1][99000:]\n",
    "data_signal_01k = all_data.loc[all_data['isSignal'] == 1][99900:]"
   ]
  },
  {
   "cell_type": "code",
   "execution_count": 9,
   "metadata": {},
   "outputs": [],
   "source": [
    "diluted_10k = pd.concat([data_bkg,data_signal_10k])\n",
    "diluted_1k = pd.concat([data_bkg,data_signal_1k])\n",
    "diluted_01k = pd.concat([data_bkg,data_signal_01k])"
   ]
  },
  {
   "cell_type": "code",
   "execution_count": 10,
   "metadata": {},
   "outputs": [],
   "source": [
    "# Save the diluted signal data\n",
    "diluted_10k.to_hdf('../../../2_lhc/LHC_Olympics2020/processing/test_dataset/MassRatio_RandD_diluted_10k.h5',key=\"signal\")\n",
    "diluted_1k.to_hdf('../../../2_lhc/LHC_Olympics2020/processing/test_dataset/MassRatio_RandD_diluted_1k.h5',key=\"signal\")\n",
    "diluted_01k.to_hdf('../../../2_lhc/LHC_Olympics2020/processing/test_dataset/MassRatio_RandD_diluted_100.h5',key=\"signal\")"
   ]
  },
  {
   "cell_type": "code",
   "execution_count": null,
   "metadata": {},
   "outputs": [],
   "source": []
  }
 ],
 "metadata": {
  "kernelspec": {
   "display_name": "Python 3",
   "language": "python",
   "name": "python3"
  },
  "language_info": {
   "codemirror_mode": {
    "name": "ipython",
    "version": 3
   },
   "file_extension": ".py",
   "mimetype": "text/x-python",
   "name": "python",
   "nbconvert_exporter": "python",
   "pygments_lexer": "ipython3",
   "version": "3.6.8"
  }
 },
 "nbformat": 4,
 "nbformat_minor": 2
}

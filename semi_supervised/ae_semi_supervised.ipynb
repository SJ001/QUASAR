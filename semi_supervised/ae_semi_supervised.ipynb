{
 "cells": [
  {
   "cell_type": "code",
   "execution_count": 1,
   "metadata": {},
   "outputs": [],
   "source": [
    "import torch\n",
    "import torch.nn as nn\n",
    "import torch.nn.functional as F\n",
    "import torch.optim as optim\n",
    "import pandas as pd\n",
    "import numpy as np\n",
    "import logging\n",
    "import torch.utils.data as utils\n",
    "import matplotlib.pyplot as plt\n",
    "from sklearn.model_selection import train_test_split"
   ]
  },
  {
   "cell_type": "markdown",
   "metadata": {},
   "source": [
    "## Pretrain an AE"
   ]
  },
  {
   "cell_type": "code",
   "execution_count": 2,
   "metadata": {},
   "outputs": [],
   "source": [
    "class BaseNet(nn.Module):\n",
    "    \"\"\"Base class for all neural networks.\"\"\"\n",
    "\n",
    "    def __init__(self):\n",
    "        super().__init__()\n",
    "        self.logger = logging.getLogger(self.__class__.__name__)\n",
    "        self.rep_dim = None  # representation dimensionality, i.e. dim of the code layer or last layer                                                                             \n",
    "\n",
    "    def forward(self, *input):\n",
    "        \"\"\"                                                                                                                                                                        \n",
    "        Forward pass logic                                                                                                                                                         \n",
    "        :return: Network output                                                                                                                                                    \n",
    "        \"\"\"\n",
    "        raise NotImplementedError\n",
    "\n",
    "    def summary(self):\n",
    "        \"\"\"Network summary.\"\"\"\n",
    "        net_parameters = filter(lambda p: p.requires_grad, self.parameters())\n",
    "        params = sum([np.prod(p.size()) for p in net_parameters])\n",
    "        self.logger.info('Trainable parameters: {}'.format(params))\n",
    "        self.logger.info(self)"
   ]
  },
  {
   "cell_type": "code",
   "execution_count": 3,
   "metadata": {},
   "outputs": [],
   "source": [
    "class Linear_BN_leakyReLU(nn.Module):\n",
    "    \"\"\"                                                                                                                                                                            \n",
    "    A nn.Module that consists of a Linear layer followed by BatchNorm1d and a leaky ReLu activation                                                                                \n",
    "    \"\"\"\n",
    "\n",
    "    def __init__(self, in_features, out_features, bias=False, eps=1e-04):\n",
    "        super(Linear_BN_leakyReLU, self).__init__()\n",
    "\n",
    "        self.linear = nn.Linear(in_features, out_features, bias=bias)\n",
    "        self.bn = nn.BatchNorm1d(out_features, eps=eps, affine=bias)\n",
    "\n",
    "    def forward(self, x):\n",
    "        return F.leaky_relu(self.bn(self.linear(x)))"
   ]
  },
  {
   "cell_type": "code",
   "execution_count": 4,
   "metadata": {},
   "outputs": [],
   "source": [
    "class MLP(BaseNet):\n",
    "\n",
    "    def __init__(self, x_dim, h_dims=[128, 64], rep_dim=3, bias=False):\n",
    "        super().__init__()\n",
    "\n",
    "        self.rep_dim = rep_dim\n",
    "\n",
    "        neurons = [x_dim, *h_dims]\n",
    "        layers = [Linear_BN_leakyReLU(neurons[i - 1], neurons[i], bias=bias) for i in range(1, len(neurons))]\n",
    "\n",
    "        self.hidden = nn.ModuleList(layers)\n",
    "        self.code = nn.Linear(h_dims[-1], rep_dim, bias=bias)\n",
    "\n",
    "    def forward(self, x):\n",
    "        x = x.view(int(x.size(0)), -1)\n",
    "        for layer in self.hidden:\n",
    "            x = layer(x)\n",
    "        return self.code(x)"
   ]
  },
  {
   "cell_type": "code",
   "execution_count": 5,
   "metadata": {},
   "outputs": [],
   "source": [
    "class MLP_Decoder(BaseNet):\n",
    "\n",
    "    def __init__(self, x_dim, h_dims=[64, 128], rep_dim=3, bias=False):\n",
    "        super().__init__()\n",
    "\n",
    "        self.rep_dim = rep_dim\n",
    "\n",
    "        neurons = [rep_dim, *h_dims]\n",
    "        layers = [Linear_BN_leakyReLU(neurons[i - 1], neurons[i], bias=bias) for i in range(1, len(neurons))]\n",
    "\n",
    "        self.hidden = nn.ModuleList(layers)\n",
    "        self.reconstruction = nn.Linear(h_dims[-1], x_dim, bias=bias)\n",
    "        self.output_activation = nn.Sigmoid()\n",
    "\n",
    "    def forward(self, x):\n",
    "        x = x.view(int(x.size(0)), -1)\n",
    "        for layer in self.hidden:\n",
    "            x = layer(x)\n",
    "        x = self.reconstruction(x)\n",
    "        return self.output_activation(x)"
   ]
  },
  {
   "cell_type": "code",
   "execution_count": 6,
   "metadata": {},
   "outputs": [],
   "source": [
    "x_dim, h_dims, rep_dim, bias = 12,[40,30,20,10],3, False\n",
    "model_enc = MLP(x_dim, h_dims, rep_dim, bias).cuda()\n",
    "model_dec = MLP_Decoder(x_dim, list(reversed(h_dims)), rep_dim, bias).cuda()"
   ]
  },
  {
   "cell_type": "code",
   "execution_count": 7,
   "metadata": {},
   "outputs": [],
   "source": [
    "lhc_data = np.array(pd.read_hdf(\"Nsubjettiness_RandD_normalized.h5\"))"
   ]
  },
  {
   "cell_type": "code",
   "execution_count": 8,
   "metadata": {},
   "outputs": [],
   "source": [
    "X = lhc_data[:,1:-1]\n",
    "y = lhc_data[:,-1]"
   ]
  },
  {
   "cell_type": "code",
   "execution_count": 9,
   "metadata": {},
   "outputs": [],
   "source": [
    "for i in range(len(X[0])):\n",
    "    X[:,i] = (X[:,i]-min(X[:,i]))/(max(X[:,i])-min(X[:,i]))"
   ]
  },
  {
   "cell_type": "code",
   "execution_count": 10,
   "metadata": {},
   "outputs": [],
   "source": [
    "idx_norm = y == 0\n",
    "idx_out = y == 1"
   ]
  },
  {
   "cell_type": "code",
   "execution_count": 11,
   "metadata": {},
   "outputs": [],
   "source": [
    "X_train_norm, X_test_norm, y_train_norm, y_test_norm = train_test_split(X[idx_norm], y[idx_norm],test_size=0.2)\n",
    "X_train_out, X_test_out, y_train_out, y_test_out = train_test_split(X[idx_out], y[idx_out],test_size=0.2)"
   ]
  },
  {
   "cell_type": "code",
   "execution_count": 12,
   "metadata": {},
   "outputs": [],
   "source": [
    "X_train = np.concatenate((X_train_norm, X_train_out))\n",
    "X_test = np.concatenate((X_test_norm, X_test_out))\n",
    "y_train = np.concatenate((y_train_norm, y_train_out))\n",
    "y_test = np.concatenate((y_test_norm, y_test_out))"
   ]
  },
  {
   "cell_type": "code",
   "execution_count": 13,
   "metadata": {},
   "outputs": [],
   "source": [
    "known_idx_train = np.where(y_train==1)[0]\n",
    "power_labels = np.ones(len(y_train))\n",
    "power_labels[known_idx_train]=-1"
   ]
  },
  {
   "cell_type": "code",
   "execution_count": 14,
   "metadata": {},
   "outputs": [],
   "source": [
    "X_train = torch.tensor(X_train).float().cuda()\n",
    "X_test = torch.tensor(X_test).float().cuda()\n",
    "y_train = torch.tensor(y_train).float().cuda()\n",
    "y_test = torch.tensor(y_test).float().cuda()\n",
    "power_labels = torch.tensor(power_labels).float().cuda()\n",
    "power_labels = power_labels.view(len(power_labels),1)"
   ]
  },
  {
   "cell_type": "code",
   "execution_count": 15,
   "metadata": {},
   "outputs": [],
   "source": [
    "# use power labels instead of the real labels\n",
    "training_dataset = utils.TensorDataset(X_train,power_labels) \n",
    "training_dataloader = utils.DataLoader(training_dataset, batch_size=2048, shuffle=True)"
   ]
  },
  {
   "cell_type": "code",
   "execution_count": 16,
   "metadata": {},
   "outputs": [],
   "source": [
    "n_epochs = 360\n",
    "lrs = 3e-3\n",
    "loss_f = nn.MSELoss()"
   ]
  },
  {
   "cell_type": "code",
   "execution_count": null,
   "metadata": {},
   "outputs": [],
   "source": [
    "for epoch in range(n_epochs):\n",
    "    if epoch%40==0:\n",
    "        lrs = lrs/3\n",
    "        optimizer_enc = optim.Adam(model_enc.parameters(), lr = lrs, weight_decay=5e-4)\n",
    "        optimizer_dec = optim.Adam(model_dec.parameters(), lr = lrs, weight_decay=5e-4)\n",
    "    model_enc.train()\n",
    "    model_dec.train()\n",
    "    \n",
    "    for i, data in enumerate(training_dataloader):\n",
    "        optimizer_enc.zero_grad()\n",
    "        optimizer_dec.zero_grad()\n",
    "        \n",
    "        x_pred = model_dec(model_enc(data[0]))\n",
    "        \n",
    "        loss = torch.sqrt(loss_f(x_pred,data[0])/torch.mean(data[0]**2))\n",
    "#         loss = loss_f(x_pred,data[0])\n",
    "        loss.backward()\n",
    "        \n",
    "        optimizer_enc.step()\n",
    "        optimizer_dec.step()\n",
    "    print(epoch, lrs, loss.detach().cpu().numpy())"
   ]
  },
  {
   "cell_type": "code",
   "execution_count": null,
   "metadata": {},
   "outputs": [],
   "source": [
    "# torch.save(model_enc.state_dict(), \"weights/AE_encoder.h5\")\n",
    "# torch.save(model_dec.state_dict(), \"weights/AE_decoder.h5\")"
   ]
  },
  {
   "cell_type": "code",
   "execution_count": 17,
   "metadata": {},
   "outputs": [
    {
     "data": {
      "text/plain": [
       "<All keys matched successfully>"
      ]
     },
     "execution_count": 17,
     "metadata": {},
     "output_type": "execute_result"
    }
   ],
   "source": [
    "model_enc.load_state_dict(torch.load(\"weights/AE_encoder.h5\"))\n",
    "model_dec.load_state_dict(torch.load(\"weights/AE_decoder.h5\"))"
   ]
  },
  {
   "cell_type": "markdown",
   "metadata": {},
   "source": [
    "## Test time"
   ]
  },
  {
   "cell_type": "code",
   "execution_count": 18,
   "metadata": {},
   "outputs": [],
   "source": [
    "test_dataset = utils.TensorDataset(X_test,y_test) \n",
    "test_dataloader = utils.DataLoader(test_dataset, batch_size=2048)"
   ]
  },
  {
   "cell_type": "code",
   "execution_count": 19,
   "metadata": {},
   "outputs": [],
   "source": [
    "model_dec.eval()\n",
    "model_enc.eval()\n",
    "losses = np.array([])\n",
    "with torch.no_grad():\n",
    "    for i, data in enumerate(test_dataloader):\n",
    "        x_pred = x_pred = model_dec(model_enc(data[0]))\n",
    "        loss =  torch.mean((x_pred-data[0])**2,axis=1)\n",
    "        losses = np.append(losses,loss.detach().cpu().numpy())"
   ]
  },
  {
   "cell_type": "code",
   "execution_count": 20,
   "metadata": {},
   "outputs": [],
   "source": [
    "losses_sig = losses[np.where(y_test.detach().cpu().numpy()==1)]\n",
    "losses_bkg = losses[np.where(y_test.detach().cpu().numpy()==0)]"
   ]
  },
  {
   "cell_type": "code",
   "execution_count": 21,
   "metadata": {},
   "outputs": [
    {
     "data": {
      "image/png": "[encoded data removed]",
      "text/plain": [
       "<Figure size 432x288 with 1 Axes>"
      ]
     },
     "metadata": {
      "needs_background": "light"
     },
     "output_type": "display_data"
    }
   ],
   "source": [
    "plt.hist(losses_sig,100,range=[0.004,0.02],weights=np.ones(len(losses_sig))*len(losses_bkg)/len(losses_sig),label=\"signal\");\n",
    "plt.hist(losses_bkg,100,range=[0.004,0.02],histtype=\"step\",label=\"background\");\n",
    "plt.legend();"
   ]
  },
  {
   "cell_type": "markdown",
   "metadata": {},
   "source": [
    "## Add sphere in latent space"
   ]
  },
  {
   "cell_type": "code",
   "execution_count": 22,
   "metadata": {},
   "outputs": [],
   "source": [
    "model_enc_sphere = MLP(x_dim, h_dims, rep_dim, bias).cuda()\n",
    "model_dec_sphere = MLP_Decoder(x_dim, list(reversed(h_dims)), rep_dim, bias).cuda()"
   ]
  },
  {
   "cell_type": "code",
   "execution_count": 23,
   "metadata": {},
   "outputs": [
    {
     "data": {
      "text/plain": [
       "<All keys matched successfully>"
      ]
     },
     "execution_count": 23,
     "metadata": {},
     "output_type": "execute_result"
    }
   ],
   "source": [
    "model_enc_sphere.load_state_dict(torch.load(\"weights/AE_encoder.h5\"))\n",
    "model_dec_sphere.load_state_dict(torch.load(\"weights/AE_decoder.h5\"))"
   ]
  },
  {
   "cell_type": "code",
   "execution_count": 24,
   "metadata": {},
   "outputs": [],
   "source": [
    "lat_space = np.array([0,0,0])\n",
    "with torch.no_grad():\n",
    "    for i, data in enumerate(training_dataloader):\n",
    "        lat = model_enc_sphere(data[0])\n",
    "        lat_space = np.row_stack([lat_space,torch.mean(lat,0).detach().cpu().numpy()])"
   ]
  },
  {
   "cell_type": "code",
   "execution_count": 25,
   "metadata": {},
   "outputs": [],
   "source": [
    "lat_space = lat_space[1:]"
   ]
  },
  {
   "cell_type": "code",
   "execution_count": 26,
   "metadata": {},
   "outputs": [],
   "source": [
    "sphere_center = np.array([np.mean(lat_space[:,0]),np.mean(lat_space[:,1]),np.mean(lat_space[:,2])])"
   ]
  },
  {
   "cell_type": "code",
   "execution_count": 27,
   "metadata": {},
   "outputs": [
    {
     "data": {
      "text/plain": [
       "tensor([0.1093, 0.0499, 0.1183], device='cuda:0')"
      ]
     },
     "execution_count": 27,
     "metadata": {},
     "output_type": "execute_result"
    }
   ],
   "source": [
    "sphere_center = torch.tensor(sphere_center).float().cuda()\n",
    "sphere_center"
   ]
  },
  {
   "cell_type": "code",
   "execution_count": 28,
   "metadata": {},
   "outputs": [],
   "source": [
    "n_epochs = 200\n",
    "lrs = 1e-4\n",
    "loss_f = nn.MSELoss()"
   ]
  },
  {
   "cell_type": "code",
   "execution_count": 58,
   "metadata": {},
   "outputs": [
    {
     "name": "stdout",
     "output_type": "stream",
     "text": [
      "/home/paperspace/fastai/courses/Tegmark_project_2/normalizing_flows_for_lhc_29_Jan/analysis_may_2020/Deep-SAD-PyTorch/data\r\n"
     ]
    }
   ],
   "source": [
    "!pwd"
   ]
  },
  {
   "cell_type": "code",
   "execution_count": 29,
   "metadata": {
    "scrolled": true
   },
   "outputs": [
    {
     "name": "stdout",
     "output_type": "stream",
     "text": [
      "0 3.3333333333333335e-05 103.73647\n",
      "1 3.3333333333333335e-05 52.82835\n",
      "2 3.3333333333333335e-05 3161.7144\n",
      "3 3.3333333333333335e-05 24.192394\n",
      "4 3.3333333333333335e-05 268.59335\n",
      "5 3.3333333333333335e-05 22.9772\n",
      "6 3.3333333333333335e-05 331.22614\n",
      "7 3.3333333333333335e-05 96.869896\n",
      "8 3.3333333333333335e-05 49683.184\n",
      "9 3.3333333333333335e-05 25.78176\n",
      "10 3.3333333333333335e-05 117.4273\n",
      "11 3.3333333333333335e-05 2853.694\n",
      "12 3.3333333333333335e-05 58.274868\n",
      "13 3.3333333333333335e-05 72.342865\n",
      "14 3.3333333333333335e-05 28.801168\n",
      "15 3.3333333333333335e-05 36.26664\n",
      "16 3.3333333333333335e-05 1128.4102\n",
      "17 3.3333333333333335e-05 71.022804\n",
      "18 3.3333333333333335e-05 319.05423\n",
      "19 3.3333333333333335e-05 275.86264\n",
      "20 1.1111111111111112e-05 98.95187\n",
      "21 1.1111111111111112e-05 702.239\n",
      "22 1.1111111111111112e-05 626.74536\n",
      "23 1.1111111111111112e-05 55.465324\n",
      "24 1.1111111111111112e-05 34.94226\n",
      "25 1.1111111111111112e-05 43.380013\n",
      "26 1.1111111111111112e-05 39.887844\n",
      "27 1.1111111111111112e-05 32.907036\n",
      "28 1.1111111111111112e-05 2824.0315\n",
      "29 1.1111111111111112e-05 49.365677\n",
      "30 1.1111111111111112e-05 11.901753\n",
      "31 1.1111111111111112e-05 71.14775\n",
      "32 1.1111111111111112e-05 50.56373\n",
      "33 1.1111111111111112e-05 237.82253\n",
      "34 1.1111111111111112e-05 350.66162\n",
      "35 1.1111111111111112e-05 25.281672\n",
      "36 1.1111111111111112e-05 82.2181\n",
      "37 1.1111111111111112e-05 280.6649\n",
      "38 1.1111111111111112e-05 8521.131\n",
      "39 1.1111111111111112e-05 116.049866\n",
      "40 3.7037037037037037e-06 139.05609\n",
      "41 3.7037037037037037e-06 1833.6053\n",
      "42 3.7037037037037037e-06 157.67677\n",
      "43 3.7037037037037037e-06 373.8998\n",
      "44 3.7037037037037037e-06 977.749\n",
      "45 3.7037037037037037e-06 22.947071\n",
      "46 3.7037037037037037e-06 73.68843\n",
      "47 3.7037037037037037e-06 105.02523\n",
      "48 3.7037037037037037e-06 43.910423\n",
      "49 3.7037037037037037e-06 27.159935\n",
      "50 3.7037037037037037e-06 122028.92\n",
      "51 3.7037037037037037e-06 84.52138\n",
      "52 3.7037037037037037e-06 921.53094\n",
      "53 3.7037037037037037e-06 283.53976\n",
      "54 3.7037037037037037e-06 4617.7705\n",
      "55 3.7037037037037037e-06 64.85053\n",
      "56 3.7037037037037037e-06 103.14262\n",
      "57 3.7037037037037037e-06 206.86115\n",
      "58 3.7037037037037037e-06 389.0755\n",
      "59 3.7037037037037037e-06 364.94803\n",
      "60 1.234567901234568e-06 232.71301\n",
      "61 1.234567901234568e-06 146.38075\n",
      "62 1.234567901234568e-06 99.27784\n",
      "63 1.234567901234568e-06 8451.642\n",
      "64 1.234567901234568e-06 479.19293\n",
      "65 1.234567901234568e-06 98.74651\n",
      "66 1.234567901234568e-06 28501.742\n",
      "67 1.234567901234568e-06 41.606964\n",
      "68 1.234567901234568e-06 18653.215\n",
      "69 1.234567901234568e-06 18489.828\n",
      "70 1.234567901234568e-06 36643.676\n",
      "71 1.234567901234568e-06 134083.7\n",
      "72 1.234567901234568e-06 381.03156\n",
      "73 1.234567901234568e-06 18.234797\n",
      "74 1.234567901234568e-06 394.314\n",
      "75 1.234567901234568e-06 103.41547\n",
      "76 1.234567901234568e-06 83.94088\n",
      "77 1.234567901234568e-06 159.17659\n",
      "78 1.234567901234568e-06 186.207\n",
      "79 1.234567901234568e-06 336.11932\n",
      "80 4.11522633744856e-07 341.12103\n",
      "81 4.11522633744856e-07 717.3485\n",
      "82 4.11522633744856e-07 5390.8164\n",
      "83 4.11522633744856e-07 541.49005\n",
      "84 4.11522633744856e-07 30.116508\n",
      "85 4.11522633744856e-07 521.9097\n",
      "86 4.11522633744856e-07 701.78894\n",
      "87 4.11522633744856e-07 62.844707\n",
      "88 4.11522633744856e-07 53.82903\n",
      "89 4.11522633744856e-07 264.54544\n",
      "90 4.11522633744856e-07 28.565796\n",
      "91 4.11522633744856e-07 53.082256\n",
      "92 4.11522633744856e-07 66.40173\n",
      "93 4.11522633744856e-07 165948.8\n",
      "94 4.11522633744856e-07 5328.8364\n",
      "95 4.11522633744856e-07 884392.06\n",
      "96 4.11522633744856e-07 794.513\n",
      "97 4.11522633744856e-07 202.78273\n",
      "98 4.11522633744856e-07 63.829525\n",
      "99 4.11522633744856e-07 3168.14\n",
      "100 1.3717421124828532e-07 145.3685\n",
      "101 1.3717421124828532e-07 114.85001\n",
      "102 1.3717421124828532e-07 18824.234\n",
      "103 1.3717421124828532e-07 5861.675\n",
      "104 1.3717421124828532e-07 2732.5032\n",
      "105 1.3717421124828532e-07 238.49498\n",
      "106 1.3717421124828532e-07 45.725018\n",
      "107 1.3717421124828532e-07 170.36539\n",
      "108 1.3717421124828532e-07 167.46101\n",
      "109 1.3717421124828532e-07 4930.3477\n",
      "110 1.3717421124828532e-07 523.94165\n",
      "111 1.3717421124828532e-07 209.30656\n",
      "112 1.3717421124828532e-07 55.17798\n",
      "113 1.3717421124828532e-07 705.9776\n",
      "114 1.3717421124828532e-07 167.97987\n",
      "115 1.3717421124828532e-07 704.3236\n",
      "116 1.3717421124828532e-07 6550.4536\n",
      "117 1.3717421124828532e-07 179.01437\n",
      "118 1.3717421124828532e-07 7568.4717\n",
      "119 1.3717421124828532e-07 5414.441\n",
      "120 4.5724737082761776e-08 191.35336\n",
      "121 4.5724737082761776e-08 4602.598\n",
      "122 4.5724737082761776e-08 81864.09\n",
      "123 4.5724737082761776e-08 173.09097\n",
      "124 4.5724737082761776e-08 557.90784\n",
      "125 4.5724737082761776e-08 74.626015\n",
      "126 4.5724737082761776e-08 144.05966\n",
      "127 4.5724737082761776e-08 487.5498\n",
      "128 4.5724737082761776e-08 640.007\n",
      "129 4.5724737082761776e-08 91.96421\n",
      "130 4.5724737082761776e-08 1291.319\n",
      "131 4.5724737082761776e-08 50.725143\n",
      "132 4.5724737082761776e-08 469.98068\n",
      "133 4.5724737082761776e-08 300.45416\n",
      "134 4.5724737082761776e-08 210.16988\n",
      "135 4.5724737082761776e-08 29.000307\n",
      "136 4.5724737082761776e-08 9841.415\n",
      "137 4.5724737082761776e-08 457.50766\n",
      "138 4.5724737082761776e-08 149.38077\n",
      "139 4.5724737082761776e-08 123.37285\n",
      "140 1.5241579027587257e-08 20218.596\n",
      "141 1.5241579027587257e-08 215.28058\n",
      "142 1.5241579027587257e-08 170.9024\n",
      "143 1.5241579027587257e-08 104585.375\n",
      "144 1.5241579027587257e-08 5323.8276\n",
      "145 1.5241579027587257e-08 863.7036\n",
      "146 1.5241579027587257e-08 31874.422\n",
      "147 1.5241579027587257e-08 540.97455\n",
      "148 1.5241579027587257e-08 103.317604\n",
      "149 1.5241579027587257e-08 2122.3147\n",
      "150 1.5241579027587257e-08 24.633848\n",
      "151 1.5241579027587257e-08 132.41609\n",
      "152 1.5241579027587257e-08 67.3967\n",
      "153 1.5241579027587257e-08 2721.9941\n",
      "154 1.5241579027587257e-08 43.906578\n",
      "155 1.5241579027587257e-08 135.6464\n",
      "156 1.5241579027587257e-08 8734.032\n",
      "157 1.5241579027587257e-08 464.8581\n",
      "158 1.5241579027587257e-08 78.93932\n",
      "159 1.5241579027587257e-08 3219.0461\n",
      "160 5.0805263425290856e-09 74.39525\n",
      "161 5.0805263425290856e-09 59.892056\n",
      "162 5.0805263425290856e-09 317.61533\n",
      "163 5.0805263425290856e-09 62.138\n",
      "164 5.0805263425290856e-09 513.76587\n",
      "165 5.0805263425290856e-09 26.097149\n",
      "166 5.0805263425290856e-09 186.85075\n",
      "167 5.0805263425290856e-09 2677.9023\n",
      "168 5.0805263425290856e-09 177.3579\n",
      "169 5.0805263425290856e-09 7983.884\n",
      "170 5.0805263425290856e-09 220.30481\n",
      "171 5.0805263425290856e-09 4157.8467\n",
      "172 5.0805263425290856e-09 8528.009\n",
      "173 5.0805263425290856e-09 2049.8677\n",
      "174 5.0805263425290856e-09 190.36803\n",
      "175 5.0805263425290856e-09 1016.311\n",
      "176 5.0805263425290856e-09 151.12532\n",
      "177 5.0805263425290856e-09 99.76044\n",
      "178 5.0805263425290856e-09 367.5342\n",
      "179 5.0805263425290856e-09 2056.7385\n",
      "180 1.6935087808430286e-09 934.4971\n",
      "181 1.6935087808430286e-09 56.883385\n",
      "182 1.6935087808430286e-09 105.44346\n",
      "183 1.6935087808430286e-09 860.46674\n",
      "184 1.6935087808430286e-09 293.3624\n",
      "185 1.6935087808430286e-09 958.5845\n",
      "186 1.6935087808430286e-09 1006.288\n",
      "187 1.6935087808430286e-09 593.95807\n",
      "188 1.6935087808430286e-09 73.710075\n",
      "189 1.6935087808430286e-09 316.45892\n",
      "190 1.6935087808430286e-09 341.26346\n",
      "191 1.6935087808430286e-09 122.35473\n",
      "192 1.6935087808430286e-09 149.72725\n",
      "193 1.6935087808430286e-09 4847.113\n",
      "194 1.6935087808430286e-09 30166.654\n",
      "195 1.6935087808430286e-09 29.858671\n",
      "196 1.6935087808430286e-09 3249.0203\n",
      "197 1.6935087808430286e-09 721.7881\n",
      "198 1.6935087808430286e-09 61.016354\n",
      "199 1.6935087808430286e-09 1257.6124\n"
     ]
    }
   ],
   "source": [
    "for epoch in range(n_epochs):\n",
    "    if epoch%20==0:\n",
    "        lrs = lrs/3\n",
    "        optimizer_enc = optim.Adam(model_enc_sphere.parameters(), lr = lrs, weight_decay=5e-4)\n",
    "    model_enc_sphere.train()\n",
    "    \n",
    "    for i, data in enumerate(training_dataloader):\n",
    "        optimizer_enc.zero_grad()        \n",
    "        \n",
    "        loss = torch.mean((model_enc_sphere(data[0])-sphere_center)**(2*data[1]))\n",
    "        loss.backward()\n",
    "        \n",
    "        optimizer_enc.step()\n",
    "    print(epoch, lrs, loss.detach().cpu().numpy())"
   ]
  },
  {
   "cell_type": "code",
   "execution_count": null,
   "metadata": {},
   "outputs": [],
   "source": [
    "# torch.save(model_enc_sphere.state_dict(), \"weights/AE_encoder_sphere.h5\")\n",
    "# torch.save(model_dec_sphere.state_dict(), \"weights/AE_decoder_sphere.h5\")"
   ]
  },
  {
   "cell_type": "code",
   "execution_count": null,
   "metadata": {},
   "outputs": [],
   "source": [
    "model_enc_sphere.load_state_dict(torch.load(\"weights/AE_encoder_sphere.h5\"))\n",
    "model_dec_sphere.load_state_dict(torch.load(\"weights/AE_decoder_sphere.h5\"))"
   ]
  },
  {
   "cell_type": "markdown",
   "metadata": {},
   "source": [
    "## Test time again"
   ]
  },
  {
   "cell_type": "code",
   "execution_count": 30,
   "metadata": {},
   "outputs": [],
   "source": [
    "model_enc_sphere.eval()\n",
    "model_dec_sphere.eval()\n",
    "losses = np.array([])\n",
    "with torch.no_grad():\n",
    "    for i, data in enumerate(test_dataloader):\n",
    "        x_pred = x_pred = model_dec_sphere(model_enc_sphere(data[0]))\n",
    "        loss =  torch.mean((x_pred-data[0])**2,axis=1)\n",
    "        losses = np.append(losses,loss.detach().cpu().numpy())"
   ]
  },
  {
   "cell_type": "code",
   "execution_count": 31,
   "metadata": {},
   "outputs": [],
   "source": [
    "losses_sig = losses[np.where(y_test.detach().cpu().numpy()==1)]\n",
    "losses_bkg = losses[np.where(y_test.detach().cpu().numpy()==0)]"
   ]
  },
  {
   "cell_type": "code",
   "execution_count": 37,
   "metadata": {},
   "outputs": [
    {
     "data": {
      "image/png": "[encoded data removed]",
      "text/plain": [
       "<Figure size 432x288 with 1 Axes>"
      ]
     },
     "metadata": {
      "needs_background": "light"
     },
     "output_type": "display_data"
    }
   ],
   "source": [
    "plt.hist(losses_sig,100,range=[0,0.1],weights=np.ones(len(losses_sig))*len(losses_bkg)/len(losses_sig),label=\"signal\");\n",
    "plt.hist(losses_bkg,100,range=[0,0.1],histtype=\"step\",label=\"background\");\n",
    "plt.legend();"
   ]
  },
  {
   "cell_type": "code",
   "execution_count": 38,
   "metadata": {},
   "outputs": [
    {
     "data": {
      "image/png": "[encoded data removed]",
      "text/plain": [
       "<Figure size 432x288 with 1 Axes>"
      ]
     },
     "metadata": {
      "needs_background": "light"
     },
     "output_type": "display_data"
    }
   ],
   "source": [
    "plt.hist(losses_sig,100,range=[0.005,0.02],weights=np.ones(len(losses_sig))*len(losses_bkg)/len(losses_sig),label=\"signal\");\n",
    "plt.hist(losses_bkg,100,range=[0.005,0.02],histtype=\"step\",label=\"background\");\n",
    "plt.legend();"
   ]
  },
  {
   "cell_type": "markdown",
   "metadata": {},
   "source": [
    "## Check latent space"
   ]
  },
  {
   "cell_type": "code",
   "execution_count": 39,
   "metadata": {},
   "outputs": [],
   "source": [
    "model_enc_sphere.eval()\n",
    "model_dec_sphere.eval()\n",
    "latents = np.array([0,0,0])\n",
    "with torch.no_grad():\n",
    "    for i, data in enumerate(test_dataloader):\n",
    "        lat =  model_enc_sphere(data[0])\n",
    "        latents = np.row_stack([latents,lat.detach().cpu().numpy()])"
   ]
  },
  {
   "cell_type": "code",
   "execution_count": 40,
   "metadata": {},
   "outputs": [],
   "source": [
    "latents = latents[1:]"
   ]
  },
  {
   "cell_type": "code",
   "execution_count": 41,
   "metadata": {},
   "outputs": [],
   "source": [
    "latents_sig = latents[np.where(y_test.detach().cpu().numpy()==1)]\n",
    "latents_bkg = latents[np.where(y_test.detach().cpu().numpy()==0)]"
   ]
  },
  {
   "cell_type": "code",
   "execution_count": 44,
   "metadata": {},
   "outputs": [
    {
     "data": {
      "image/png": "[encoded data removed]",
      "text/plain": [
       "<Figure size 432x288 with 1 Axes>"
      ]
     },
     "metadata": {
      "needs_background": "light"
     },
     "output_type": "display_data"
    }
   ],
   "source": [
    "i = 2\n",
    "plt.hist(latents_sig[:,i],100,range=[0,2],weights=np.ones(len(losses_sig))*len(losses_bkg)/len(losses_sig),label=\"signal\");\n",
    "plt.hist(latents_bkg[:,i],100,range=[0,2],histtype=\"step\",label=\"background\");\n",
    "plt.plot([sphere_center[i],sphere_center[i]],[0,10000],\"k--\")\n",
    "plt.legend();"
   ]
  }
 ],
 "metadata": {
  "kernelspec": {
   "display_name": "Python 3",
   "language": "python",
   "name": "python3"
  },
  "language_info": {
   "codemirror_mode": {
    "name": "ipython",
    "version": 3
   },
   "file_extension": ".py",
   "mimetype": "text/x-python",
   "name": "python",
   "nbconvert_exporter": "python",
   "pygments_lexer": "ipython3",
   "version": "3.6.8"
  }
 },
 "nbformat": 4,
 "nbformat_minor": 2
}

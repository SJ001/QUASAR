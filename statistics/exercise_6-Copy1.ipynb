{
 "cells": [
  {
   "cell_type": "code",
   "execution_count": 1,
   "metadata": {},
   "outputs": [
    {
     "name": "stdout",
     "output_type": "stream",
     "text": [
      "Welcome to JupyROOT 6.12/07\n"
     ]
    }
   ],
   "source": [
    "import ROOT as rt\n",
    "tfile = rt.TFile.Open('blah.root')"
   ]
  },
  {
   "cell_type": "code",
   "execution_count": null,
   "metadata": {},
   "outputs": [],
   "source": [
    "tfile = rt.TFile.Open('blah.root')"
   ]
  },
  {
   "cell_type": "code",
   "execution_count": null,
   "metadata": {},
   "outputs": [],
   "source": []
  },
  {
   "cell_type": "code",
   "execution_count": 2,
   "metadata": {},
   "outputs": [
    {
     "name": "stdout",
     "output_type": "stream",
     "text": [
      "TFile**\t\tblah.root\t\n",
      " TFile*\t\tblah.root\t\n",
      "  KEY: TH1F\tejets;2\tejets\n",
      "  KEY: TH1F\tejets;1\tejets\n",
      "  KEY: TH1F\tmujets;2\tmujets\n",
      "  KEY: TH1F\tmujets;1\tmujets\n"
     ]
    }
   ],
   "source": [
    "tfile.ls()"
   ]
  },
  {
   "cell_type": "code",
   "execution_count": 4,
   "metadata": {},
   "outputs": [
    {
     "name": "stdout",
     "output_type": "stream",
     "text": [
      "imax 2\n",
      "jmax 2\n",
      "kmax 7\n",
      "---------------\n",
      "shapes * * shapes_file.root $CHANNEL/$PROCESS  $CHANNEL/$PROCESS_$SYSTEMATIC\n",
      "---------------\n",
      "bin ejets mujets\n",
      "observation 4734 6448\n",
      "------------------------------\n",
      "bin             ejets      ejets   ejets   mujets     mujets    mujets\n",
      "process         tprime600  top     ewk     tprime600  top       ewk\n",
      "process         0          1       2       0          1         2\n",
      "rate            227        4048    760     302        5465.496783      1098.490939\n",
      "--------------------------------\n",
      "lumi     lnN    1.10        -       -     1.10        -         -\n",
      "bgnortop lnN    -          1.114    -     -          1.114      -\n",
      "bgnorewk lnN    -           -      1.5    -           -        1.5\n",
      "eff_mu   lnN    -           -       -     1.03       1.03      1.03\n",
      "eff_e    lnN    1.03       1.03    1.03    -          -         -\n",
      "jes    shape    1           1       1      1          1         1   uncertainty on shape due to JES uncertainty\n",
      "btgsf  shape    1           1       1      1          1         1   uncertainty on shape due to b-tagging scale factor uncertainty"
     ]
    }
   ],
   "source": [
    "%%bash\n",
    "cat myshapes.txt"
   ]
  },
  {
   "cell_type": "code",
   "execution_count": 6,
   "metadata": {},
   "outputs": [
    {
     "name": "stdout",
     "output_type": "stream",
     "text": [
      "\n",
      ">>> method used is AsymptoticLimits\n",
      ">>> random number generator seed is 123456\n"
     ]
    },
    {
     "name": "stderr",
     "output_type": "stream",
     "text": [
      "Traceback (most recent call last):\n",
      "  File \"/data/t3home000/spark/statistics-das/cmssw-env/bin/slc6_amd64_gcc700/text2workspace.py\", line 63, in <module>\n",
      "    MB.doModel(justCheckPhysicsModel=options.justCheckPhysicsModel)\n",
      "  File \"/data/t3home000/spark/statistics-das/cmssw-env/python/HiggsAnalysis/CombinedLimit/ModelTools.py\", line 110, in doModel\n",
      "    if not justCheckPhysicsModel: self.doObservables()\n",
      "  File \"/data/t3home000/spark/statistics-das/cmssw-env/python/HiggsAnalysis/CombinedLimit/ShapeTools.py\", line 61, in doObservables\n",
      "    self.prepareAllShapes();\n",
      "  File \"/data/t3home000/spark/statistics-das/cmssw-env/python/HiggsAnalysis/CombinedLimit/ShapeTools.py\", line 332, in prepareAllShapes\n",
      "    shape = self.getShape(b,p); norm = 0;\n",
      "  File \"/data/t3home000/spark/statistics-das/cmssw-env/python/HiggsAnalysis/CombinedLimit/ShapeTools.py\", line 573, in getShape\n",
      "    raise RuntimeError, \"Failed to find %s in file %s (from pattern %s, %s)\" % (objname,finalNames[0],names[1],names[0])\n",
      "RuntimeError: Failed to find ejets/data_obs in file blah.root (from pattern $CHANNEL/$PROCESS, blah.root)\n",
      "Error when running the combination:\n",
      "\tFailed to convert the input datacard from LandS to RooStats format. The lines above probably contain more information about the error.\n"
     ]
    }
   ],
   "source": [
    "%%bash\n",
    "combine -v 3 -M AsymptoticLimits  myshapes.txt"
   ]
  },
  {
   "cell_type": "code",
   "execution_count": null,
   "metadata": {},
   "outputs": [],
   "source": []
  }
 ],
 "metadata": {
  "kernelspec": {
   "display_name": "statistics-das",
   "language": "python",
   "name": "statistics-das"
  },
  "language_info": {
   "codemirror_mode": {
    "name": "ipython",
    "version": 2
   },
   "file_extension": ".py",
   "mimetype": "text/x-python",
   "name": "python",
   "nbconvert_exporter": "python",
   "pygments_lexer": "ipython2",
   "version": "2.7.14+"
  }
 },
 "nbformat": 4,
 "nbformat_minor": 2
}

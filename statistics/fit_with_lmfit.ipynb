{
 "cells": [
  {
   "cell_type": "code",
   "execution_count": 1,
   "metadata": {},
   "outputs": [],
   "source": [
    "#load our friends\n",
    "import numpy as np\n",
    "import math as mt \n",
    "import lmfit\n",
    "import csv\n",
    "import scipy.stats as sta\n",
    "import matplotlib.pyplot as plt\n",
    "from lmfit import Minimizer, Parameters\n",
    "from lmfit.lineshapes import gaussian\n",
    "from lmfit.printfuncs import report_fit"
   ]
  },
  {
   "cell_type": "code",
   "execution_count": 2,
   "metadata": {},
   "outputs": [],
   "source": [
    "#define a polynomial with a guassian note polyval is a pre-coded polynomial\n",
    "def polgaus(x, p0, p1, p2, p3, p4, p5, norm, mu, sigma):\n",
    "    pols=[p0,p1,p2,p3,p4,p5]\n",
    "    y = norm*(np.exp(-np.power((x-mu),2.)/(2.*sigma**2)))+ np.polyval(pols,x)\n",
    "    return y\n",
    "\n",
    "#define just a polynomial\n",
    "def polback(x, p0, p1, p2, p3, p4, p5):\n",
    "    pols=[p0,p1,p2,p3,p4,p5]\n",
    "    y = np.polyval(pols,x)\n",
    "    return y\n",
    "\n",
    "def gaus(x,norm,mu,sigma):\n",
    "    y = norm*(np.exp(-np.power((x-mu),2.)/(2.*sigma**2)))\n",
    "    return y"
   ]
  },
  {
   "cell_type": "code",
   "execution_count": null,
   "metadata": {},
   "outputs": [],
   "source": [
    "#makecsv\n",
    "with open('Wpeak_tighterptcut.txt', 'w') as f_in:\n",
    "    for i in range(len(wx)):\n",
    "        f_in.write(f'bin_{i} ')\n",
    "        f_in.write(f'{wx[i]} {wy[i]}\\n')"
   ]
  },
  {
   "cell_type": "code",
   "execution_count": null,
   "metadata": {},
   "outputs": [],
   "source": [
    "#run the fit\n",
    "def fitFile_doublegaus_fancy(label,outname,mu_1=80.38,mu_2=91.1876,vary_mu=True):\n",
    "    x = []\n",
    "    y = []\n",
    "    y_err = []\n",
    "    with open(label,'r') as csvfile:\n",
    "        plots = csv.reader(csvfile, delimiter=' ')\n",
    "        for row in plots:\n",
    "            #print('debug',row[1],row[2])\n",
    "            if float(row[1]) < 52:\n",
    "                    continue\n",
    "            x.append(float(row[1]))\n",
    "            y.append(float(row[2]))\n",
    "            #add poisson uncertainties                                                                                                                                                                                                       \n",
    "            y_err.append(mt.sqrt(float(row[2])))\n",
    "    #Dumb trick to get uncertaities                                                                                                                                                                                                           \n",
    "    weights = np.linspace(0.,len(y),num=len(y))\n",
    "    for i0 in range(len(y)):\n",
    "        weights[i0] = float(1./y_err[i0])\n",
    "    #Now setup the fit (for signal+background)\n",
    "    #model = lmfit.Model(poldoublegaus)\n",
    "    poly_mod = lmfit.Model(polback,prefix='pol_')\n",
    "    \n",
    "    #pars = poly_mod.guess(y, x=x)\n",
    "    \n",
    "    gauss1 = lmfit.Model(gaus,prefix='g1_')\n",
    "    gauss2 = lmfit.Model(gaus,prefix='g2_')\n",
    "    \n",
    "    pars = poly_mod.make_params(p0=-3.48924610e-06,p1=2.79987292e-03,p2=-9.00945726e-01,p3=1.45645139e+02,p4=-1.18689484e+04,p5=3.92197860e+05)\n",
    "    pars.update(gauss1.make_params(norm=305.04,mu=mu_1,sigma=4.5))\n",
    "    pars.update(gauss2.make_params(norm=609.0,mu=mu_2,sigma=13.4))\n",
    "    \n",
    "    print(pars)\n",
    "    #p = model.make_params(p0=-3.48924610e-06,p1=2.79987292e-03,p2=-9.00945726e-01,p3=1.45645139e+02,p4=-1.18689484e+04,p5=3.92197860e+05,\n",
    "    #                      norm_1=305.04,mu_1=mu_1,sigma_1=4.5,norm_2=609.0,mu_2=mu_2,sigma_2=13.4)\n",
    "    pars['g1_mu'].set(value = mu_1, min =50.,max = 160.,vary=vary_mu)\n",
    "    pars['g2_mu'].set(value = mu_2, min =50.,max = 160.,vary=vary_mu)\n",
    "    mod = poly_mod+gauss1+gauss2\n",
    "    #init = mod.eval(pars, x=x, weights=weights)\n",
    "    result = mod.fit(y, pars, x=x, weights=weights)\n",
    "    #plt.figure()\n",
    "    fig, axes = plt.subplots(1, 2, figsize=(12.8, 4.8))\n",
    "    axes[0].plot(x, y, 'b')\n",
    "    #axes[0].plot(x, init, 'k--', label='initial fit')\n",
    "    axes[0].plot(x, result.best_fit, 'r-', label='best fit')\n",
    "    axes[0].legend(loc='best')\n",
    "    \n",
    "    comps = result.eval_components(x=x)\n",
    "    axes[1].plot(x, y, 'b')\n",
    "    axes[1].plot(x, comps['g1_'], 'g--', label='Gaussian component 1')\n",
    "    axes[1].plot(x, comps['g2_'], 'm--', label='Gaussian component 2')\n",
    "    axes[1].plot(x, comps['pol_'], 'k--', label='Polynomial background')\n",
    "    axes[1].legend(loc='best')\n",
    "\n",
    "    labels_x = \"mass[GeV]\"\n",
    "    labels_y = \"Entries/bin\"\n",
    "    #result.plot()\n",
    "    plt.xlabel(labels_x,position=(0.92,0.1))\n",
    "    plt.ylabel(labels_y,position=(0.1,0.84))\n",
    "    plt.savefig(outname+'.png')\n",
    "    print(result.fit_report())\n",
    "    return result.chisqr"
   ]
  }
 ],
 "metadata": {
  "kernelspec": {
   "display_name": "Python 3",
   "language": "python",
   "name": "python3"
  },
  "language_info": {
   "codemirror_mode": {
    "name": "ipython",
    "version": 3
   },
   "file_extension": ".py",
   "mimetype": "text/x-python",
   "name": "python",
   "nbconvert_exporter": "python",
   "pygments_lexer": "ipython3",
   "version": "3.6.7"
  }
 },
 "nbformat": 4,
 "nbformat_minor": 4
}

{
 "cells": [
  {
   "cell_type": "code",
   "execution_count": 1,
   "metadata": {},
   "outputs": [
    {
     "name": "stdout",
     "output_type": "stream",
     "text": [
      "Welcome to JupyROOT 6.12/07\n"
     ]
    },
    {
     "data": {
      "text/plain": [
       "0L"
      ]
     },
     "execution_count": 1,
     "metadata": {},
     "output_type": "execute_result"
    }
   ],
   "source": [
    "import numpy as np\n",
    "import ROOT as r\n",
    "import sys,math,array,os\n",
    "import matplotlib.pyplot as plt\n",
    "r.gROOT.Macro(os.path.expanduser('~/.rootlogon_nystyle.C'))"
   ]
  },
  {
   "cell_type": "markdown",
   "metadata": {},
   "source": [
    "# load bunch of numpy arrays"
   ]
  },
  {
   "cell_type": "code",
   "execution_count": 3,
   "metadata": {},
   "outputs": [],
   "source": [
    "sigaeloss_bb  = np.load('../data/sigaeloss_bb1.npy')\n",
    "sigaeloss_bkg = np.load('../data/sigaeloss_bkg.npy')\n",
    "mass_bb       = np.load('../data/mass_bb1.npy')\n",
    "mass_bkg      = np.load('../data/mass_bkg.npy')\n",
    "bkgaeloss_bb  = np.load('../data/bkgaeloss_bb1.npy')\n",
    "bkgaeloss_bkg = np.load('../data/bkgaeloss_bkg.npy')"
   ]
  },
  {
   "cell_type": "code",
   "execution_count": 4,
   "metadata": {},
   "outputs": [],
   "source": [
    "############### DEFAULT CUT ##############\n",
    "sigae_wp = .65\n",
    "bkgae_wp = 2"
   ]
  },
  {
   "cell_type": "code",
   "execution_count": 48,
   "metadata": {},
   "outputs": [],
   "source": [
    "############### BB1 Alternate CUT ##############\n",
    "sigae_wp = .6\n",
    "bkgae_wp = 1.5"
   ]
  },
  {
   "cell_type": "code",
   "execution_count": 49,
   "metadata": {},
   "outputs": [
    {
     "name": "stdout",
     "output_type": "stream",
     "text": [
      "5154\n",
      "5450\n"
     ]
    }
   ],
   "source": [
    "index_bb, = np.where((bkgaeloss_bb>bkgae_wp)&(sigaeloss_bb<sigae_wp))[0]\n",
    "index_bkg, = np.where((bkgaeloss_bkg>bkgae_wp)&(sigaeloss_bkg<sigae_wp))[0]\n",
    "\n",
    "print(index_bb.shape[0])\n",
    "print(index_bkg.shape[0])"
   ]
  },
  {
   "cell_type": "code",
   "execution_count": 50,
   "metadata": {},
   "outputs": [
    {
     "name": "stdout",
     "output_type": "stream",
     "text": [
      "[1000 1100 1200 1300 1400 1500 1600 1700 1800 1900 2000 2100 2200 2300\n",
      " 2400 2500 2600 2700 2800 2900 3000 3100 3200 3300 3400 3500 3600 3700\n",
      " 3800 3900 4000 4100 4200 4300 4400 4500 4600 4700 4800 4900 5000 5100\n",
      " 5200 5300 5400 5500 5600 5700 5800 5900 6000 6100 6200 6300 6400 6500\n",
      " 6600 6700 6800 6900 7000 7100 7200 7300 7400 7500 7600 7700 7800 7900\n",
      " 8000]\n"
     ]
    }
   ],
   "source": [
    "bins = np.linspace(1000,8000,71,dtype=np.int16)\n",
    "print(bins)"
   ]
  },
  {
   "cell_type": "code",
   "execution_count": 52,
   "metadata": {},
   "outputs": [
    {
     "data": {
      "image/png": "[encoded data removed]",
      "text/plain": [
       "<matplotlib.figure.Figure at 0x7fc1eac50510>"
      ]
     },
     "metadata": {},
     "output_type": "display_data"
    }
   ],
   "source": [
    "#### Without Scalefactor\n",
    "#PLOT FOR BLACK BOX 1 with REALNVP\n",
    "plt.style.use('ggplot')\n",
    "bins = np.linspace(2800,7000,43)\n",
    "bkg_hist = plt.hist(mass_bkg[index_bkg],bins=bins,alpha=0.3,color='r',label='background');\n",
    "obs_hist = plt.hist(mass_bb[index_bb],bins=bins,alpha=0.3,color='b',label='Blackbox1');\n",
    "plt.xlabel(r'$m_{JJ}$ [GeV]')\n",
    "plt.ylabel('Number of events')\n",
    "plt.legend(loc='upper right')\n",
    "plt.title('$m_{JJ}$ without SF')\n",
    "plt.show()\n",
    "#plt.axvline(x=38238\n",
    "#plt.savefig(\"/data/t3home000/spark/LHCOlympics/plots/NEW_BB3_mjj_massratios_noscalefactor_1dot8_0dot5.png\")\n",
    "# plt.savefig(\"AnalysisBB2/bkgAEcut_mjj_noscalefactor.png\")"
   ]
  },
  {
   "cell_type": "markdown",
   "metadata": {},
   "source": [
    "# Do a parametric fit to data"
   ]
  },
  {
   "cell_type": "code",
   "execution_count": 53,
   "metadata": {},
   "outputs": [],
   "source": [
    "# Observable\n",
    "mjj = r.RooRealVar(\"mjj\",\"m_{JJ} [GeV]\", 2800,7000)"
   ]
  },
  {
   "cell_type": "code",
   "execution_count": 54,
   "metadata": {},
   "outputs": [],
   "source": [
    "# Parameters\n",
    "sigmean  = r.RooRealVar(\"sigmean\" , \"X_{BB} mass\" ,  4000, 3000, 7000)\n",
    "sigwidth = r.RooRealVar(\"sigwidth\", \"X_{BB} width\",  400, 10, 2000) "
   ]
  },
  {
   "cell_type": "code",
   "execution_count": 55,
   "metadata": {},
   "outputs": [],
   "source": [
    "# Build Gaussian PDF\n",
    "signalModel = r.RooGaussian(\"signal\",\"signal PDF\",mjj,sigmean,sigwidth)"
   ]
  },
  {
   "cell_type": "code",
   "execution_count": 56,
   "metadata": {},
   "outputs": [
    {
     "name": "stdout",
     "output_type": "stream",
     "text": [
      "<ROOT.RooRealVar object (\"mjj\") at 0xaf04780>\n"
     ]
    }
   ],
   "source": [
    "print(mjj)"
   ]
  },
  {
   "cell_type": "code",
   "execution_count": 11,
   "metadata": {},
   "outputs": [],
   "source": [
    "# Build Background PDF with ATLAS Dijet background fit\n",
    "#p0 = r.RooRealVar(\"p0\",\"p0\",100,-2000,2000)\n",
    "#p1 = r.RooRealVar(\"p1\",\"p1\",1,-2000,100)\n",
    "#p2 = r.RooRealVar(\"p2\",\"p2\",1,-2000,100)\n",
    "#p3 = r.RooRealVar(\"p3\",\"p3\",1,-2000,100)\n",
    "#background = r.RooGenericPdf(\"background\",\"background\",\"(pow(1-mjj,p1))/pow(mjj,(p2+p3*log(mjj)))\",r.RooArgList(mjj,p1,p2,p3))"
   ]
  },
  {
   "cell_type": "code",
   "execution_count": 57,
   "metadata": {},
   "outputs": [],
   "source": [
    "# Build Background PDF with ATLAS Dijet background fit\n",
    "p0 = r.RooRealVar(\"p0\",\"p0\",-0.02,-100,100)\n",
    "p1 = r.RooRealVar(\"p1\",\"p1\",0.5,-100,100)\n",
    "p2 = r.RooRealVar(\"p2\",\"p2\",0.1,-100,100)\n",
    "p3 = r.RooRealVar(\"p3\",\"p3\",0.1,-100,100)\n",
    "#p4 = r.RooRealVar(\"p4\",\"p4\",0.1,-2000,2000)\n",
    "background = r.RooPolynomial(\"background\",\"background\",mjj,r.RooArgList(p0,p1,p2,p3))"
   ]
  },
  {
   "cell_type": "code",
   "execution_count": 58,
   "metadata": {},
   "outputs": [],
   "source": [
    "# Construct Signal + Background PDFs \n",
    "nsig = r.RooRealVar(\"nsig\",\"#signal events\",10,0.,10000)\n",
    "nbkg = r.RooRealVar(\"nbkg\",\"#background events\",800,0.,10000)\n",
    "model = r.RooAddPdf(\"model\",\"g+b\",r.RooArgList(signalModel,background),r.RooArgList(nsig,nbkg))"
   ]
  },
  {
   "cell_type": "code",
   "execution_count": 61,
   "metadata": {},
   "outputs": [
    {
     "name": "stderr",
     "output_type": "stream",
     "text": [
      "Warning in <TROOT::Append>: Replacing existing TH1: data_obs (Potential memory leak).\n",
      "Warning in <TROOT::Append>: Replacing existing TH1: purebkg (Potential memory leak).\n"
     ]
    }
   ],
   "source": [
    "#prepare data\n",
    "roothist_obs = r.TH1F('data_obs','data_obs',42,2800,7000)\n",
    "roothist_bkg = r.TH1F('purebkg','purebkg',42,2800,7000)\n",
    "for i in range(0,42):\n",
    "    roothist_obs.SetBinContent(i+1,obs_hist[0][i])\n",
    "    roothist_bkg.SetBinContent(i+1,bkg_hist[0][i])\n"
   ]
  },
  {
   "cell_type": "code",
   "execution_count": 62,
   "metadata": {},
   "outputs": [
    {
     "name": "stdout",
     "output_type": "stream",
     "text": [
      "[#1] INFO:DataHandling -- RooDataHist::adjustBinning(data): fit range of variable mjj expanded to nearest bin boundaries: [2800,7000] --> [2800,7000]\n",
      "[#1] INFO:DataHandling -- RooDataHist::adjustBinning(bkg): fit range of variable mjj expanded to nearest bin boundaries: [2800,7000] --> [2800,7000]\n"
     ]
    }
   ],
   "source": [
    "data = r.RooDataHist(\"data\",\"data\",r.RooArgList(mjj),roothist_obs)\n",
    "bkg = r.RooDataHist(\"bkg\",\"bkg\",r.RooArgList(mjj),roothist_bkg)"
   ]
  },
  {
   "cell_type": "code",
   "execution_count": null,
   "metadata": {},
   "outputs": [],
   "source": [
    "background.fitTo(bkg)"
   ]
  },
  {
   "cell_type": "code",
   "execution_count": 17,
   "metadata": {},
   "outputs": [],
   "source": [
    "mjjframe = mjj.frame()"
   ]
  },
  {
   "cell_type": "code",
   "execution_count": null,
   "metadata": {},
   "outputs": [],
   "source": [
    "data.plotOn(mjjframe)"
   ]
  },
  {
   "cell_type": "code",
   "execution_count": null,
   "metadata": {},
   "outputs": [],
   "source": [
    "bkg.plotOn(mjjframe)"
   ]
  },
  {
   "cell_type": "code",
   "execution_count": null,
   "metadata": {},
   "outputs": [],
   "source": [
    "c = r.TCanvas(\"myCanvasName\",\"The Canvas Title\",800,600)\n",
    "#model.plotOn(mjjframe, r.RooFit.Components(\"background\"), r.RooFit.LineStyle(r.kDashed))\n",
    "mjjframe.Draw()\n",
    "\n",
    "c.Draw()"
   ]
  },
  {
   "cell_type": "code",
   "execution_count": null,
   "metadata": {},
   "outputs": [],
   "source": []
  },
  {
   "cell_type": "code",
   "execution_count": null,
   "metadata": {},
   "outputs": [],
   "source": []
  },
  {
   "cell_type": "code",
   "execution_count": null,
   "metadata": {},
   "outputs": [],
   "source": []
  },
  {
   "cell_type": "code",
   "execution_count": null,
   "metadata": {},
   "outputs": [],
   "source": []
  },
  {
   "cell_type": "markdown",
   "metadata": {},
   "source": [
    "# Start Generating Shapes for the Fit"
   ]
  },
  {
   "cell_type": "code",
   "execution_count": null,
   "metadata": {},
   "outputs": [],
   "source": [
    "function_gaus = r.TF1(\"mygaus\",\"TMath::Gaus(x,3823,200)\",1000,8000)\n",
    "roothist_sig = r.TH1F('signal','signal',70,1000,8000)\n",
    "roothist_sig.FillRandom(\"mygaus\",10000)"
   ]
  },
  {
   "cell_type": "code",
   "execution_count": null,
   "metadata": {},
   "outputs": [],
   "source": [
    "lDM = rt.RooRealVar(\"Xshift\",\"Xshift\", 1.,0.,2.)\n",
    "x    = rt.RooRealVar   (\"x\" ,\"x\", 0.0   ,1000  ,8000)\n",
    "mean = rt.RooRealVar(\"mean\",'mean',3823,1000,8000)\n",
    "sigma = rt.RooRealVar(\"sigma\",'sigma',200,0,500)"
   ]
  },
  {
   "cell_type": "code",
   "execution_count": null,
   "metadata": {},
   "outputs": [],
   "source": [
    "iDataHist = rt.RooDataHist(\"inputdata\",\"inputdata\",rt.RooArgList(x),roothist_sig)"
   ]
  },
  {
   "cell_type": "code",
   "execution_count": null,
   "metadata": {},
   "outputs": [],
   "source": [
    "lDM     = rt.RooRealVar(\"Xshift\",\"Xshift\", 1.,0.,2.)\n",
    "lVar    = iDataHist.createHistogram(\"x\").GetMean()\n",
    "lInt    = iDataHist.createHistogram(\"x\").Integral()"
   ]
  },
  {
   "cell_type": "code",
   "execution_count": null,
   "metadata": {},
   "outputs": [],
   "source": [
    "iVar = rt.RooRealVar(\"x\",\"x\",3600,1000,8000)\n",
    "lShift  = rt.RooFormulaVar(\"Xsmear\",\"(\"+iVar.GetName()+\"-\"+str(lVar)+\")/Xshift+\"+str(lVar),rt.RooArgList(iVar,lDM))  "
   ]
  },
  {
   "cell_type": "code",
   "execution_count": null,
   "metadata": {},
   "outputs": [],
   "source": []
  }
 ],
 "metadata": {
  "kernelspec": {
   "display_name": "statistics-das",
   "language": "python",
   "name": "statistics-das"
  },
  "language_info": {
   "codemirror_mode": {
    "name": "ipython",
    "version": 2
   },
   "file_extension": ".py",
   "mimetype": "text/x-python",
   "name": "python",
   "nbconvert_exporter": "python",
   "pygments_lexer": "ipython2",
   "version": "2.7.14+"
  }
 },
 "nbformat": 4,
 "nbformat_minor": 4
}

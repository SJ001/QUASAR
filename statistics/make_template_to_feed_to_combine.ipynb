{
 "cells": [
  {
   "cell_type": "code",
   "execution_count": 1,
   "metadata": {},
   "outputs": [
    {
     "name": "stdout",
     "output_type": "stream",
     "text": [
      "Welcome to JupyROOT 6.12/07\n"
     ]
    },
    {
     "data": {
      "text/plain": [
       "0L"
      ]
     },
     "execution_count": 1,
     "metadata": {},
     "output_type": "execute_result"
    }
   ],
   "source": [
    "import numpy as np\n",
    "import ROOT as r\n",
    "import sys,math,array,os\n",
    "import matplotlib.pyplot as plt\n",
    "r.gROOT.Macro(os.path.expanduser('~/.rootlogon_nystyle.C'))"
   ]
  },
  {
   "cell_type": "markdown",
   "metadata": {},
   "source": [
    "# load bunch of numpy arrays"
   ]
  },
  {
   "cell_type": "code",
   "execution_count": 28,
   "metadata": {},
   "outputs": [],
   "source": [
    "sigaeloss_bb  = np.load('./data/sigaeloss_bb2.npy')\n",
    "sigaeloss_bkg = np.load('./data/sigaeloss_bkg.npy')\n",
    "mass_bb       = np.load('./data/mass_bb2.npy')\n",
    "mass_bkg      = np.load('./data/mass_bkg.npy')\n",
    "bkgaeloss_bb  = np.load('./data/bkgaeloss_bb2.npy')\n",
    "bkgaeloss_bkg = np.load('./data/bkgaeloss_bkg.npy')"
   ]
  },
  {
   "cell_type": "code",
   "execution_count": 3,
   "metadata": {},
   "outputs": [],
   "source": [
    "############### DEFAULT CUT BB1 ##############\n",
    "sigae_wp = .65\n",
    "bkgae_wp = 2"
   ]
  },
  {
   "cell_type": "code",
   "execution_count": 29,
   "metadata": {},
   "outputs": [],
   "source": [
    "############### DEFAULT CUT BB2 ##############\n",
    "sigae_wp = .8\n",
    "bkgae_wp = 1.8"
   ]
  },
  {
   "cell_type": "code",
   "execution_count": 16,
   "metadata": {},
   "outputs": [],
   "source": [
    "############### DEFAULT CUT BB3 ##############\n",
    "sigae_wp = .66\n",
    "bkgae_wp = 1.7"
   ]
  },
  {
   "cell_type": "code",
   "execution_count": 30,
   "metadata": {},
   "outputs": [
    {
     "name": "stdout",
     "output_type": "stream",
     "text": [
      "5017\n",
      "4880\n"
     ]
    }
   ],
   "source": [
    "index_bb = np.where((bkgaeloss_bb>bkgae_wp)&(sigaeloss_bb<sigae_wp))[0]\n",
    "index_bkg = np.where((bkgaeloss_bkg>bkgae_wp)&(sigaeloss_bkg<sigae_wp))[0]\n",
    "\n",
    "print(index_bb.shape[0])\n",
    "print(index_bkg.shape[0])"
   ]
  },
  {
   "cell_type": "code",
   "execution_count": 18,
   "metadata": {},
   "outputs": [
    {
     "name": "stdout",
     "output_type": "stream",
     "text": [
      "[1000 1100 1200 1300 1400 1500 1600 1700 1800 1900 2000 2100 2200 2300\n",
      " 2400 2500 2600 2700 2800 2900 3000 3100 3200 3300 3400 3500 3600 3700\n",
      " 3800 3900 4000 4100 4200 4300 4400 4500 4600 4700 4800 4900 5000 5100\n",
      " 5200 5300 5400 5500 5600 5700 5800 5900 6000 6100 6200 6300 6400 6500\n",
      " 6600 6700 6800 6900 7000 7100 7200 7300 7400 7500 7600 7700 7800 7900\n",
      " 8000]\n"
     ]
    }
   ],
   "source": [
    "bins = np.linspace(1000,8000,71,dtype=np.int16)\n",
    "print(bins)"
   ]
  },
  {
   "cell_type": "code",
   "execution_count": 32,
   "metadata": {},
   "outputs": [
    {
     "data": {
      "image/png": "[encoded data removed]",
      "text/plain": [
       "<matplotlib.figure.Figure at 0x7fa097364810>"
      ]
     },
     "metadata": {},
     "output_type": "display_data"
    }
   ],
   "source": [
    "#### Without Scalefactor\n",
    "#PLOT FOR BLACK BOX 1 with REALNVP\n",
    "plt.style.use('default')\n",
    "bins = np.linspace(1000,8000,71)\n",
    "bkg_hist = plt.hist(mass_bkg[index_bkg],bins=bins,alpha=0.3,color='r',label='background');\n",
    "obs_hist = plt.hist(mass_bb[index_bb],bins=bins,alpha=0.3,color='b',label='Blackbox2');\n",
    "plt.xlabel(r'$m_{JJ}$ [GeV]')\n",
    "plt.ylabel('Number of events')\n",
    "plt.legend(loc='upper right')\n",
    "plt.title('$m_{JJ}$ without SF')\n",
    "plt.show()\n",
    "#plt.axvline(x=38238\n",
    "#plt.savefig(\"/data/t3home000/spark/LHCOlympics/plots/NEW_BB3_mjj_massratios_noscalefactor_1dot8_0dot5.png\")\n",
    "# plt.savefig(\"AnalysisBB2/bkgAEcut_mjj_noscalefactor.png\")"
   ]
  },
  {
   "cell_type": "markdown",
   "metadata": {},
   "source": [
    "# Start Generating Shapes for the Fit"
   ]
  },
  {
   "cell_type": "code",
   "execution_count": 7,
   "metadata": {},
   "outputs": [],
   "source": [
    "def smear(iVar,iDataHist,iScale=0.1):\n",
    "    lDM     = r.RooRealVar(\"Xshift\",\"Xshift\", 1.,0.,200.)\n",
    "    lVar    = iDataHist.createHistogram(\"x\").GetMean()\n",
    "    lInt    = iDataHist.createHistogram(\"x\").Integral()\n",
    "    lShift  = r.RooFormulaVar(\"Xsmear\",\"(\"+iVar.GetName()+\"-\"+str(lVar)+\")/Xshift+\"+str(lVar),r.RooArgList(iVar,lDM))  \n",
    "    lHPdf   = r.RooHistPdf(iDataHist.GetName()+\"S\",iDataHist.GetName()+\"S\", r.RooArgList(lShift),r.RooArgList(iVar),iDataHist,0)\n",
    "    lDM.setVal(1.+iScale)\n",
    "    lHUp = lHPdf.createHistogram(\"x\")\n",
    "    lHUp.Scale(lInt)\n",
    "    lUp = r.RooDataHist(iDataHist.GetName()+\"_smearUp\",iDataHist.GetName()+\"_smearUp\", r.RooArgList(iVar),lHUp)    \n",
    "    lDM.setVal(1.-iScale)\n",
    "    lHDown = lHPdf.createHistogram(\"x\")\n",
    "    lHDown.Scale(lInt)\n",
    "    lDown  = r.RooDataHist(iDataHist.GetName()+\"_smearDown\",iDataHist.GetName()+\"_smearDown\", r.RooArgList(iVar),lHDown)\n",
    "    return [lUp,lDown] "
   ]
  },
  {
   "cell_type": "code",
   "execution_count": 8,
   "metadata": {},
   "outputs": [],
   "source": [
    "# Observable\n",
    "x = r.RooRealVar(\"x\",\"m_{JJ} [GeV]\", 1000,8000)"
   ]
  },
  {
   "cell_type": "code",
   "execution_count": 26,
   "metadata": {},
   "outputs": [
    {
     "name": "stderr",
     "output_type": "stream",
     "text": [
      "Warning in <TROOT::Append>: Replacing existing TH1: signal (Potential memory leak).\n",
      "Warning in <TROOT::Append>: Replacing existing TH1: signal_scaleUp (Potential memory leak).\n",
      "Warning in <TROOT::Append>: Replacing existing TH1: signal_scaleDown (Potential memory leak).\n",
      "Warning in <TROOT::Append>: Replacing existing TH1: signal_smearUp (Potential memory leak).\n",
      "Warning in <TROOT::Append>: Replacing existing TH1: signal_smearDown (Potential memory leak).\n"
     ]
    }
   ],
   "source": [
    "mygaus = r.TF1(\"mygaus\",\"TMath::Gaus(x,4100,300)\",1000,8000)\n",
    "smear_up = r.TF1(\"smear_up\",\"TMath::Gaus(x,4100,80)\",1000,8000)\n",
    "smear_down = r.TF1(\"smear_down\",\"TMath::Gaus(x,4100,600)\",1000,8000)\n",
    "scale_up = r.TF1(\"scale_up\",\"TMath::Gaus(x,4700,300)\",1000,8000)\n",
    "scale_down = r.TF1(\"scale_down\",\"TMath::Gaus(x,3500,300)\",1000,8000)\n",
    "\n",
    "\n",
    "roothist_sig = r.TH1F('signal','signal',70,1000,8000)\n",
    "roothist_scup = r.TH1F('signal_scaleUp','signal',70,1000,8000)\n",
    "roothist_scdown = r.TH1F('signal_scaleDown','signal',70,1000,8000)\n",
    "roothist_smup = r.TH1F('signal_smearUp','signal',70,1000,8000)\n",
    "roothist_smdown = r.TH1F('signal_smearDown','signal',70,1000,8000)\n",
    "\n",
    "roothist_sig.FillRandom(\"mygaus\",1000)\n",
    "roothist_scup.FillRandom('scale_up',1000)\n",
    "roothist_scdown.FillRandom('scale_down',1000)\n",
    "roothist_smup.FillRandom('smear_up',1000)\n",
    "roothist_smdown.FillRandom('smear_down',1000)\n"
   ]
  },
  {
   "cell_type": "code",
   "execution_count": 24,
   "metadata": {},
   "outputs": [],
   "source": [
    "for i in range(0,70):\n",
    "    roothist_obs.SetBinContent(i+1,obs_hist[0][i])\n",
    "    roothist_bkg.SetBinContent(i+1,bkg_hist[0][i])"
   ]
  },
  {
   "cell_type": "code",
   "execution_count": 36,
   "metadata": {},
   "outputs": [
    {
     "name": "stdout",
     "output_type": "stream",
     "text": [
      "[#1] INFO:DataHandling -- RooDataHist::adjustBinning(signal): fit range of variable x expanded to nearest bin boundaries: [1000,8000] --> [1000,8000]\n"
     ]
    }
   ],
   "source": [
    "iDataHist = r.RooDataHist(\"signal\",\"signal\",r.RooArgList(x),roothist_sig)"
   ]
  },
  {
   "cell_type": "code",
   "execution_count": 35,
   "metadata": {},
   "outputs": [],
   "source": [
    "f = r.TFile.Open(\"shapes-blackbox2-TH1.root\",'recreate')\n",
    "roothist_sig.Write()\n",
    "roothist_obs.Write()\n",
    "roothist_bkg.Write()\n",
    "roothist_scup.Write()\n",
    "roothist_scdown.Write()\n",
    "roothist_smup.Write()\n",
    "roothist_smdown.Write()\n",
    "\n",
    "f.Close()"
   ]
  },
  {
   "cell_type": "code",
   "execution_count": 89,
   "metadata": {},
   "outputs": [
    {
     "name": "stderr",
     "output_type": "stream",
     "text": [
      "Warning in <TCanvas::Constructor>: Deleting canvas with same name: myCanvasName\n"
     ]
    },
    {
     "data": {
      "image/png": "[encoded data removed]",
      "text/plain": [
       "<IPython.core.display.Image object>"
      ]
     },
     "metadata": {},
     "output_type": "display_data"
    }
   ],
   "source": [
    "c11 = r.TCanvas(\"myCanvasName\",\"The Canvas Title\",800,600)\n",
    "roothist_sig.Draw()\n",
    "roothist_scup.SetLineColor(r.kRed)\n",
    "roothist_scup.Draw('same')\n",
    "\n",
    "roothist_scdown.SetLineColor(r.kBlue)\n",
    "roothist_scdown.Draw('same')\n",
    "c11.Draw()"
   ]
  },
  {
   "cell_type": "code",
   "execution_count": 11,
   "metadata": {},
   "outputs": [
    {
     "data": {
      "image/png": "[encoded data removed]",
      "text/plain": [
       "<IPython.core.display.Image object>"
      ]
     },
     "metadata": {},
     "output_type": "display_data"
    }
   ],
   "source": [
    "c11 = r.TCanvas(\"myCanvasName\",\"The Canvas Title\",800,600)\n",
    "roothist_sig.Draw()\n",
    "roothist_scup.Draw('same')\n",
    "roothist_scdown.Draw('same')\n",
    "c11.Draw()"
   ]
  },
  {
   "cell_type": "code",
   "execution_count": 64,
   "metadata": {},
   "outputs": [
    {
     "name": "stdout",
     "output_type": "stream",
     "text": [
      "TFile**\t\tshapes-blackbox1-TH1.root\t\n",
      " TFile*\t\tshapes-blackbox1-TH1.root\t\n",
      "  KEY: TH1F\tsignal;1\tsignal\n",
      "  KEY: TH1F\tdata_obs;1\tdata_obs\n",
      "  KEY: TH1F\tpurebkg;1\tpurebkg\n",
      "  KEY: TH1F\tsignal_scaleUp;1\tsignal\n",
      "  KEY: TH1F\tsignal_scaleDown;1\tsignal\n",
      "  KEY: TH1F\tsignal_smearUp;1\tsignal\n",
      "  KEY: TH1F\tsignal_smearDown;1\tsignal\n"
     ]
    }
   ],
   "source": [
    "f = r.TFile.Open(\"shapes-blackbox1-TH1.root\",'read')\n",
    "f.ls()\n",
    "f.Close()"
   ]
  },
  {
   "cell_type": "code",
   "execution_count": 37,
   "metadata": {},
   "outputs": [
    {
     "name": "stdout",
     "output_type": "stream",
     "text": [
      "[#1] INFO:DataHandling -- RooDataHist::adjustBinning(data_obs): fit range of variable x expanded to nearest bin boundaries: [1000,8000] --> [1000,8000]\n",
      "[#1] INFO:DataHandling -- RooDataHist::adjustBinning(purebkg): fit range of variable x expanded to nearest bin boundaries: [1000,8000] --> [1000,8000]\n"
     ]
    }
   ],
   "source": [
    "ObsHist = r.RooDataHist(\"data_obs\",\"data_obs\",r.RooArgList(x),roothist_obs)\n",
    "BkgHist = r.RooDataHist(\"purebkg\",\"purebkg\",r.RooArgList(x),roothist_bkg)"
   ]
  },
  {
   "cell_type": "code",
   "execution_count": 38,
   "metadata": {},
   "outputs": [],
   "source": [
    "f = r.TFile.Open(\"shapes-blackbox1-TH1.root\",'recreate')\n",
    "ObsHist.Write()\n",
    "BkgHist.Write()\n",
    "iDataHist.Write()\n",
    "\n",
    "f.Close()"
   ]
  },
  {
   "cell_type": "code",
   "execution_count": null,
   "metadata": {},
   "outputs": [],
   "source": []
  },
  {
   "cell_type": "code",
   "execution_count": 28,
   "metadata": {},
   "outputs": [
    {
     "name": "stdout",
     "output_type": "stream",
     "text": [
      "[#1] INFO:DataHandling -- RooDataHist::adjustBinning(signal): fit range of variable x expanded to nearest bin boundaries: [1000,8000] --> [1000,8000]\n"
     ]
    }
   ],
   "source": [
    "iDataHist = r.RooDataHist(\"signal\",\"signal\",r.RooArgList(x),roothist_sig)"
   ]
  },
  {
   "cell_type": "code",
   "execution_count": 11,
   "metadata": {},
   "outputs": [
    {
     "name": "stdout",
     "output_type": "stream",
     "text": [
      "[#1] INFO:InputArguments -- RooAbsReal::createHistogram(signalS) INFO: Model has intrinsic binning definition, selecting that binning for the histogram\n",
      "[#1] INFO:NumericIntegration -- RooRealIntegral::init(signalS_Int[x]) using numeric integrator RooBinIntegrator to calculate Int(x)\n",
      "[#1] INFO:DataHandling -- RooDataHist::adjustBinning(signal_smearUp): fit range of variable x expanded to nearest bin boundaries: [1000,8000] --> [1000,8000]\n",
      "[#1] INFO:InputArguments -- RooAbsReal::createHistogram(signalS) INFO: Model has intrinsic binning definition, selecting that binning for the histogram\n",
      "[#1] INFO:NumericIntegration -- RooRealIntegral::init(signalS_Int[x]) using numeric integrator RooBinIntegrator to calculate Int(x)\n",
      "[#1] INFO:DataHandling -- RooDataHist::adjustBinning(signal_smearDown): fit range of variable x expanded to nearest bin boundaries: [1000,8000] --> [1000,8000]\n"
     ]
    },
    {
     "name": "stderr",
     "output_type": "stream",
     "text": [
      "Warning in <TROOT::Append>: Replacing existing TH1: signal__x (Potential memory leak).\n",
      "Warning in <TROOT::Append>: Replacing existing TH1: signalS__x (Potential memory leak).\n"
     ]
    }
   ],
   "source": [
    "smear_up, smear_down = smear(x,iDataHist,0.1)"
   ]
  },
  {
   "cell_type": "code",
   "execution_count": 12,
   "metadata": {},
   "outputs": [],
   "source": [
    "def shift(iVar,iDataHist,iShift=5.):\n",
    "    lInt    = iDataHist.createHistogram(\"x\").Integral()\n",
    "    lDM     = r.RooRealVar   (\"Xdm\",\"Xdm\", 0.,-300,300)\n",
    "    lShift  = r.RooFormulaVar(\"Xshift\",iVar.GetName()+\"-Xdm\",r.RooArgList(iVar,lDM))\n",
    "    print(lShift)\n",
    "    lSPdf   = r.RooHistPdf(iDataHist.GetName()+\"P\",iDataHist.GetName()+\"P\", r.RooArgList(lShift),r.RooArgList(iVar),iDataHist,0)\n",
    "    lDM.setVal(iShift)\n",
    "    lHUp   = lSPdf.createHistogram(\"x\")\n",
    "    lHUp.Scale(lInt)\n",
    "    lUp    = r.RooDataHist(iDataHist.GetName()+\"_scaleUp\",iDataHist.GetName()+\"_scaleUp\", r.RooArgList(iVar),lHUp)\n",
    "    lDM.setVal(-iShift)\n",
    "    lHDown = lSPdf.createHistogram(\"x\")\n",
    "    lHDown.Scale(lInt)\n",
    "    lDown  = r.RooDataHist(iDataHist.GetName()+\"_scaleDown\",iDataHist.GetName()+\"_scaleDown\", r.RooArgList(iVar),lHDown)\n",
    "    return (lUp,lDown)"
   ]
  },
  {
   "cell_type": "code",
   "execution_count": 13,
   "metadata": {},
   "outputs": [
    {
     "name": "stdout",
     "output_type": "stream",
     "text": [
      "<ROOT.RooFormulaVar object (\"Xshift\") at 0xb01e030>\n",
      "[#1] INFO:InputArguments -- RooAbsReal::createHistogram(signalP) INFO: Model has intrinsic binning definition, selecting that binning for the histogram\n",
      "[#1] INFO:NumericIntegration -- RooRealIntegral::init(signalP_Int[x]) using numeric integrator RooBinIntegrator to calculate Int(x)\n",
      "[#1] INFO:DataHandling -- RooDataHist::adjustBinning(signal_scaleUp): fit range of variable x expanded to nearest bin boundaries: [1000,8000] --> [1000,8000]\n",
      "[#1] INFO:InputArguments -- RooAbsReal::createHistogram(signalP) INFO: Model has intrinsic binning definition, selecting that binning for the histogram\n",
      "[#1] INFO:NumericIntegration -- RooRealIntegral::init(signalP_Int[x]) using numeric integrator RooBinIntegrator to calculate Int(x)\n",
      "[#1] INFO:DataHandling -- RooDataHist::adjustBinning(signal_scaleDown): fit range of variable x expanded to nearest bin boundaries: [1000,8000] --> [1000,8000]\n"
     ]
    },
    {
     "name": "stderr",
     "output_type": "stream",
     "text": [
      "Warning in <TROOT::Append>: Replacing existing TH1: signal__x (Potential memory leak).\n",
      "Warning in <TROOT::Append>: Replacing existing TH1: signalP__x (Potential memory leak).\n"
     ]
    }
   ],
   "source": [
    "shift_up, shift_down = shift(x,iDataHist,20.0)"
   ]
  },
  {
   "cell_type": "code",
   "execution_count": 22,
   "metadata": {},
   "outputs": [],
   "source": [
    "xframe = x.frame()"
   ]
  },
  {
   "cell_type": "code",
   "execution_count": 50,
   "metadata": {},
   "outputs": [
    {
     "ename": "AttributeError",
     "evalue": "'RooDataHist' object has no attribute 'generateBinned'",
     "output_type": "error",
     "traceback": [
      "\u001b[0;31m\u001b[0m",
      "\u001b[0;31mAttributeError\u001b[0mTraceback (most recent call last)",
      "\u001b[0;32m<ipython-input-50-6eea43ae4724>\u001b[0m in \u001b[0;36m<module>\u001b[0;34m()\u001b[0m\n\u001b[0;32m----> 1\u001b[0;31m \u001b[0ma\u001b[0m \u001b[0;34m=\u001b[0m \u001b[0msmear_up\u001b[0m\u001b[0;34m.\u001b[0m\u001b[0mgenerateBinned\u001b[0m\u001b[0;34m(\u001b[0m\u001b[0;34m\"x\"\u001b[0m\u001b[0;34m,\u001b[0m\u001b[0;36m100\u001b[0m\u001b[0;34m)\u001b[0m\u001b[0;34m\u001b[0m\u001b[0m\n\u001b[0m",
      "\u001b[0;31mAttributeError\u001b[0m: 'RooDataHist' object has no attribute 'generateBinned'"
     ]
    }
   ],
   "source": [
    "a = smear_up.generateBinned(\"x\",100)"
   ]
  },
  {
   "cell_type": "code",
   "execution_count": null,
   "metadata": {},
   "outputs": [],
   "source": [
    "print(h_)"
   ]
  },
  {
   "cell_type": "code",
   "execution_count": 53,
   "metadata": {},
   "outputs": [
    {
     "name": "stderr",
     "output_type": "stream",
     "text": [
      "Warning in <TCanvas::Constructor>: Deleting canvas with same name: myCanvasName\n"
     ]
    },
    {
     "data": {
      "image/png": "[encoded data removed]",
      "text/plain": [
       "<IPython.core.display.Image object>"
      ]
     },
     "metadata": {},
     "output_type": "display_data"
    }
   ],
   "source": [
    "c11 = r.TCanvas(\"myCanvasName\",\"The Canvas Title\",800,600)\n",
    "roothist_sig.Draw()\n",
    "c11.Draw()"
   ]
  },
  {
   "cell_type": "code",
   "execution_count": null,
   "metadata": {},
   "outputs": [],
   "source": [
    "#c.plotOn(xframe,r.RooFit.DrawOption(\"*\"),r.RooFit.DataError(0))\n",
    "smear_up.plotOn(xframe,r.RooFit.MarkerColor(9),r.RooFit.DataError(0))\n",
    "iDataHist.plotOn(xframe,r.RooFit.MarkerColor(r.kBlack),r.RooFit.DataError(0))\n",
    "smear_down.plotOn(xframe,r.RooFit.MarkerColor(8),r.RooFit.DataError(0))\n",
    "c11 = r.TCanvas(\"myCanvasName\",\"The Canvas Title\",800,600)\n",
    "#model.plotOn(mjjframe, r.RooFit.Components(\"background\"), r.RooFit.LineStyle(r.kDashed))\n",
    "xframe.Draw()\n",
    "\n",
    "c11.Draw()"
   ]
  },
  {
   "cell_type": "code",
   "execution_count": 16,
   "metadata": {},
   "outputs": [
    {
     "name": "stdout",
     "output_type": "stream",
     "text": [
      "[#0] WARNING:Plotting -- RooHist::addBin(signal_smearUp_plot__x) WARNING: non-integer bin entry 0.921659 with Poisson errors, interpolating between Poisson errors of adjacent integer\n",
      "[#0] WARNING:Plotting -- RooHist::addBin(signal_smearUp_plot__x) WARNING: non-integer bin entry 0.921659 with Poisson errors, interpolating between Poisson errors of adjacent integer\n",
      "[#0] WARNING:Plotting -- RooHist::addBin(signal_smearUp_plot__x) WARNING: non-integer bin entry 0.921659 with Poisson errors, interpolating between Poisson errors of adjacent integer\n",
      "[#0] WARNING:Plotting -- RooHist::addBin(signal_smearUp_plot__x) WARNING: non-integer bin entry 3.68664 with Poisson errors, interpolating between Poisson errors of adjacent integer\n",
      "[#0] WARNING:Plotting -- RooHist::addBin(signal_smearUp_plot__x) WARNING: non-integer bin entry 7.37327 with Poisson errors, interpolating between Poisson errors of adjacent integer\n",
      "[#0] WARNING:Plotting -- RooHist::addBin(signal_smearUp_plot__x) WARNING: non-integer bin entry 18.4332 with Poisson errors, interpolating between Poisson errors of adjacent integer\n",
      "[#0] WARNING:Plotting -- RooHist::addBin(signal_smearUp_plot__x) WARNING: non-integer bin entry 23.9631 with Poisson errors, interpolating between Poisson errors of adjacent integer\n",
      "[#0] WARNING:Plotting -- RooHist::addBin(signal_smearUp_plot__x) WARNING: non-integer bin entry 35.023 with Poisson errors, interpolating between Poisson errors of adjacent integer\n",
      "[#0] WARNING:Plotting -- RooHist::addBin(signal_smearUp_plot__x) WARNING: non-integer bin entry 49.7696 with Poisson errors, interpolating between Poisson errors of adjacent integer\n",
      "[#0] WARNING:Plotting -- RooHist::addBin(signal_smearUp_plot__x) WARNING: non-integer bin entry 49.7696 with Poisson errors, interpolating between Poisson errors of adjacent integer\n",
      "[#0] WARNING:Plotting -- RooHist::addBin(signal_smearUp_plot__x) WARNING: non-integer bin entry 51.6129 with Poisson errors, interpolating between Poisson errors of adjacent integer\n",
      "[#0] WARNING:Plotting -- RooHist::addBin(signal_smearUp_plot__x) WARNING: non-integer bin entry 65.4378 with Poisson errors, interpolating between Poisson errors of adjacent integer\n",
      "[#0] WARNING:Plotting -- RooHist::addBin(signal_smearUp_plot__x) WARNING: non-integer bin entry 81.106 with Poisson errors, interpolating between Poisson errors of adjacent integer\n",
      "[#0] WARNING:Plotting -- RooHist::addBin(signal_smearUp_plot__x) WARNING: non-integer bin entry 85.7143 with Poisson errors, interpolating between Poisson errors of adjacent integer\n",
      "[#0] WARNING:Plotting -- RooHist::addBin(signal_smearUp_plot__x) WARNING: non-integer bin entry 100.461 with Poisson errors, interpolating between Poisson errors of adjacent integer\n",
      "[#0] WARNING:Plotting -- RooHist::addBin(signal_smearUp_plot__x) WARNING: non-integer bin entry 94.9309 with Poisson errors, interpolating between Poisson errors of adjacent integer\n",
      "[#0] WARNING:Plotting -- RooHist::addBin(signal_smearUp_plot__x) WARNING: non-integer bin entry 93.0876 with Poisson errors, interpolating between Poisson errors of adjacent integer\n",
      "[#0] WARNING:Plotting -- RooHist::addBin(signal_smearUp_plot__x) WARNING: non-integer bin entry 57.1429 with Poisson errors, interpolating between Poisson errors of adjacent integer\n",
      "[#0] WARNING:Plotting -- RooHist::addBin(signal_smearUp_plot__x) WARNING: non-integer bin entry 49.7696 with Poisson errors, interpolating between Poisson errors of adjacent integer\n",
      "[#0] WARNING:Plotting -- RooHist::addBin(signal_smearUp_plot__x) WARNING: non-integer bin entry 28.5714 with Poisson errors, interpolating between Poisson errors of adjacent integer\n",
      "[#0] WARNING:Plotting -- RooHist::addBin(signal_smearUp_plot__x) WARNING: non-integer bin entry 28.5714 with Poisson errors, interpolating between Poisson errors of adjacent integer\n",
      "[#0] WARNING:Plotting -- RooHist::addBin(signal_smearUp_plot__x) WARNING: non-integer bin entry 23.0415 with Poisson errors, interpolating between Poisson errors of adjacent integer\n",
      "[#0] WARNING:Plotting -- RooHist::addBin(signal_smearUp_plot__x) WARNING: non-integer bin entry 23.9631 with Poisson errors, interpolating between Poisson errors of adjacent integer\n",
      "[#0] WARNING:Plotting -- RooHist::addBin(signal_smearUp_plot__x) WARNING: non-integer bin entry 11.0599 with Poisson errors, interpolating between Poisson errors of adjacent integer\n",
      "[#0] WARNING:Plotting -- RooHist::addBin(signal_smearUp_plot__x) WARNING: non-integer bin entry 4.60829 with Poisson errors, interpolating between Poisson errors of adjacent integer\n",
      "[#0] WARNING:Plotting -- RooHist::addBin(signal_smearUp_plot__x) WARNING: non-integer bin entry 3.68664 with Poisson errors, interpolating between Poisson errors of adjacent integer\n",
      "[#0] WARNING:Plotting -- RooHist::addBin(signal_smearUp_plot__x) WARNING: non-integer bin entry 2.76498 with Poisson errors, interpolating between Poisson errors of adjacent integer\n",
      "[#0] WARNING:Plotting -- RooHist::addBin(signal_smearUp_plot__x) WARNING: non-integer bin entry 0.921659 with Poisson errors, interpolating between Poisson errors of adjacent integer\n",
      "[#0] WARNING:Plotting -- RooHist::addBin(signal_smearUp_plot__x) WARNING: non-integer bin entry 1.84332 with Poisson errors, interpolating between Poisson errors of adjacent integer\n",
      "[#0] WARNING:Plotting -- RooHist::addBin(signal_smearUp_plot__x) WARNING: non-integer bin entry 0.921659 with Poisson errors, interpolating between Poisson errors of adjacent integer\n",
      "[#1] INFO:Plotting -- RooPlot::updateFitRangeNorm: New event count of 1000 will supercede previous event count of 1000 for normalization of PDF projections\n",
      "[#0] WARNING:Plotting -- RooHist::addBin(signal_smearDown_plot__x) WARNING: non-integer bin entry 1.0929 with Poisson errors, interpolating between Poisson errors of adjacent integer\n",
      "[#0] WARNING:Plotting -- RooHist::addBin(signal_smearDown_plot__x) WARNING: non-integer bin entry 1.0929 with Poisson errors, interpolating between Poisson errors of adjacent integer\n",
      "[#0] WARNING:Plotting -- RooHist::addBin(signal_smearDown_plot__x) WARNING: non-integer bin entry 1.0929 with Poisson errors, interpolating between Poisson errors of adjacent integer\n",
      "[#0] WARNING:Plotting -- RooHist::addBin(signal_smearDown_plot__x) WARNING: non-integer bin entry 4.37158 with Poisson errors, interpolating between Poisson errors of adjacent integer\n",
      "[#0] WARNING:Plotting -- RooHist::addBin(signal_smearDown_plot__x) WARNING: non-integer bin entry 8.74317 with Poisson errors, interpolating between Poisson errors of adjacent integer\n",
      "[#0] WARNING:Plotting -- RooHist::addBin(signal_smearDown_plot__x) WARNING: non-integer bin entry 21.8579 with Poisson errors, interpolating between Poisson errors of adjacent integer\n",
      "[#0] WARNING:Plotting -- RooHist::addBin(signal_smearDown_plot__x) WARNING: non-integer bin entry 28.4153 with Poisson errors, interpolating between Poisson errors of adjacent integer\n",
      "[#0] WARNING:Plotting -- RooHist::addBin(signal_smearDown_plot__x) WARNING: non-integer bin entry 41.5301 with Poisson errors, interpolating between Poisson errors of adjacent integer\n",
      "[#0] WARNING:Plotting -- RooHist::addBin(signal_smearDown_plot__x) WARNING: non-integer bin entry 61.2022 with Poisson errors, interpolating between Poisson errors of adjacent integer\n",
      "[#0] WARNING:Plotting -- RooHist::addBin(signal_smearDown_plot__x) WARNING: non-integer bin entry 77.5956 with Poisson errors, interpolating between Poisson errors of adjacent integer\n",
      "[#0] WARNING:Plotting -- RooHist::addBin(signal_smearDown_plot__x) WARNING: non-integer bin entry 96.1749 with Poisson errors, interpolating between Poisson errors of adjacent integer\n",
      "[#0] WARNING:Plotting -- RooHist::addBin(signal_smearDown_plot__x) WARNING: non-integer bin entry 101.639 with Poisson errors, interpolating between Poisson errors of adjacent integer\n",
      "[#0] WARNING:Plotting -- RooHist::addBin(signal_smearDown_plot__x) WARNING: non-integer bin entry 119.126 with Poisson errors, interpolating between Poisson errors of adjacent integer\n",
      "[#0] WARNING:Plotting -- RooHist::addBin(signal_smearDown_plot__x) WARNING: non-integer bin entry 112.568 with Poisson errors, interpolating between Poisson errors of adjacent integer\n",
      "[#0] WARNING:Plotting -- RooHist::addBin(signal_smearDown_plot__x) WARNING: non-integer bin entry 110.383 with Poisson errors, interpolating between Poisson errors of adjacent integer\n",
      "[#0] WARNING:Plotting -- RooHist::addBin(signal_smearDown_plot__x) WARNING: non-integer bin entry 67.7596 with Poisson errors, interpolating between Poisson errors of adjacent integer\n",
      "[#0] WARNING:Plotting -- RooHist::addBin(signal_smearDown_plot__x) WARNING: non-integer bin entry 59.0164 with Poisson errors, interpolating between Poisson errors of adjacent integer\n",
      "[#0] WARNING:Plotting -- RooHist::addBin(signal_smearDown_plot__x) WARNING: non-integer bin entry 27.3224 with Poisson errors, interpolating between Poisson errors of adjacent integer\n",
      "[#0] WARNING:Plotting -- RooHist::addBin(signal_smearDown_plot__x) WARNING: non-integer bin entry 28.4153 with Poisson errors, interpolating between Poisson errors of adjacent integer\n",
      "[#0] WARNING:Plotting -- RooHist::addBin(signal_smearDown_plot__x) WARNING: non-integer bin entry 13.1148 with Poisson errors, interpolating between Poisson errors of adjacent integer\n",
      "[#0] WARNING:Plotting -- RooHist::addBin(signal_smearDown_plot__x) WARNING: non-integer bin entry 5.46448 with Poisson errors, interpolating between Poisson errors of adjacent integer\n",
      "[#0] WARNING:Plotting -- RooHist::addBin(signal_smearDown_plot__x) WARNING: non-integer bin entry 4.37158 with Poisson errors, interpolating between Poisson errors of adjacent integer\n",
      "[#0] WARNING:Plotting -- RooHist::addBin(signal_smearDown_plot__x) WARNING: non-integer bin entry 3.27869 with Poisson errors, interpolating between Poisson errors of adjacent integer\n",
      "[#0] WARNING:Plotting -- RooHist::addBin(signal_smearDown_plot__x) WARNING: non-integer bin entry 1.0929 with Poisson errors, interpolating between Poisson errors of adjacent integer\n",
      "[#0] WARNING:Plotting -- RooHist::addBin(signal_smearDown_plot__x) WARNING: non-integer bin entry 2.18579 with Poisson errors, interpolating between Poisson errors of adjacent integer\n",
      "[#0] WARNING:Plotting -- RooHist::addBin(signal_smearDown_plot__x) WARNING: non-integer bin entry 1.0929 with Poisson errors, interpolating between Poisson errors of adjacent integer\n",
      "[#1] INFO:Plotting -- RooPlot::updateFitRangeNorm: New event count of 1000 will supercede previous event count of 1000 for normalization of PDF projections\n"
     ]
    },
    {
     "data": {
      "image/png": "[encoded data removed]",
      "text/plain": [
       "<IPython.core.display.Image object>"
      ]
     },
     "metadata": {},
     "output_type": "display_data"
    }
   ],
   "source": [
    "#c.plotOn(xframe,r.RooFit.DrawOption(\"*\"),r.RooFit.DataError(0))\n",
    "smear_up.plotOn(xframe,r.RooFit.MarkerColor(9),r.RooFit.DataError(0))\n",
    "iDataHist.plotOn(xframe,r.RooFit.MarkerColor(r.kBlack),r.RooFit.DataError(0))\n",
    "smear_down.plotOn(xframe,r.RooFit.MarkerColor(8),r.RooFit.DataError(0))\n",
    "c11 = r.TCanvas(\"myCanvasName\",\"The Canvas Title\",800,600)\n",
    "#model.plotOn(mjjframe, r.RooFit.Components(\"background\"), r.RooFit.LineStyle(r.kDashed))\n",
    "xframe.Draw()\n",
    "\n",
    "c11.Draw()"
   ]
  },
  {
   "cell_type": "code",
   "execution_count": 33,
   "metadata": {},
   "outputs": [
    {
     "name": "stderr",
     "output_type": "stream",
     "text": [
      "Warning in <TROOT::Append>: Replacing existing TH1: data_obs (Potential memory leak).\n",
      "Warning in <TROOT::Append>: Replacing existing TH1: purebkg (Potential memory leak).\n"
     ]
    }
   ],
   "source": [
    "roothist_obs = r.TH1F('data_obs','data_obs',70,1000,8000)\n",
    "roothist_bkg = r.TH1F('purebkg','purebkg',70,1000,8000)"
   ]
  },
  {
   "cell_type": "code",
   "execution_count": 34,
   "metadata": {},
   "outputs": [],
   "source": [
    "for i in range(0,70):\n",
    "    roothist_obs.SetBinContent(i+1,obs_hist[0][i])\n",
    "    roothist_bkg.SetBinContent(i+1,bkg_hist[0][i])"
   ]
  },
  {
   "cell_type": "code",
   "execution_count": 19,
   "metadata": {},
   "outputs": [
    {
     "name": "stdout",
     "output_type": "stream",
     "text": [
      "[#1] INFO:DataHandling -- RooDataHist::adjustBinning(data_obs): fit range of variable x expanded to nearest bin boundaries: [1000,8000] --> [1000,8000]\n",
      "[#1] INFO:DataHandling -- RooDataHist::adjustBinning(purebkg): fit range of variable x expanded to nearest bin boundaries: [1000,8000] --> [1000,8000]\n"
     ]
    }
   ],
   "source": [
    "ObsHist = r.RooDataHist(\"data_obs\",\"data_obs\",r.RooArgList(x),roothist_obs)\n",
    "BkgHist = r.RooDataHist(\"purebkg\",\"purebkg\",r.RooArgList(x),roothist_bkg)"
   ]
  },
  {
   "cell_type": "code",
   "execution_count": 40,
   "metadata": {},
   "outputs": [],
   "source": [
    "f = r.TFile.Open(\"shapes-blackbox1-TH1.root\",'recreate')\n",
    "roothist_sig.Write()\n",
    "roothist_bkg.Write()\n",
    "roothist_obs.Write()\n",
    "smear_up.Write()\n",
    "smear_down.Write()\n",
    "shift_up.Write()\n",
    "shift_down.Write()\n",
    "f.Close()"
   ]
  },
  {
   "cell_type": "code",
   "execution_count": 21,
   "metadata": {},
   "outputs": [],
   "source": [
    "f.Close()"
   ]
  },
  {
   "cell_type": "code",
   "execution_count": 42,
   "metadata": {},
   "outputs": [],
   "source": [
    "f = r.TFile.Open(\"shapes-blackbox1-TH1.root\",'read')"
   ]
  },
  {
   "cell_type": "code",
   "execution_count": 43,
   "metadata": {},
   "outputs": [
    {
     "name": "stdout",
     "output_type": "stream",
     "text": [
      "TFile**\t\tshapes-blackbox1-TH1.root\t\n",
      " TFile*\t\tshapes-blackbox1-TH1.root\t\n",
      "  KEY: TH1F\tsignal;1\tsignal\n",
      "  KEY: TH1F\tpurebkg;1\tpurebkg\n",
      "  KEY: TH1F\tdata_obs;1\tdata_obs\n",
      "  KEY: RooDataHist\tsignal_smearUp;1\tsignal_smearUp\n",
      "  KEY: TProcessID\tProcessID0;1\t71ce7dba-8bce-11ea-9205-51700412beef\n",
      "  KEY: RooDataHist\tsignal_smearDown;1\tsignal_smearDown\n",
      "  KEY: RooDataHist\tsignal_scaleUp;1\tsignal_scaleUp\n",
      "  KEY: RooDataHist\tsignal_scaleDown;1\tsignal_scaleDown\n"
     ]
    }
   ],
   "source": [
    "f.ls()"
   ]
  },
  {
   "cell_type": "code",
   "execution_count": 44,
   "metadata": {},
   "outputs": [],
   "source": [
    "f.Close()"
   ]
  },
  {
   "cell_type": "code",
   "execution_count": 36,
   "metadata": {},
   "outputs": [
    {
     "name": "stderr",
     "output_type": "stream",
     "text": [
      "Warning in <TCanvas::Constructor>: Deleting canvas with same name: myCanvasName\n"
     ]
    },
    {
     "data": {
      "image/png": "[encoded data removed]",
      "text/plain": [
       "<IPython.core.display.Image object>"
      ]
     },
     "metadata": {},
     "output_type": "display_data"
    }
   ],
   "source": [
    "c = r.TCanvas(\"myCanvasName\",\"The Canvas Title\",800,600)\n",
    "roothist_bkg.Draw()\n",
    "c.Draw()"
   ]
  },
  {
   "cell_type": "code",
   "execution_count": null,
   "metadata": {},
   "outputs": [],
   "source": []
  },
  {
   "cell_type": "code",
   "execution_count": null,
   "metadata": {},
   "outputs": [],
   "source": []
  },
  {
   "cell_type": "code",
   "execution_count": null,
   "metadata": {},
   "outputs": [],
   "source": [
    "function_gaus = r.TF1(\"mygaus\",\"TMath::Gaus(x,3823,400)\",1000,8000)\n",
    "roothist_sig = r.TH1F('signal','signal',70,1000,8000)\n",
    "roothist_sig.FillRandom(\"mygaus\",10000)"
   ]
  },
  {
   "cell_type": "code",
   "execution_count": null,
   "metadata": {},
   "outputs": [],
   "source": [
    "lDM   = rt.RooRealVar(\"Xshift\",\"Xshift\", 1.,0.,2.)\n",
    "x     = rt.RooRealVar(\"x\" ,\"x\", 0.0   ,1000  ,8000)\n",
    "mean  = rt.RooRealVar(\"mean\",'mean',3823,1000,8000)\n",
    "sigma = rt.RooRealVar(\"sigma\",'sigma',200,0,500)"
   ]
  },
  {
   "cell_type": "code",
   "execution_count": null,
   "metadata": {},
   "outputs": [],
   "source": []
  },
  {
   "cell_type": "code",
   "execution_count": null,
   "metadata": {},
   "outputs": [],
   "source": [
    "lDM     = rt.RooRealVar(\"Xshift\",\"Xshift\", 1.,0.,2.)\n",
    "lVar    = iDataHist.createHistogram(\"x\").GetMean()\n",
    "lInt    = iDataHist.createHistogram(\"x\").Integral()"
   ]
  },
  {
   "cell_type": "code",
   "execution_count": null,
   "metadata": {},
   "outputs": [],
   "source": [
    "iVar = rt.RooRealVar(\"x\",\"x\",3600,1000,8000)\n",
    "lShift  = rt.RooFormulaVar(\"Xsmear\",\"(\"+iVar.GetName()+\"-\"+str(lVar)+\")/Xshift+\"+str(lVar),rt.RooArgList(iVar,lDM))  "
   ]
  },
  {
   "cell_type": "code",
   "execution_count": null,
   "metadata": {},
   "outputs": [],
   "source": [
    "def smear(iVar,iDataHist,iScale=0.1):\n",
    "    lDM     = rt.RooRealVar(\"Xshift\",\"Xshift\", 1.,0.,2.)\n",
    "    lVar    = iDataHist.createHistogram(\"x\").GetMean()\n",
    "    lInt    = iDataHist.createHistogram(\"x\").Integral()\n",
    "    lShift  = r.RooFormulaVar(\"Xsmear\",\"(\"+iVar.GetName()+\"-\"+str(lVar)+\")/Xshift+\"+str(lVar),r.RooArgList(iVar,lDM))  \n",
    "    if f2D:\n",
    "        lHPdf   = r.RooHistPdf(iDataHist.GetName()+\"S\",iDataHist.GetName()+\"S\", r.RooArgList(lShift,fVars[1]),r.RooArgList(iVar,fVars[1]),iDataHist,0)\n",
    "    else:\n",
    "        lHPdf   = r.RooHistPdf(iDataHist.GetName()+\"S\",iDataHist.GetName()+\"S\", r.RooArgList(lShift),r.RooArgList(iVar),iDataHist,0)\n",
    "    lDM.setVal(1.+iScale)\n",
    "    lHUp = lHPdf.createHistogram(\"x\")\n",
    "    lHUp.Scale(lInt)\n",
    "    lUp = r.RooDataHist(iDataHist.GetName()+\"_smearUp\",iDataHist.GetName()+\"_smearUp\", r.RooArgList(iVar),lHUp)    \n",
    "    lDM.setVal(1.-iScale)\n",
    "    lHDown = lHPdf.createHistogram(\"x\")\n",
    "    lHDown.Scale(lInt)\n",
    "    lDown  = r.RooDataHist(iDataHist.GetName()+\"_smearDown\",iDataHist.GetName()+\"_smearDown\", r.RooArgList(iVar),lHDown)\n",
    "    return [lUp,lDown] "
   ]
  }
 ],
 "metadata": {
  "kernelspec": {
   "display_name": "statistics-das",
   "language": "python",
   "name": "statistics-das"
  },
  "language_info": {
   "codemirror_mode": {
    "name": "ipython",
    "version": 2
   },
   "file_extension": ".py",
   "mimetype": "text/x-python",
   "name": "python",
   "nbconvert_exporter": "python",
   "pygments_lexer": "ipython2",
   "version": "2.7.14+"
  }
 },
 "nbformat": 4,
 "nbformat_minor": 4
}

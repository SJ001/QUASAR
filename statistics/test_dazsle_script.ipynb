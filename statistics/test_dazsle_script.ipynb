{
 "cells": [
  {
   "cell_type": "code",
   "execution_count": 3,
   "metadata": {},
   "outputs": [
    {
     "name": "stdout",
     "output_type": "stream",
     "text": [
      "diffNuisances run on fitDiagnostics.root, at 2020-04-24 13:14:49.263403 with the following options ... {'absolute_values': False, 'show_all_parameters': True, 'format': 'text', 'stol2': 0.5, 'pullDef': '', 'vtol': 0.3, 'stol': 0.1, 'plotfile': None, 'vtol2': 2.0, 'poi': 'r'}\n",
      "\n",
      "name                                              b-only fit            s+b fit         rho\n",
      "lumi                                          ! +0.50, 0.23!     ! +0.23, 0.24!       -0.29\n"
     ]
    }
   ],
   "source": [
    "%%bash\n",
    "python diffNuisances.py fitDiagnostics.root --all"
   ]
  },
  {
   "cell_type": "code",
   "execution_count": null,
   "metadata": {},
   "outputs": [],
   "source": []
  }
 ],
 "metadata": {
  "kernelspec": {
   "display_name": "statistics-das",
   "language": "python",
   "name": "statistics-das"
  },
  "language_info": {
   "codemirror_mode": {
    "name": "ipython",
    "version": 2
   },
   "file_extension": ".py",
   "mimetype": "text/x-python",
   "name": "python",
   "nbconvert_exporter": "python",
   "pygments_lexer": "ipython2",
   "version": "2.7.14+"
  }
 },
 "nbformat": 4,
 "nbformat_minor": 4
}
